{
 "cells": [
  {
   "cell_type": "markdown",
   "id": "b63693a4",
   "metadata": {},
   "source": [
    "## Data Analysis "
   ]
  },
  {
   "cell_type": "markdown",
   "id": "13a7f43c",
   "metadata": {},
   "source": [
    "## Data\n",
    "\n",
    "World Value Survey (2017-2022)\n",
    "\n",
    "Country: Japan\n",
    "\n",
    "Year: 2019\n"
   ]
  },
  {
   "cell_type": "code",
   "execution_count": 101,
   "id": "35174395",
   "metadata": {},
   "outputs": [],
   "source": [
    "import pandas as pd\n",
    "import numpy as np"
   ]
  },
  {
   "cell_type": "code",
   "execution_count": 102,
   "id": "b92c9459",
   "metadata": {
    "scrolled": false
   },
   "outputs": [
    {
     "name": "stderr",
     "output_type": "stream",
     "text": [
      "C:\\ProgramData\\Anaconda3\\envs\\text_m\\lib\\site-packages\\openpyxl\\styles\\stylesheet.py:214: UserWarning: Workbook contains no default style, apply openpyxl's default\n",
      "  warn(\"Workbook contains no default style, apply openpyxl's default\")\n"
     ]
    },
    {
     "data": {
      "text/html": [
       "<div>\n",
       "<style scoped>\n",
       "    .dataframe tbody tr th:only-of-type {\n",
       "        vertical-align: middle;\n",
       "    }\n",
       "\n",
       "    .dataframe tbody tr th {\n",
       "        vertical-align: top;\n",
       "    }\n",
       "\n",
       "    .dataframe thead th {\n",
       "        text-align: right;\n",
       "    }\n",
       "</style>\n",
       "<table border=\"1\" class=\"dataframe\">\n",
       "  <thead>\n",
       "    <tr style=\"text-align: right;\">\n",
       "      <th></th>\n",
       "      <th>version: Version of Data File</th>\n",
       "      <th>doi: Digital Object Identifier</th>\n",
       "      <th>B_COUNTRY: ISO 3166-1 numeric country code</th>\n",
       "      <th>B_COUNTRY_ALPHA: ISO 3166-1 alpha-3 country code</th>\n",
       "      <th>C_COW_NUM: CoW country code numeric</th>\n",
       "      <th>C_COW_ALPHA: CoW country code alpha</th>\n",
       "      <th>A_YEAR: Year of survey</th>\n",
       "      <th>D_INTERVIEW: Interview ID</th>\n",
       "      <th>J_INTDATE: Date of interview</th>\n",
       "      <th>FW_END: Year/month of end-fieldwork</th>\n",
       "      <th>...</th>\n",
       "      <th>WEIGHT4A: Overall Secular Values-4: Weight 4a</th>\n",
       "      <th>WEIGHT4B: Emancipative Values-4: Weight 4b</th>\n",
       "      <th>RESEMAVALBWGT: Weight for Emancipative values</th>\n",
       "      <th>RESEMAVALWGT: Weight for Emancipative values</th>\n",
       "      <th>SECVALBWGT: Weight for overall secular values Short Version</th>\n",
       "      <th>Y001_1: Materialist/postmaterialist 12-item index: Component 1</th>\n",
       "      <th>Y001_2: Materialist/postmaterialist 12-item index: Component 2</th>\n",
       "      <th>Y001_3: Materialist/postmaterialist 12-item index: Component 3</th>\n",
       "      <th>Y001_4: Materialist/postmaterialist 12-item index: Component 4</th>\n",
       "      <th>Y001_5: Materialist/postmaterialist 12-item index: Component 5</th>\n",
       "    </tr>\n",
       "  </thead>\n",
       "  <tbody>\n",
       "    <tr>\n",
       "      <th>0</th>\n",
       "      <td>1-5-0 (2020-11-16)</td>\n",
       "      <td>doi.org/10.14281/18241.1</td>\n",
       "      <td>Japan</td>\n",
       "      <td>JPN</td>\n",
       "      <td>Japan</td>\n",
       "      <td>JPN</td>\n",
       "      <td>2019</td>\n",
       "      <td>Japan</td>\n",
       "      <td>2019 September</td>\n",
       "      <td>Jan 2017 to Dec 2021</td>\n",
       "      <td>...</td>\n",
       "      <td>Complete</td>\n",
       "      <td>Complete</td>\n",
       "      <td>0-1</td>\n",
       "      <td>0-1</td>\n",
       "      <td>0-1</td>\n",
       "      <td>1</td>\n",
       "      <td>1</td>\n",
       "      <td>1</td>\n",
       "      <td>0</td>\n",
       "      <td>1</td>\n",
       "    </tr>\n",
       "    <tr>\n",
       "      <th>1</th>\n",
       "      <td>1-5-0 (2020-11-16)</td>\n",
       "      <td>doi.org/10.14281/18241.1</td>\n",
       "      <td>Japan</td>\n",
       "      <td>JPN</td>\n",
       "      <td>Japan</td>\n",
       "      <td>JPN</td>\n",
       "      <td>2019</td>\n",
       "      <td>Japan</td>\n",
       "      <td>2019 September</td>\n",
       "      <td>Jan 2017 to Dec 2021</td>\n",
       "      <td>...</td>\n",
       "      <td>Complete</td>\n",
       "      <td>Complete</td>\n",
       "      <td>0-1</td>\n",
       "      <td>0-1</td>\n",
       "      <td>0-1</td>\n",
       "      <td>1</td>\n",
       "      <td>1</td>\n",
       "      <td>0</td>\n",
       "      <td>1</td>\n",
       "      <td>1</td>\n",
       "    </tr>\n",
       "    <tr>\n",
       "      <th>2</th>\n",
       "      <td>1-5-0 (2020-11-16)</td>\n",
       "      <td>doi.org/10.14281/18241.1</td>\n",
       "      <td>Japan</td>\n",
       "      <td>JPN</td>\n",
       "      <td>Japan</td>\n",
       "      <td>JPN</td>\n",
       "      <td>2019</td>\n",
       "      <td>Japan</td>\n",
       "      <td>2019 September</td>\n",
       "      <td>Jan 2017 to Dec 2021</td>\n",
       "      <td>...</td>\n",
       "      <td>Complete</td>\n",
       "      <td>Complete</td>\n",
       "      <td>0-1</td>\n",
       "      <td>0-1</td>\n",
       "      <td>0-1</td>\n",
       "      <td>0</td>\n",
       "      <td>0</td>\n",
       "      <td>1</td>\n",
       "      <td>0</td>\n",
       "      <td>1</td>\n",
       "    </tr>\n",
       "    <tr>\n",
       "      <th>3</th>\n",
       "      <td>1-5-0 (2020-11-16)</td>\n",
       "      <td>doi.org/10.14281/18241.1</td>\n",
       "      <td>Japan</td>\n",
       "      <td>JPN</td>\n",
       "      <td>Japan</td>\n",
       "      <td>JPN</td>\n",
       "      <td>2019</td>\n",
       "      <td>Japan</td>\n",
       "      <td>2019 September</td>\n",
       "      <td>Jan 2017 to Dec 2021</td>\n",
       "      <td>...</td>\n",
       "      <td>Complete</td>\n",
       "      <td>Complete</td>\n",
       "      <td>0-1</td>\n",
       "      <td>0-1</td>\n",
       "      <td>0-1</td>\n",
       "      <td>1</td>\n",
       "      <td>1</td>\n",
       "      <td>1</td>\n",
       "      <td>0</td>\n",
       "      <td>1</td>\n",
       "    </tr>\n",
       "    <tr>\n",
       "      <th>4</th>\n",
       "      <td>1-5-0 (2020-11-16)</td>\n",
       "      <td>doi.org/10.14281/18241.1</td>\n",
       "      <td>Japan</td>\n",
       "      <td>JPN</td>\n",
       "      <td>Japan</td>\n",
       "      <td>JPN</td>\n",
       "      <td>2019</td>\n",
       "      <td>Japan</td>\n",
       "      <td>2019 September</td>\n",
       "      <td>Jan 2017 to Dec 2021</td>\n",
       "      <td>...</td>\n",
       "      <td>Complete</td>\n",
       "      <td>Incomplete</td>\n",
       "      <td>0-1</td>\n",
       "      <td>0-1</td>\n",
       "      <td>0-1</td>\n",
       "      <td>-2</td>\n",
       "      <td>-2</td>\n",
       "      <td>-2</td>\n",
       "      <td>-2</td>\n",
       "      <td>-2</td>\n",
       "    </tr>\n",
       "  </tbody>\n",
       "</table>\n",
       "<p>5 rows × 397 columns</p>\n",
       "</div>"
      ],
      "text/plain": [
       "  version: Version of Data File doi: Digital Object Identifier  \\\n",
       "0            1-5-0 (2020-11-16)       doi.org/10.14281/18241.1   \n",
       "1            1-5-0 (2020-11-16)       doi.org/10.14281/18241.1   \n",
       "2            1-5-0 (2020-11-16)       doi.org/10.14281/18241.1   \n",
       "3            1-5-0 (2020-11-16)       doi.org/10.14281/18241.1   \n",
       "4            1-5-0 (2020-11-16)       doi.org/10.14281/18241.1   \n",
       "\n",
       "  B_COUNTRY: ISO 3166-1 numeric country code  \\\n",
       "0                                      Japan   \n",
       "1                                      Japan   \n",
       "2                                      Japan   \n",
       "3                                      Japan   \n",
       "4                                      Japan   \n",
       "\n",
       "  B_COUNTRY_ALPHA: ISO 3166-1 alpha-3 country code  \\\n",
       "0                                              JPN   \n",
       "1                                              JPN   \n",
       "2                                              JPN   \n",
       "3                                              JPN   \n",
       "4                                              JPN   \n",
       "\n",
       "  C_COW_NUM: CoW country code numeric C_COW_ALPHA: CoW country code alpha  \\\n",
       "0                               Japan                                 JPN   \n",
       "1                               Japan                                 JPN   \n",
       "2                               Japan                                 JPN   \n",
       "3                               Japan                                 JPN   \n",
       "4                               Japan                                 JPN   \n",
       "\n",
       "   A_YEAR: Year of survey D_INTERVIEW: Interview ID  \\\n",
       "0                    2019                     Japan   \n",
       "1                    2019                     Japan   \n",
       "2                    2019                     Japan   \n",
       "3                    2019                     Japan   \n",
       "4                    2019                     Japan   \n",
       "\n",
       "  J_INTDATE: Date of interview FW_END: Year/month of end-fieldwork  ...  \\\n",
       "0               2019 September                Jan 2017 to Dec 2021  ...   \n",
       "1               2019 September                Jan 2017 to Dec 2021  ...   \n",
       "2               2019 September                Jan 2017 to Dec 2021  ...   \n",
       "3               2019 September                Jan 2017 to Dec 2021  ...   \n",
       "4               2019 September                Jan 2017 to Dec 2021  ...   \n",
       "\n",
       "  WEIGHT4A: Overall Secular Values-4: Weight 4a  \\\n",
       "0                                      Complete   \n",
       "1                                      Complete   \n",
       "2                                      Complete   \n",
       "3                                      Complete   \n",
       "4                                      Complete   \n",
       "\n",
       "  WEIGHT4B: Emancipative Values-4: Weight 4b  \\\n",
       "0                                   Complete   \n",
       "1                                   Complete   \n",
       "2                                   Complete   \n",
       "3                                   Complete   \n",
       "4                                 Incomplete   \n",
       "\n",
       "  RESEMAVALBWGT: Weight for Emancipative values  \\\n",
       "0                                           0-1   \n",
       "1                                           0-1   \n",
       "2                                           0-1   \n",
       "3                                           0-1   \n",
       "4                                           0-1   \n",
       "\n",
       "  RESEMAVALWGT: Weight for Emancipative values  \\\n",
       "0                                          0-1   \n",
       "1                                          0-1   \n",
       "2                                          0-1   \n",
       "3                                          0-1   \n",
       "4                                          0-1   \n",
       "\n",
       "  SECVALBWGT: Weight for overall secular values Short Version  \\\n",
       "0                                                0-1            \n",
       "1                                                0-1            \n",
       "2                                                0-1            \n",
       "3                                                0-1            \n",
       "4                                                0-1            \n",
       "\n",
       "  Y001_1: Materialist/postmaterialist 12-item index: Component 1  \\\n",
       "0                                                  1               \n",
       "1                                                  1               \n",
       "2                                                  0               \n",
       "3                                                  1               \n",
       "4                                                 -2               \n",
       "\n",
       "  Y001_2: Materialist/postmaterialist 12-item index: Component 2  \\\n",
       "0                                                  1               \n",
       "1                                                  1               \n",
       "2                                                  0               \n",
       "3                                                  1               \n",
       "4                                                 -2               \n",
       "\n",
       "  Y001_3: Materialist/postmaterialist 12-item index: Component 3  \\\n",
       "0                                                  1               \n",
       "1                                                  0               \n",
       "2                                                  1               \n",
       "3                                                  1               \n",
       "4                                                 -2               \n",
       "\n",
       "  Y001_4: Materialist/postmaterialist 12-item index: Component 4  \\\n",
       "0                                                  0               \n",
       "1                                                  1               \n",
       "2                                                  0               \n",
       "3                                                  0               \n",
       "4                                                 -2               \n",
       "\n",
       "  Y001_5: Materialist/postmaterialist 12-item index: Component 5  \n",
       "0                                                  1              \n",
       "1                                                  1              \n",
       "2                                                  1              \n",
       "3                                                  1              \n",
       "4                                                 -2              \n",
       "\n",
       "[5 rows x 397 columns]"
      ]
     },
     "execution_count": 102,
     "metadata": {},
     "output_type": "execute_result"
    }
   ],
   "source": [
    "data = pd.read_excel(\"C:/Users/ЛИЗА/Documents/F00010889-WVS_Wave_7_Japan_ExcelTxt_v2.0.xlsx\")\n",
    "data.head()"
   ]
  },
  {
   "cell_type": "code",
   "execution_count": 103,
   "id": "d4892511",
   "metadata": {},
   "outputs": [
    {
     "name": "stdout",
     "output_type": "stream",
     "text": [
      "(1353, 397)\n"
     ]
    }
   ],
   "source": [
    "print(data.shape)"
   ]
  },
  {
   "cell_type": "markdown",
   "id": "9c8fc854",
   "metadata": {},
   "source": [
    "### Impotring excel data. By the shape, we can see that we have 397 columns - variables - and 1353 rows - cases. But we do not need all of them"
   ]
  },
  {
   "cell_type": "markdown",
   "id": "10d6c22f",
   "metadata": {},
   "source": [
    "## (1) Data Preparation"
   ]
  },
  {
   "cell_type": "markdown",
   "id": "e31e4f6d",
   "metadata": {},
   "source": [
    "I selected some questions which I treat as suitable here. Let's start by looking at what types of answers we can get to these questions, how diverse the data is."
   ]
  },
  {
   "cell_type": "code",
   "execution_count": 104,
   "id": "9b7cdc7f",
   "metadata": {},
   "outputs": [
    {
     "data": {
      "text/plain": [
       "Quite happy         790\n",
       "Very happy          405\n",
       "Not very happy      120\n",
       "Don´t know           26\n",
       "Not at all happy      9\n",
       "No answer             3\n",
       "Name: Q46: Feeling of happiness, dtype: int64"
      ]
     },
     "execution_count": 104,
     "metadata": {},
     "output_type": "execute_result"
    }
   ],
   "source": [
    "data['Q46: Feeling of happiness'].value_counts()"
   ]
  },
  {
   "cell_type": "code",
   "execution_count": 105,
   "id": "d8fa6553",
   "metadata": {},
   "outputs": [
    {
     "data": {
      "text/plain": [
       "8                          347\n",
       "7                          304\n",
       "6                          157\n",
       "5                          150\n",
       "9                          131\n",
       "4                           76\n",
       "Completely satisfied        67\n",
       "3                           60\n",
       "2                           23\n",
       "Completely dissatisfied     15\n",
       "No answer                   15\n",
       "Don´t know                   8\n",
       "Name: Q49: Satisfaction with your life, dtype: int64"
      ]
     },
     "execution_count": 105,
     "metadata": {},
     "output_type": "execute_result"
    }
   ],
   "source": [
    "data['Q49: Satisfaction with your life'].value_counts()"
   ]
  },
  {
   "cell_type": "code",
   "execution_count": 106,
   "id": "a483e1b6",
   "metadata": {},
   "outputs": [
    {
     "data": {
      "text/plain": [
       "Quite secure         753\n",
       "Not very secure      476\n",
       "Not at all secure     62\n",
       "Very Secure           39\n",
       "Don´t know            16\n",
       "No answer              7\n",
       "Name: Q131: Secure in neighborhood, dtype: int64"
      ]
     },
     "execution_count": 106,
     "metadata": {},
     "output_type": "execute_result"
    }
   ],
   "source": [
    "data['Q131: Secure in neighborhood'].value_counts()"
   ]
  },
  {
   "cell_type": "code",
   "execution_count": 107,
   "id": "f0015487",
   "metadata": {},
   "outputs": [
    {
     "data": {
      "text/plain": [
       "Good          506\n",
       "Fair          488\n",
       "Very good     187\n",
       "Poor          145\n",
       "Very poor      15\n",
       "Don´t know     10\n",
       "No answer       2\n",
       "Name: Q47: State of health (subjective), dtype: int64"
      ]
     },
     "execution_count": 107,
     "metadata": {},
     "output_type": "execute_result"
    }
   ],
   "source": [
    "data['Q47: State of health (subjective)'].value_counts()"
   ]
  },
  {
   "cell_type": "code",
   "execution_count": 108,
   "id": "500e035c",
   "metadata": {},
   "outputs": [
    {
     "data": {
      "text/plain": [
       "Don't belong       1179\n",
       "Inactive member     109\n",
       "Active member        48\n",
       "No answer            17\n",
       "Name: Q94: Active/Inactive membership: church or religious org, dtype: int64"
      ]
     },
     "execution_count": 108,
     "metadata": {},
     "output_type": "execute_result"
    }
   ],
   "source": [
    "data['Q94: Active/Inactive membership: church or religious org'].value_counts()"
   ]
  },
  {
   "cell_type": "code",
   "execution_count": 109,
   "id": "cffe53d3",
   "metadata": {},
   "outputs": [
    {
     "data": {
      "text/plain": [
       "Daily                804\n",
       "Never                301\n",
       "Weekly               155\n",
       "Less than monthly     34\n",
       "Monthly               33\n",
       "No answer             26\n",
       "Name: Q206: Information source: Internet, dtype: int64"
      ]
     },
     "execution_count": 109,
     "metadata": {},
     "output_type": "execute_result"
    }
   ],
   "source": [
    "data['Q206: Information source: Internet'].value_counts()"
   ]
  },
  {
   "cell_type": "code",
   "execution_count": 110,
   "id": "969364b5",
   "metadata": {},
   "outputs": [
    {
     "data": {
      "text/plain": [
       "Married                       980\n",
       "Single                        173\n",
       "Widowed                       100\n",
       "Divorced                       68\n",
       "Living together as married     14\n",
       "No answer                      13\n",
       "Separated                       5\n",
       "Name: Q273: Marital status, dtype: int64"
      ]
     },
     "execution_count": 110,
     "metadata": {},
     "output_type": "execute_result"
    }
   ],
   "source": [
    "data['Q273: Marital status'].value_counts()"
   ]
  },
  {
   "cell_type": "code",
   "execution_count": 111,
   "id": "76950374",
   "metadata": {},
   "outputs": [
    {
     "data": {
      "text/plain": [
       "2 children                                    594\n",
       "No children                                   255\n",
       "3 children                                    251\n",
       "1 child                                       190\n",
       "4 children                                     38\n",
       "Other missing; Multiple answers Mail (EVS)     19\n",
       "5 children                                      3\n",
       "6 children                                      2\n",
       "7 or more children                              1\n",
       "Name: Q274: How many children do you have, dtype: int64"
      ]
     },
     "execution_count": 111,
     "metadata": {},
     "output_type": "execute_result"
    }
   ],
   "source": [
    "data['Q274: How many children do you have'].value_counts()"
   ]
  },
  {
   "cell_type": "code",
   "execution_count": 112,
   "id": "a90a2055",
   "metadata": {},
   "outputs": [
    {
     "data": {
      "text/plain": [
       "Female    763\n",
       "Male      590\n",
       "Name: Q260: Sex, dtype: int64"
      ]
     },
     "execution_count": 112,
     "metadata": {},
     "output_type": "execute_result"
    }
   ],
   "source": [
    "data['Q260: Sex'].value_counts()"
   ]
  },
  {
   "cell_type": "code",
   "execution_count": 113,
   "id": "6fddf652",
   "metadata": {},
   "outputs": [
    {
     "data": {
      "text/plain": [
       "Freedom       772\n",
       "Equality      462\n",
       "Don´t know    115\n",
       "No answer       4\n",
       "Name: Q149: Freedom and Equality - Which more important, dtype: int64"
      ]
     },
     "execution_count": 113,
     "metadata": {},
     "output_type": "execute_result"
    }
   ],
   "source": [
    "data['Q149: Freedom and Equality - Which more important'].value_counts()"
   ]
  },
  {
   "cell_type": "markdown",
   "id": "5ddd635d",
   "metadata": {},
   "source": [
    "Now I am dropping all the variables I do not need and renaming my variables for better readability."
   ]
  },
  {
   "cell_type": "code",
   "execution_count": 114,
   "id": "91faa47e",
   "metadata": {},
   "outputs": [
    {
     "data": {
      "text/html": [
       "<div>\n",
       "<style scoped>\n",
       "    .dataframe tbody tr th:only-of-type {\n",
       "        vertical-align: middle;\n",
       "    }\n",
       "\n",
       "    .dataframe tbody tr th {\n",
       "        vertical-align: top;\n",
       "    }\n",
       "\n",
       "    .dataframe thead th {\n",
       "        text-align: right;\n",
       "    }\n",
       "</style>\n",
       "<table border=\"1\" class=\"dataframe\">\n",
       "  <thead>\n",
       "    <tr style=\"text-align: right;\">\n",
       "      <th></th>\n",
       "      <th>happiness</th>\n",
       "      <th>satisfaction</th>\n",
       "      <th>security_neighborhood</th>\n",
       "      <th>health</th>\n",
       "      <th>church_member</th>\n",
       "      <th>internet_source</th>\n",
       "      <th>marital_status</th>\n",
       "      <th>children_num</th>\n",
       "      <th>sex</th>\n",
       "      <th>freedom_equality</th>\n",
       "    </tr>\n",
       "  </thead>\n",
       "  <tbody>\n",
       "    <tr>\n",
       "      <th>0</th>\n",
       "      <td>Quite happy</td>\n",
       "      <td>7</td>\n",
       "      <td>Not very secure</td>\n",
       "      <td>Good</td>\n",
       "      <td>Don't belong</td>\n",
       "      <td>Daily</td>\n",
       "      <td>Married</td>\n",
       "      <td>2 children</td>\n",
       "      <td>Male</td>\n",
       "      <td>Freedom</td>\n",
       "    </tr>\n",
       "    <tr>\n",
       "      <th>1</th>\n",
       "      <td>Quite happy</td>\n",
       "      <td>8</td>\n",
       "      <td>Quite secure</td>\n",
       "      <td>Good</td>\n",
       "      <td>Don't belong</td>\n",
       "      <td>Never</td>\n",
       "      <td>Married</td>\n",
       "      <td>3 children</td>\n",
       "      <td>Male</td>\n",
       "      <td>Equality</td>\n",
       "    </tr>\n",
       "    <tr>\n",
       "      <th>2</th>\n",
       "      <td>Quite happy</td>\n",
       "      <td>7</td>\n",
       "      <td>Not very secure</td>\n",
       "      <td>Good</td>\n",
       "      <td>Inactive member</td>\n",
       "      <td>Daily</td>\n",
       "      <td>Married</td>\n",
       "      <td>3 children</td>\n",
       "      <td>Male</td>\n",
       "      <td>Freedom</td>\n",
       "    </tr>\n",
       "    <tr>\n",
       "      <th>3</th>\n",
       "      <td>Not at all happy</td>\n",
       "      <td>Completely dissatisfied</td>\n",
       "      <td>Not at all secure</td>\n",
       "      <td>Poor</td>\n",
       "      <td>Don't belong</td>\n",
       "      <td>No answer</td>\n",
       "      <td>Widowed</td>\n",
       "      <td>2 children</td>\n",
       "      <td>Female</td>\n",
       "      <td>Freedom</td>\n",
       "    </tr>\n",
       "    <tr>\n",
       "      <th>4</th>\n",
       "      <td>Very happy</td>\n",
       "      <td>9</td>\n",
       "      <td>Not at all secure</td>\n",
       "      <td>Good</td>\n",
       "      <td>Don't belong</td>\n",
       "      <td>Daily</td>\n",
       "      <td>Married</td>\n",
       "      <td>2 children</td>\n",
       "      <td>Female</td>\n",
       "      <td>Don´t know</td>\n",
       "    </tr>\n",
       "  </tbody>\n",
       "</table>\n",
       "</div>"
      ],
      "text/plain": [
       "          happiness             satisfaction security_neighborhood health  \\\n",
       "0       Quite happy                        7       Not very secure   Good   \n",
       "1       Quite happy                        8          Quite secure   Good   \n",
       "2       Quite happy                        7       Not very secure   Good   \n",
       "3  Not at all happy  Completely dissatisfied     Not at all secure   Poor   \n",
       "4        Very happy                        9     Not at all secure   Good   \n",
       "\n",
       "     church_member internet_source marital_status children_num     sex  \\\n",
       "0     Don't belong           Daily        Married   2 children    Male   \n",
       "1     Don't belong           Never        Married   3 children    Male   \n",
       "2  Inactive member           Daily        Married   3 children    Male   \n",
       "3     Don't belong       No answer        Widowed   2 children  Female   \n",
       "4     Don't belong           Daily        Married   2 children  Female   \n",
       "\n",
       "  freedom_equality  \n",
       "0          Freedom  \n",
       "1         Equality  \n",
       "2          Freedom  \n",
       "3          Freedom  \n",
       "4       Don´t know  "
      ]
     },
     "execution_count": 114,
     "metadata": {},
     "output_type": "execute_result"
    }
   ],
   "source": [
    "data = data[['Q46: Feeling of happiness', 'Q49: Satisfaction with your life', 'Q131: Secure in neighborhood', 'Q47: State of health (subjective)', 'Q94: Active/Inactive membership: church or religious org', 'Q206: Information source: Internet', 'Q273: Marital status', 'Q274: How many children do you have', 'Q260: Sex', 'Q149: Freedom and Equality - Which more important']]\n",
    "data.rename(columns = {'Q46: Feeling of happiness': 'happiness', 'Q49: Satisfaction with your life': 'satisfaction', 'Q131: Secure in neighborhood': 'security_neighborhood', 'Q47: State of health (subjective)': 'health', 'Q94: Active/Inactive membership: church or religious org': 'church_member', 'Q206: Information source: Internet': 'internet_source', 'Q273: Marital status': 'marital_status', 'Q274: How many children do you have': 'children_num', 'Q260: Sex': 'sex', 'Q149: Freedom and Equality - Which more important': 'freedom_equality'}, inplace=True)\n",
    "data.head()"
   ]
  },
  {
   "cell_type": "markdown",
   "id": "b2adc694",
   "metadata": {},
   "source": [
    "Above we saw that in some cases people tend to answer **'Don't know'** or no response at all **'No answer'** or **'Other missing; Multiple answers Mail (EVS)'**. Given that we cannot classify these answers into any category, and also that there are few answers given relative to the total number of cases, I will treat such answers as missings. Here I replace these answers with NA."
   ]
  },
  {
   "cell_type": "code",
   "execution_count": 115,
   "id": "e991e4c1",
   "metadata": {},
   "outputs": [],
   "source": [
    "cols = ['happiness', 'satisfaction', 'security_neighborhood', 'health', 'church_member', 'internet_source', 'marital_status', 'children_num', 'sex', 'freedom_equality']\n",
    "data[cols] = data[cols].replace({'Don´t know':np.nan, 'No answer':np.nan, 'Other missing; Multiple answers Mail (EVS)':np.nan})"
   ]
  },
  {
   "cell_type": "markdown",
   "id": "6ef95f54",
   "metadata": {},
   "source": [
    "Now let's look ow many nas we have in our data."
   ]
  },
  {
   "cell_type": "code",
   "execution_count": 116,
   "id": "1cb3efb0",
   "metadata": {},
   "outputs": [
    {
     "data": {
      "text/plain": [
       "happiness                 29\n",
       "satisfaction              23\n",
       "security_neighborhood     23\n",
       "health                    12\n",
       "church_member             17\n",
       "internet_source           26\n",
       "marital_status            13\n",
       "children_num              19\n",
       "sex                        0\n",
       "freedom_equality         119\n",
       "dtype: int64"
      ]
     },
     "execution_count": 116,
     "metadata": {},
     "output_type": "execute_result"
    }
   ],
   "source": [
    "data.isnull().sum()"
   ]
  },
  {
   "cell_type": "markdown",
   "id": "7bd387f6",
   "metadata": {},
   "source": [
    "data_h = data[['happiness', 'security_neighborhood', 'health', 'church_member', 'internet_source', 'marital_status', 'children_num', 'sex', 'freedom_equality']]\n",
    "data_h = data_h.dropna()\n",
    "data_h"
   ]
  },
  {
   "cell_type": "markdown",
   "id": "aeaf7f0a",
   "metadata": {},
   "source": [
    "Not too large numbers. The largest number of lost data falls on the **freedom_equality** variable.\n",
    "\n",
    "I decided to make satisfaction as an output variable, because questions Are you satisfied with life now? and Are you happy now? are quite different; people most likely perceive them in diverse ways. When we ask about happiness, people are, probably, subject to some kind of bias, where they evaluate more emotions at the current moment and tend to anwer more positively. The life satisfaction question is more about some sort of rational calculation, so I expect the variables I've chosen to fit life satisfaction better. \n",
    "\n",
    "So let's save our data as **data_s** and drop all our nas.\n",
    "\n",
    "We had 1353 cases and now we left with only **1142 cases and 9 columns**."
   ]
  },
  {
   "cell_type": "code",
   "execution_count": 117,
   "id": "acfa8e6b",
   "metadata": {},
   "outputs": [
    {
     "data": {
      "text/html": [
       "<div>\n",
       "<style scoped>\n",
       "    .dataframe tbody tr th:only-of-type {\n",
       "        vertical-align: middle;\n",
       "    }\n",
       "\n",
       "    .dataframe tbody tr th {\n",
       "        vertical-align: top;\n",
       "    }\n",
       "\n",
       "    .dataframe thead th {\n",
       "        text-align: right;\n",
       "    }\n",
       "</style>\n",
       "<table border=\"1\" class=\"dataframe\">\n",
       "  <thead>\n",
       "    <tr style=\"text-align: right;\">\n",
       "      <th></th>\n",
       "      <th>satisfaction</th>\n",
       "      <th>security_neighborhood</th>\n",
       "      <th>health</th>\n",
       "      <th>church_member</th>\n",
       "      <th>internet_source</th>\n",
       "      <th>marital_status</th>\n",
       "      <th>children_num</th>\n",
       "      <th>sex</th>\n",
       "      <th>freedom_equality</th>\n",
       "    </tr>\n",
       "  </thead>\n",
       "  <tbody>\n",
       "    <tr>\n",
       "      <th>0</th>\n",
       "      <td>7</td>\n",
       "      <td>Not very secure</td>\n",
       "      <td>Good</td>\n",
       "      <td>Don't belong</td>\n",
       "      <td>Daily</td>\n",
       "      <td>Married</td>\n",
       "      <td>2 children</td>\n",
       "      <td>Male</td>\n",
       "      <td>Freedom</td>\n",
       "    </tr>\n",
       "    <tr>\n",
       "      <th>1</th>\n",
       "      <td>8</td>\n",
       "      <td>Quite secure</td>\n",
       "      <td>Good</td>\n",
       "      <td>Don't belong</td>\n",
       "      <td>Never</td>\n",
       "      <td>Married</td>\n",
       "      <td>3 children</td>\n",
       "      <td>Male</td>\n",
       "      <td>Equality</td>\n",
       "    </tr>\n",
       "    <tr>\n",
       "      <th>2</th>\n",
       "      <td>7</td>\n",
       "      <td>Not very secure</td>\n",
       "      <td>Good</td>\n",
       "      <td>Inactive member</td>\n",
       "      <td>Daily</td>\n",
       "      <td>Married</td>\n",
       "      <td>3 children</td>\n",
       "      <td>Male</td>\n",
       "      <td>Freedom</td>\n",
       "    </tr>\n",
       "    <tr>\n",
       "      <th>5</th>\n",
       "      <td>5</td>\n",
       "      <td>Not at all secure</td>\n",
       "      <td>Good</td>\n",
       "      <td>Don't belong</td>\n",
       "      <td>Never</td>\n",
       "      <td>Married</td>\n",
       "      <td>3 children</td>\n",
       "      <td>Female</td>\n",
       "      <td>Freedom</td>\n",
       "    </tr>\n",
       "    <tr>\n",
       "      <th>6</th>\n",
       "      <td>6</td>\n",
       "      <td>Quite secure</td>\n",
       "      <td>Fair</td>\n",
       "      <td>Don't belong</td>\n",
       "      <td>Never</td>\n",
       "      <td>Married</td>\n",
       "      <td>2 children</td>\n",
       "      <td>Female</td>\n",
       "      <td>Freedom</td>\n",
       "    </tr>\n",
       "    <tr>\n",
       "      <th>...</th>\n",
       "      <td>...</td>\n",
       "      <td>...</td>\n",
       "      <td>...</td>\n",
       "      <td>...</td>\n",
       "      <td>...</td>\n",
       "      <td>...</td>\n",
       "      <td>...</td>\n",
       "      <td>...</td>\n",
       "      <td>...</td>\n",
       "    </tr>\n",
       "    <tr>\n",
       "      <th>1348</th>\n",
       "      <td>9</td>\n",
       "      <td>Not very secure</td>\n",
       "      <td>Good</td>\n",
       "      <td>Inactive member</td>\n",
       "      <td>Daily</td>\n",
       "      <td>Married</td>\n",
       "      <td>3 children</td>\n",
       "      <td>Female</td>\n",
       "      <td>Equality</td>\n",
       "    </tr>\n",
       "    <tr>\n",
       "      <th>1349</th>\n",
       "      <td>8</td>\n",
       "      <td>Quite secure</td>\n",
       "      <td>Fair</td>\n",
       "      <td>Inactive member</td>\n",
       "      <td>Daily</td>\n",
       "      <td>Married</td>\n",
       "      <td>2 children</td>\n",
       "      <td>Male</td>\n",
       "      <td>Freedom</td>\n",
       "    </tr>\n",
       "    <tr>\n",
       "      <th>1350</th>\n",
       "      <td>8</td>\n",
       "      <td>Quite secure</td>\n",
       "      <td>Poor</td>\n",
       "      <td>Don't belong</td>\n",
       "      <td>Daily</td>\n",
       "      <td>Married</td>\n",
       "      <td>2 children</td>\n",
       "      <td>Male</td>\n",
       "      <td>Freedom</td>\n",
       "    </tr>\n",
       "    <tr>\n",
       "      <th>1351</th>\n",
       "      <td>8</td>\n",
       "      <td>Quite secure</td>\n",
       "      <td>Good</td>\n",
       "      <td>Don't belong</td>\n",
       "      <td>Daily</td>\n",
       "      <td>Married</td>\n",
       "      <td>2 children</td>\n",
       "      <td>Male</td>\n",
       "      <td>Equality</td>\n",
       "    </tr>\n",
       "    <tr>\n",
       "      <th>1352</th>\n",
       "      <td>4</td>\n",
       "      <td>Not very secure</td>\n",
       "      <td>Fair</td>\n",
       "      <td>Don't belong</td>\n",
       "      <td>Daily</td>\n",
       "      <td>Single</td>\n",
       "      <td>No children</td>\n",
       "      <td>Female</td>\n",
       "      <td>Freedom</td>\n",
       "    </tr>\n",
       "  </tbody>\n",
       "</table>\n",
       "<p>1142 rows × 9 columns</p>\n",
       "</div>"
      ],
      "text/plain": [
       "     satisfaction security_neighborhood health    church_member  \\\n",
       "0               7       Not very secure   Good     Don't belong   \n",
       "1               8          Quite secure   Good     Don't belong   \n",
       "2               7       Not very secure   Good  Inactive member   \n",
       "5               5     Not at all secure   Good     Don't belong   \n",
       "6               6          Quite secure   Fair     Don't belong   \n",
       "...           ...                   ...    ...              ...   \n",
       "1348            9       Not very secure   Good  Inactive member   \n",
       "1349            8          Quite secure   Fair  Inactive member   \n",
       "1350            8          Quite secure   Poor     Don't belong   \n",
       "1351            8          Quite secure   Good     Don't belong   \n",
       "1352            4       Not very secure   Fair     Don't belong   \n",
       "\n",
       "     internet_source marital_status children_num     sex freedom_equality  \n",
       "0              Daily        Married   2 children    Male          Freedom  \n",
       "1              Never        Married   3 children    Male         Equality  \n",
       "2              Daily        Married   3 children    Male          Freedom  \n",
       "5              Never        Married   3 children  Female          Freedom  \n",
       "6              Never        Married   2 children  Female          Freedom  \n",
       "...              ...            ...          ...     ...              ...  \n",
       "1348           Daily        Married   3 children  Female         Equality  \n",
       "1349           Daily        Married   2 children    Male          Freedom  \n",
       "1350           Daily        Married   2 children    Male          Freedom  \n",
       "1351           Daily        Married   2 children    Male         Equality  \n",
       "1352           Daily         Single  No children  Female          Freedom  \n",
       "\n",
       "[1142 rows x 9 columns]"
      ]
     },
     "execution_count": 117,
     "metadata": {},
     "output_type": "execute_result"
    }
   ],
   "source": [
    "data_s = data[['satisfaction', 'security_neighborhood', 'health', 'church_member', 'internet_source', 'marital_status', 'children_num', 'sex', 'freedom_equality']]\n",
    "data_s = data_s.dropna()\n",
    "data_s"
   ]
  },
  {
   "cell_type": "markdown",
   "id": "db1df9a5",
   "metadata": {},
   "source": [
    "I will do logistic regression, so my outcome variable **satisfaction** should be binary. Firstly, I recoded it completely to numbers (10-scale), then I divided the variable in half: responses from 1 to 5 reflect the spectrum with low life satisfaction, I coded them as 0, responses from 6 to 10 are high levels of satisfaction with life, coded as 1. \n",
    "\n",
    "Also it was necessary to recode the variable about **the number of children**: all categories were converted to numbers, and the type of the variable was changed to numeric."
   ]
  },
  {
   "cell_type": "code",
   "execution_count": 118,
   "id": "08470fbd",
   "metadata": {},
   "outputs": [
    {
     "data": {
      "text/plain": [
       "satisfaction             object\n",
       "security_neighborhood    object\n",
       "health                   object\n",
       "church_member            object\n",
       "internet_source          object\n",
       "marital_status           object\n",
       "children_num              int32\n",
       "sex                      object\n",
       "freedom_equality         object\n",
       "dtype: object"
      ]
     },
     "execution_count": 118,
     "metadata": {},
     "output_type": "execute_result"
    }
   ],
   "source": [
    "data_s['satisfaction'].mask(data_s['satisfaction'] == 'Completely satisfied', '10', inplace=True)\n",
    "data_s['satisfaction'].mask(data_s['satisfaction'] == 'Completely dissatisfied', '1', inplace=True)\n",
    "data_s[\"satisfaction\"] = data_s[\"satisfaction\"].astype(str).astype(int)\n",
    "data_s[\"satisfaction\"] = np.where(data_s[\"satisfaction\"] <= 5, '0', '1')\n",
    "data_s['children_num'] = np.where((data_s.children_num == 'No children'), 0, data_s.children_num)\n",
    "data_s['children_num'] = np.where((data_s.children_num == '1 child'), 1, data_s.children_num)\n",
    "data_s['children_num'] = np.where((data_s.children_num == '2 children'), 2, data_s.children_num)\n",
    "data_s['children_num'] = np.where((data_s.children_num == '3 children'), 3, data_s.children_num)\n",
    "data_s['children_num'] = np.where((data_s.children_num == '4 children'), 4, data_s.children_num)\n",
    "data_s['children_num'] = np.where((data_s.children_num == '5 children'), 5, data_s.children_num)\n",
    "data_s['children_num'] = np.where((data_s.children_num == '6 children'), 6, data_s.children_num)\n",
    "data_s['children_num'] = np.where((data_s.children_num == '7 or more children'), 7, data_s.children_num)\n",
    "data_s['children_num'] = data_s['children_num'].astype(int)\n",
    "data_s.dtypes"
   ]
  },
  {
   "cell_type": "markdown",
   "id": "74c778ba",
   "metadata": {},
   "source": [
    "Now let's look at distributions, frequencies and plots of our variables. \n",
    "\n",
    "Again, they are 9, the number of cases are 1142."
   ]
  },
  {
   "cell_type": "code",
   "execution_count": 119,
   "id": "cd81d4d6",
   "metadata": {},
   "outputs": [
    {
     "name": "stdout",
     "output_type": "stream",
     "text": [
      "(1142, 9)\n"
     ]
    },
    {
     "data": {
      "text/html": [
       "<div>\n",
       "<style scoped>\n",
       "    .dataframe tbody tr th:only-of-type {\n",
       "        vertical-align: middle;\n",
       "    }\n",
       "\n",
       "    .dataframe tbody tr th {\n",
       "        vertical-align: top;\n",
       "    }\n",
       "\n",
       "    .dataframe thead th {\n",
       "        text-align: right;\n",
       "    }\n",
       "</style>\n",
       "<table border=\"1\" class=\"dataframe\">\n",
       "  <thead>\n",
       "    <tr style=\"text-align: right;\">\n",
       "      <th></th>\n",
       "      <th>children_num</th>\n",
       "    </tr>\n",
       "  </thead>\n",
       "  <tbody>\n",
       "    <tr>\n",
       "      <th>count</th>\n",
       "      <td>1142.000000</td>\n",
       "    </tr>\n",
       "    <tr>\n",
       "      <th>mean</th>\n",
       "      <td>1.744308</td>\n",
       "    </tr>\n",
       "    <tr>\n",
       "      <th>std</th>\n",
       "      <td>1.100290</td>\n",
       "    </tr>\n",
       "    <tr>\n",
       "      <th>min</th>\n",
       "      <td>0.000000</td>\n",
       "    </tr>\n",
       "    <tr>\n",
       "      <th>25%</th>\n",
       "      <td>1.000000</td>\n",
       "    </tr>\n",
       "    <tr>\n",
       "      <th>50%</th>\n",
       "      <td>2.000000</td>\n",
       "    </tr>\n",
       "    <tr>\n",
       "      <th>75%</th>\n",
       "      <td>2.000000</td>\n",
       "    </tr>\n",
       "    <tr>\n",
       "      <th>max</th>\n",
       "      <td>7.000000</td>\n",
       "    </tr>\n",
       "  </tbody>\n",
       "</table>\n",
       "</div>"
      ],
      "text/plain": [
       "       children_num\n",
       "count   1142.000000\n",
       "mean       1.744308\n",
       "std        1.100290\n",
       "min        0.000000\n",
       "25%        1.000000\n",
       "50%        2.000000\n",
       "75%        2.000000\n",
       "max        7.000000"
      ]
     },
     "execution_count": 119,
     "metadata": {},
     "output_type": "execute_result"
    }
   ],
   "source": [
    "print(data_s.shape)\n",
    "data_s.describe()"
   ]
  },
  {
   "cell_type": "code",
   "execution_count": 120,
   "id": "d67c7e3e",
   "metadata": {},
   "outputs": [
    {
     "data": {
      "text/plain": [
       "2    514\n",
       "0    216\n",
       "3    211\n",
       "1    161\n",
       "4     34\n",
       "5      3\n",
       "6      2\n",
       "7      1\n",
       "Name: children_num, dtype: int64"
      ]
     },
     "execution_count": 120,
     "metadata": {},
     "output_type": "execute_result"
    }
   ],
   "source": [
    "data_s['children_num'].value_counts()"
   ]
  },
  {
   "cell_type": "code",
   "execution_count": 121,
   "id": "21d0de3b",
   "metadata": {},
   "outputs": [
    {
     "data": {
      "text/plain": [
       "<AxesSubplot:>"
      ]
     },
     "execution_count": 121,
     "metadata": {},
     "output_type": "execute_result"
    },
    {
     "data": {
      "image/png": "[encoded data removed]",
      "text/plain": [
       "<Figure size 432x288 with 1 Axes>"
      ]
     },
     "metadata": {
      "needs_background": "light"
     },
     "output_type": "display_data"
    }
   ],
   "source": [
    "data_s['children_num'].hist()"
   ]
  },
  {
   "cell_type": "markdown",
   "id": "52d5cfe2",
   "metadata": {},
   "source": [
    "Our single numeric variable is **the number of children**. \n",
    "\n",
    "Q274- Have you had children? If yes, how many?\n",
    "\n",
    "From the table with properties of distribution we can see that it ranges from 0 to 7 with the mean of 1.74 and standard deviation of 1.1. By the histogram, we can confirm that the distribution of the variable is far from normal, take a look at the long right tail. "
   ]
  },
  {
   "cell_type": "code",
   "execution_count": 122,
   "id": "baa2f0bc",
   "metadata": {},
   "outputs": [
    {
     "data": {
      "text/plain": [
       "1    880\n",
       "0    262\n",
       "Name: satisfaction, dtype: int64"
      ]
     },
     "execution_count": 122,
     "metadata": {},
     "output_type": "execute_result"
    }
   ],
   "source": [
    "data_s['satisfaction'].value_counts()"
   ]
  },
  {
   "cell_type": "code",
   "execution_count": 123,
   "id": "f7dcdfb1",
   "metadata": {},
   "outputs": [
    {
     "data": {
      "text/plain": [
       "<AxesSubplot:>"
      ]
     },
     "execution_count": 123,
     "metadata": {},
     "output_type": "execute_result"
    },
    {
     "data": {
      "image/png": "[encoded data removed]",
      "text/plain": [
       "<Figure size 432x288 with 1 Axes>"
      ]
     },
     "metadata": {
      "needs_background": "light"
     },
     "output_type": "display_data"
    }
   ],
   "source": [
    "data_s['satisfaction'].value_counts().plot(kind='barh')"
   ]
  },
  {
   "cell_type": "code",
   "execution_count": 124,
   "id": "0f491a24",
   "metadata": {},
   "outputs": [
    {
     "data": {
      "text/plain": [
       "Quite secure         655\n",
       "Not very secure      406\n",
       "Not at all secure     47\n",
       "Very Secure           34\n",
       "Name: security_neighborhood, dtype: int64"
      ]
     },
     "execution_count": 124,
     "metadata": {},
     "output_type": "execute_result"
    }
   ],
   "source": [
    "data_s['security_neighborhood'].value_counts()"
   ]
  },
  {
   "cell_type": "code",
   "execution_count": 125,
   "id": "cc747ebc",
   "metadata": {},
   "outputs": [
    {
     "data": {
      "text/plain": [
       "<AxesSubplot:>"
      ]
     },
     "execution_count": 125,
     "metadata": {},
     "output_type": "execute_result"
    },
    {
     "data": {
      "image/png": "[encoded data removed]",
      "text/plain": [
       "<Figure size 432x288 with 1 Axes>"
      ]
     },
     "metadata": {
      "needs_background": "light"
     },
     "output_type": "display_data"
    }
   ],
   "source": [
    "data_s['security_neighborhood'].value_counts().plot(kind='barh')"
   ]
  },
  {
   "cell_type": "code",
   "execution_count": 126,
   "id": "88f82ce3",
   "metadata": {},
   "outputs": [
    {
     "data": {
      "text/plain": [
       "Good         439\n",
       "Fair         411\n",
       "Very good    159\n",
       "Poor         120\n",
       "Very poor     13\n",
       "Name: health, dtype: int64"
      ]
     },
     "execution_count": 126,
     "metadata": {},
     "output_type": "execute_result"
    }
   ],
   "source": [
    "data_s['health'].value_counts()"
   ]
  },
  {
   "cell_type": "code",
   "execution_count": 127,
   "id": "25018746",
   "metadata": {},
   "outputs": [
    {
     "data": {
      "text/plain": [
       "<AxesSubplot:>"
      ]
     },
     "execution_count": 127,
     "metadata": {},
     "output_type": "execute_result"
    },
    {
     "data": {
      "image/png": "[encoded data removed]",
      "text/plain": [
       "<Figure size 432x288 with 1 Axes>"
      ]
     },
     "metadata": {
      "needs_background": "light"
     },
     "output_type": "display_data"
    }
   ],
   "source": [
    "data_s['health'].value_counts().plot(kind='barh')"
   ]
  },
  {
   "cell_type": "code",
   "execution_count": 128,
   "id": "6d9403f9",
   "metadata": {},
   "outputs": [
    {
     "data": {
      "text/plain": [
       "Don't belong       1008\n",
       "Inactive member      96\n",
       "Active member        38\n",
       "Name: church_member, dtype: int64"
      ]
     },
     "execution_count": 128,
     "metadata": {},
     "output_type": "execute_result"
    }
   ],
   "source": [
    "data_s['church_member'].value_counts()"
   ]
  },
  {
   "cell_type": "code",
   "execution_count": 129,
   "id": "45b4e5c0",
   "metadata": {},
   "outputs": [
    {
     "data": {
      "text/plain": [
       "<AxesSubplot:>"
      ]
     },
     "execution_count": 129,
     "metadata": {},
     "output_type": "execute_result"
    },
    {
     "data": {
      "image/png": "[encoded data removed]",
      "text/plain": [
       "<Figure size 432x288 with 1 Axes>"
      ]
     },
     "metadata": {
      "needs_background": "light"
     },
     "output_type": "display_data"
    }
   ],
   "source": [
    "data_s['church_member'].value_counts().plot(kind='barh')"
   ]
  },
  {
   "cell_type": "code",
   "execution_count": 130,
   "id": "f9828b97",
   "metadata": {},
   "outputs": [
    {
     "data": {
      "text/plain": [
       "Daily                705\n",
       "Never                245\n",
       "Weekly               136\n",
       "Monthly               29\n",
       "Less than monthly     27\n",
       "Name: internet_source, dtype: int64"
      ]
     },
     "execution_count": 130,
     "metadata": {},
     "output_type": "execute_result"
    }
   ],
   "source": [
    "data_s['internet_source'].value_counts()"
   ]
  },
  {
   "cell_type": "code",
   "execution_count": 131,
   "id": "336ac364",
   "metadata": {},
   "outputs": [
    {
     "data": {
      "text/plain": [
       "<AxesSubplot:>"
      ]
     },
     "execution_count": 131,
     "metadata": {},
     "output_type": "execute_result"
    },
    {
     "data": {
      "image/png": "[encoded data removed]",
      "text/plain": [
       "<Figure size 432x288 with 1 Axes>"
      ]
     },
     "metadata": {
      "needs_background": "light"
     },
     "output_type": "display_data"
    }
   ],
   "source": [
    "data_s['internet_source'].value_counts().plot(kind='barh')"
   ]
  },
  {
   "cell_type": "code",
   "execution_count": 132,
   "id": "392dc6db",
   "metadata": {},
   "outputs": [
    {
     "data": {
      "text/plain": [
       "Married                       850\n",
       "Single                        138\n",
       "Widowed                        78\n",
       "Divorced                       60\n",
       "Living together as married     11\n",
       "Separated                       5\n",
       "Name: marital_status, dtype: int64"
      ]
     },
     "execution_count": 132,
     "metadata": {},
     "output_type": "execute_result"
    }
   ],
   "source": [
    "data_s['marital_status'].value_counts()"
   ]
  },
  {
   "cell_type": "code",
   "execution_count": 133,
   "id": "209382ee",
   "metadata": {},
   "outputs": [
    {
     "data": {
      "text/plain": [
       "<AxesSubplot:>"
      ]
     },
     "execution_count": 133,
     "metadata": {},
     "output_type": "execute_result"
    },
    {
     "data": {
      "image/png": "[encoded data removed]",
      "text/plain": [
       "<Figure size 432x288 with 1 Axes>"
      ]
     },
     "metadata": {
      "needs_background": "light"
     },
     "output_type": "display_data"
    }
   ],
   "source": [
    "data_s['marital_status'].value_counts().plot(kind='barh')"
   ]
  },
  {
   "cell_type": "code",
   "execution_count": 134,
   "id": "d3b15d6c",
   "metadata": {},
   "outputs": [
    {
     "data": {
      "text/plain": [
       "Female    627\n",
       "Male      515\n",
       "Name: sex, dtype: int64"
      ]
     },
     "execution_count": 134,
     "metadata": {},
     "output_type": "execute_result"
    }
   ],
   "source": [
    "data_s['sex'].value_counts()"
   ]
  },
  {
   "cell_type": "code",
   "execution_count": 135,
   "id": "7f33e38a",
   "metadata": {},
   "outputs": [
    {
     "data": {
      "text/plain": [
       "<AxesSubplot:>"
      ]
     },
     "execution_count": 135,
     "metadata": {},
     "output_type": "execute_result"
    },
    {
     "data": {
      "image/png": "[encoded data removed]",
      "text/plain": [
       "<Figure size 432x288 with 1 Axes>"
      ]
     },
     "metadata": {
      "needs_background": "light"
     },
     "output_type": "display_data"
    }
   ],
   "source": [
    "data_s['sex'].value_counts().plot(kind='barh')"
   ]
  },
  {
   "cell_type": "code",
   "execution_count": 136,
   "id": "b4d0249b",
   "metadata": {},
   "outputs": [
    {
     "data": {
      "text/plain": [
       "Freedom     719\n",
       "Equality    423\n",
       "Name: freedom_equality, dtype: int64"
      ]
     },
     "execution_count": 136,
     "metadata": {},
     "output_type": "execute_result"
    }
   ],
   "source": [
    "data_s['freedom_equality'].value_counts()"
   ]
  },
  {
   "cell_type": "code",
   "execution_count": 137,
   "id": "2a3bdac7",
   "metadata": {},
   "outputs": [
    {
     "data": {
      "text/plain": [
       "<AxesSubplot:>"
      ]
     },
     "execution_count": 137,
     "metadata": {},
     "output_type": "execute_result"
    },
    {
     "data": {
      "image/png": "[encoded data removed]",
      "text/plain": [
       "<Figure size 432x288 with 1 Axes>"
      ]
     },
     "metadata": {
      "needs_background": "light"
     },
     "output_type": "display_data"
    }
   ],
   "source": [
    "data_s['freedom_equality'].value_counts().plot(kind='barh')"
   ]
  },
  {
   "cell_type": "markdown",
   "id": "296821cd",
   "metadata": {},
   "source": [
    "Here is a short description of our categorical variables.\n",
    "\n",
    "(1) **security_neighborhood**\n",
    "\n",
    "Q131- Could you tell me how secure do you feel these days in your neighborhood?\n",
    "\n",
    "This variable has 4 levels. People tend to avoid extremes and answer moderately - 'quite secure' and 'not very secure'. In the than half of cases, people think that they live in a quite secure neighborhood.\n",
    "\n",
    "This variable was chosen because people are primarily concerned with safety and security, which are basic needs, and only then with additional needs and comfort.\n",
    "\n",
    "(2) **health**\n",
    "\n",
    "Q47- All in all, how would you describe your state of health these days?\n",
    "\n",
    "This variable is expressed in 5 levels. Again, most often people rate their health in the moderate categories - 'fair' and 'good'. However, the responses are dominated by positive assessments. \n",
    "\n",
    "Health is a rather personal factor, like family relationships or income. Health is one of the first things that affects the quality of life, and hence the subjective assessment of this quality.\n",
    "\n",
    "(3) **church_member**\n",
    "\n",
    "Q94- Now I am going to read out a list of voluntary organizations; for each one, could you tell me whether you are a\n",
    "member, an active member, an inactive member or not a member of that type of organization? Church or religious\n",
    "organization\n",
    "\n",
    "The variable reflects the person's belonging to a religious organization. This belonging is expressed in 3 levels. Very rarely people are active participants in organizations, in most cases they do not even belong to them. \n",
    "\n",
    "The variable seems important to me because, using the example of a religious organization, it reflects the presence around a person of people who are close in lifestyle or views. It seems to me that the presence of a circle of close people and the inclusion of a person in some social group can affect life satisfaction.\n",
    "\n",
    "(4) **internet_source**\n",
    "\n",
    "Q206- People learn what is going on in this country and the world from various sources. For each of the following sources,\n",
    "please indicate whether you use it to obtain information daily, weekly, monthly, less than monthly or never: Internet\n",
    "\n",
    "The variable reflects the frequency of using the Internet as a source of information in 5 levels. The vast majority of respondents - 705 - use the Internet daily. \n",
    "\n",
    "I assume the internet is a source with a more diverse set of opinions. There, people have to deal with alternative opinions (in relation to their own) more often than if a person received information from TV, social networks or acquaintances. In the latter cases, people are more likely to fall into information bubbles.\n",
    "\n",
    "(5) **marital_status**\n",
    "\n",
    "Q273- Are you currently ....\n",
    "\n",
    "Marital status has 6 categories, married people are the majority. This variable is again in the category of personal factors, like health.\n",
    "\n",
    "(6) **sex**\n",
    "\n",
    "Q260- Sex\n",
    "\n",
    "2 levels. There are slightly more women than men. (was chosen purely for interaction, other than that no expectations)\n",
    "\n",
    "(7) **freedom_equality**\n",
    "\n",
    "Q149- Most people consider both freedom and equality to be important, but if you had to choose between them, which one\n",
    "would you consider more important?\n",
    "\n",
    "In the survey, people were asked to choose what is more important to them, freedom or equality. 719 respondents out of 1142 (majority) chose freedom. \n",
    "\n",
    "The variable is interesting because here we see what people prioritize in life. That is, how they perceive things can affect their satisfaction with life. I see equality as something more mundane than freedom, the first is more reflected in some basic things, and the second in the spiritual.\n",
    "\n",
    "(8) **satisfaction**\n",
    "\n",
    "Q49- All things considered, how satisfied are you with your life as a whole these days? Please use this card to help with\n",
    "your answer.\n",
    "\n",
    "From the bar chart we can see that the majority of respondents - 880 - consider that they are satisfied with their life. We remember that all 880 respondents answered from 6 to 10 to tis question, so it would be more accurate to say that that people state the high level of saticfaction with their life. "
   ]
  },
  {
   "cell_type": "markdown",
   "id": "14db58e3",
   "metadata": {},
   "source": [
    "### Hypotheses:\n",
    "\n",
    "In fact, excluding the sex and number of children variables, the remaining variables can be divided into 2 conditional groups: some personal and basic needs - such as the safety of the neighborhood, one's own health and family relationships (marital status) - and something that is slightly further from a person, which depends more on the outside world than on the person himself/herself - membership in a religious organization, information that a person consumes from the Internet, his/her worldview. If the influence of the first group of factors can be universal for everyone, then the more developed the country, the more factors that are more distant from a person begin to influence one's satisfaction with life, because now one is not closed only on himself/herself and on a narrow circle of needs, one's needs are more diverse (if not these factors, then possibly some other similar ones). Japan is such a developed country. **The research question** is whether the impact of non-basic needs would be significant when controlling for basic needs in a developed country like Japan in subjective assessment of life satisfaction?\n",
    "\n",
    "I can formulate several hypotheses:\n",
    "\n",
    "+ The safer a person feels in the neighborhood, the more likely one is satisfied with life. \n",
    "+ The better a person evaluates own health, the more likely one is satisfied with life. \n",
    "+ The greater the level of involvement of a person in a religious organization, the more likely one is satisfied with life. \n",
    "+ The more often a person uses the Internet as a source of information, the less likely one is satisfied with life. \n",
    "+ The more favorable the marital status of a person (married, living together as married, and so on), the more likely one is satisfied with life. \n",
    "+ Men are more likely satisfied with life than women. \n",
    "+ The more children, the more likely one is satisfied with life. \n",
    "+ People who prefer equality to freedom will be more likely satisfied with life.\n",
    "+ Person's sex moderate the influence of the number of children on the satisfaction with life. Women with more children are more likely to be satisfied with life."
   ]
  },
  {
   "cell_type": "markdown",
   "id": "bbb67e5f",
   "metadata": {},
   "source": [
    "## (2) Descriptive statistics"
   ]
  },
  {
   "cell_type": "markdown",
   "id": "0030ddbe",
   "metadata": {},
   "source": [
    "Let's make simple bivariate tests to discover the nature of the relations in my data – among the outcome and the predictors. We will make a chi-square teats for pairs of categorical variables and t-test for one pair of categorical (outcome) and numeric (predictor) variables. \n",
    "\n",
    "Chi-square test shows whether there is a difference between real and hypothetical data.\n",
    "\n",
    "I generate a crosstable between each of the predictors and the satisfaction, then apply the chi-square test."
   ]
  },
  {
   "cell_type": "code",
   "execution_count": 138,
   "id": "1f020eb1",
   "metadata": {},
   "outputs": [
    {
     "name": "stdout",
     "output_type": "stream",
     "text": [
      "(8.886308290144322, 0.0028731708744415283, 1)\n"
     ]
    },
    {
     "data": {
      "text/html": [
       "<div>\n",
       "<style scoped>\n",
       "    .dataframe tbody tr th:only-of-type {\n",
       "        vertical-align: middle;\n",
       "    }\n",
       "\n",
       "    .dataframe tbody tr th {\n",
       "        vertical-align: top;\n",
       "    }\n",
       "\n",
       "    .dataframe thead th {\n",
       "        text-align: right;\n",
       "    }\n",
       "</style>\n",
       "<table border=\"1\" class=\"dataframe\">\n",
       "  <thead>\n",
       "    <tr style=\"text-align: right;\">\n",
       "      <th>freedom_equality</th>\n",
       "      <th>Equality</th>\n",
       "      <th>Freedom</th>\n",
       "      <th>All</th>\n",
       "    </tr>\n",
       "    <tr>\n",
       "      <th>satisfaction</th>\n",
       "      <th></th>\n",
       "      <th></th>\n",
       "      <th></th>\n",
       "    </tr>\n",
       "  </thead>\n",
       "  <tbody>\n",
       "    <tr>\n",
       "      <th>0</th>\n",
       "      <td>118</td>\n",
       "      <td>144</td>\n",
       "      <td>262</td>\n",
       "    </tr>\n",
       "    <tr>\n",
       "      <th>1</th>\n",
       "      <td>305</td>\n",
       "      <td>575</td>\n",
       "      <td>880</td>\n",
       "    </tr>\n",
       "    <tr>\n",
       "      <th>All</th>\n",
       "      <td>423</td>\n",
       "      <td>719</td>\n",
       "      <td>1142</td>\n",
       "    </tr>\n",
       "  </tbody>\n",
       "</table>\n",
       "</div>"
      ],
      "text/plain": [
       "freedom_equality  Equality  Freedom   All\n",
       "satisfaction                             \n",
       "0                      118      144   262\n",
       "1                      305      575   880\n",
       "All                    423      719  1142"
      ]
     },
     "execution_count": 138,
     "metadata": {},
     "output_type": "execute_result"
    }
   ],
   "source": [
    "s_FrEq = pd.crosstab(data_s.satisfaction, data_s.freedom_equality, margins=True)\n",
    "from scipy import stats\n",
    "obs = np.array([s_FrEq.iloc[0][0:2].values,\n",
    "                  s_FrEq.iloc[1][0:2].values])\n",
    "print(stats.chi2_contingency(obs)[0:3])\n",
    "s_FrEq"
   ]
  },
  {
   "cell_type": "code",
   "execution_count": 139,
   "id": "b87e9628",
   "metadata": {},
   "outputs": [
    {
     "name": "stdout",
     "output_type": "stream",
     "text": [
      "(2.142011714498134, 0.14331384975484257, 1)\n"
     ]
    },
    {
     "data": {
      "text/html": [
       "<div>\n",
       "<style scoped>\n",
       "    .dataframe tbody tr th:only-of-type {\n",
       "        vertical-align: middle;\n",
       "    }\n",
       "\n",
       "    .dataframe tbody tr th {\n",
       "        vertical-align: top;\n",
       "    }\n",
       "\n",
       "    .dataframe thead th {\n",
       "        text-align: right;\n",
       "    }\n",
       "</style>\n",
       "<table border=\"1\" class=\"dataframe\">\n",
       "  <thead>\n",
       "    <tr style=\"text-align: right;\">\n",
       "      <th>sex</th>\n",
       "      <th>Female</th>\n",
       "      <th>Male</th>\n",
       "      <th>All</th>\n",
       "    </tr>\n",
       "    <tr>\n",
       "      <th>satisfaction</th>\n",
       "      <th></th>\n",
       "      <th></th>\n",
       "      <th></th>\n",
       "    </tr>\n",
       "  </thead>\n",
       "  <tbody>\n",
       "    <tr>\n",
       "      <th>0</th>\n",
       "      <td>133</td>\n",
       "      <td>129</td>\n",
       "      <td>262</td>\n",
       "    </tr>\n",
       "    <tr>\n",
       "      <th>1</th>\n",
       "      <td>494</td>\n",
       "      <td>386</td>\n",
       "      <td>880</td>\n",
       "    </tr>\n",
       "    <tr>\n",
       "      <th>All</th>\n",
       "      <td>627</td>\n",
       "      <td>515</td>\n",
       "      <td>1142</td>\n",
       "    </tr>\n",
       "  </tbody>\n",
       "</table>\n",
       "</div>"
      ],
      "text/plain": [
       "sex           Female  Male   All\n",
       "satisfaction                    \n",
       "0                133   129   262\n",
       "1                494   386   880\n",
       "All              627   515  1142"
      ]
     },
     "execution_count": 139,
     "metadata": {},
     "output_type": "execute_result"
    }
   ],
   "source": [
    "s_sex = pd.crosstab(data_s.satisfaction, data_s.sex, margins=True)\n",
    "obs = np.array([s_sex.iloc[0][0:2].values,\n",
    "                  s_sex.iloc[1][0:2].values])\n",
    "print(stats.chi2_contingency(obs)[0:3])\n",
    "s_sex"
   ]
  },
  {
   "cell_type": "code",
   "execution_count": 140,
   "id": "93b8602c",
   "metadata": {},
   "outputs": [
    {
     "name": "stdout",
     "output_type": "stream",
     "text": [
      "(0.0, 1.0, 1)\n"
     ]
    },
    {
     "data": {
      "text/html": [
       "<div>\n",
       "<style scoped>\n",
       "    .dataframe tbody tr th:only-of-type {\n",
       "        vertical-align: middle;\n",
       "    }\n",
       "\n",
       "    .dataframe tbody tr th {\n",
       "        vertical-align: top;\n",
       "    }\n",
       "\n",
       "    .dataframe thead th {\n",
       "        text-align: right;\n",
       "    }\n",
       "</style>\n",
       "<table border=\"1\" class=\"dataframe\">\n",
       "  <thead>\n",
       "    <tr style=\"text-align: right;\">\n",
       "      <th>marital_status</th>\n",
       "      <th>Divorced</th>\n",
       "      <th>Living together as married</th>\n",
       "      <th>Married</th>\n",
       "      <th>Separated</th>\n",
       "      <th>Single</th>\n",
       "      <th>Widowed</th>\n",
       "      <th>All</th>\n",
       "    </tr>\n",
       "    <tr>\n",
       "      <th>satisfaction</th>\n",
       "      <th></th>\n",
       "      <th></th>\n",
       "      <th></th>\n",
       "      <th></th>\n",
       "      <th></th>\n",
       "      <th></th>\n",
       "      <th></th>\n",
       "    </tr>\n",
       "  </thead>\n",
       "  <tbody>\n",
       "    <tr>\n",
       "      <th>0</th>\n",
       "      <td>24</td>\n",
       "      <td>4</td>\n",
       "      <td>179</td>\n",
       "      <td>2</td>\n",
       "      <td>40</td>\n",
       "      <td>13</td>\n",
       "      <td>262</td>\n",
       "    </tr>\n",
       "    <tr>\n",
       "      <th>1</th>\n",
       "      <td>36</td>\n",
       "      <td>7</td>\n",
       "      <td>671</td>\n",
       "      <td>3</td>\n",
       "      <td>98</td>\n",
       "      <td>65</td>\n",
       "      <td>880</td>\n",
       "    </tr>\n",
       "    <tr>\n",
       "      <th>All</th>\n",
       "      <td>60</td>\n",
       "      <td>11</td>\n",
       "      <td>850</td>\n",
       "      <td>5</td>\n",
       "      <td>138</td>\n",
       "      <td>78</td>\n",
       "      <td>1142</td>\n",
       "    </tr>\n",
       "  </tbody>\n",
       "</table>\n",
       "</div>"
      ],
      "text/plain": [
       "marital_status  Divorced  Living together as married  Married  Separated  \\\n",
       "satisfaction                                                               \n",
       "0                     24                           4      179          2   \n",
       "1                     36                           7      671          3   \n",
       "All                   60                          11      850          5   \n",
       "\n",
       "marital_status  Single  Widowed   All  \n",
       "satisfaction                           \n",
       "0                   40       13   262  \n",
       "1                   98       65   880  \n",
       "All                138       78  1142  "
      ]
     },
     "execution_count": 140,
     "metadata": {},
     "output_type": "execute_result"
    }
   ],
   "source": [
    "s_mar = pd.crosstab(data_s.satisfaction, data_s.marital_status, margins=True)\n",
    "obs = np.array([s_mar.iloc[0][0:2].values,\n",
    "                  s_mar.iloc[1][0:2].values])\n",
    "print(stats.chi2_contingency(obs)[0:3])\n",
    "s_mar"
   ]
  },
  {
   "cell_type": "code",
   "execution_count": 141,
   "id": "e9c07101",
   "metadata": {},
   "outputs": [
    {
     "name": "stdout",
     "output_type": "stream",
     "text": [
      "(0.0, 1.0, 1)\n"
     ]
    },
    {
     "data": {
      "text/html": [
       "<div>\n",
       "<style scoped>\n",
       "    .dataframe tbody tr th:only-of-type {\n",
       "        vertical-align: middle;\n",
       "    }\n",
       "\n",
       "    .dataframe tbody tr th {\n",
       "        vertical-align: top;\n",
       "    }\n",
       "\n",
       "    .dataframe thead th {\n",
       "        text-align: right;\n",
       "    }\n",
       "</style>\n",
       "<table border=\"1\" class=\"dataframe\">\n",
       "  <thead>\n",
       "    <tr style=\"text-align: right;\">\n",
       "      <th>internet_source</th>\n",
       "      <th>Daily</th>\n",
       "      <th>Less than monthly</th>\n",
       "      <th>Monthly</th>\n",
       "      <th>Never</th>\n",
       "      <th>Weekly</th>\n",
       "      <th>All</th>\n",
       "    </tr>\n",
       "    <tr>\n",
       "      <th>satisfaction</th>\n",
       "      <th></th>\n",
       "      <th></th>\n",
       "      <th></th>\n",
       "      <th></th>\n",
       "      <th></th>\n",
       "      <th></th>\n",
       "    </tr>\n",
       "  </thead>\n",
       "  <tbody>\n",
       "    <tr>\n",
       "      <th>0</th>\n",
       "      <td>147</td>\n",
       "      <td>6</td>\n",
       "      <td>7</td>\n",
       "      <td>64</td>\n",
       "      <td>38</td>\n",
       "      <td>262</td>\n",
       "    </tr>\n",
       "    <tr>\n",
       "      <th>1</th>\n",
       "      <td>558</td>\n",
       "      <td>21</td>\n",
       "      <td>22</td>\n",
       "      <td>181</td>\n",
       "      <td>98</td>\n",
       "      <td>880</td>\n",
       "    </tr>\n",
       "    <tr>\n",
       "      <th>All</th>\n",
       "      <td>705</td>\n",
       "      <td>27</td>\n",
       "      <td>29</td>\n",
       "      <td>245</td>\n",
       "      <td>136</td>\n",
       "      <td>1142</td>\n",
       "    </tr>\n",
       "  </tbody>\n",
       "</table>\n",
       "</div>"
      ],
      "text/plain": [
       "internet_source  Daily  Less than monthly  Monthly  Never  Weekly   All\n",
       "satisfaction                                                           \n",
       "0                  147                  6        7     64      38   262\n",
       "1                  558                 21       22    181      98   880\n",
       "All                705                 27       29    245     136  1142"
      ]
     },
     "execution_count": 141,
     "metadata": {},
     "output_type": "execute_result"
    }
   ],
   "source": [
    "s_internet = pd.crosstab(data_s.satisfaction, data_s.internet_source, margins=True)\n",
    "obs = np.array([s_internet.iloc[0][0:2].values,\n",
    "                  s_internet.iloc[1][0:2].values])\n",
    "print(stats.chi2_contingency(obs)[0:3])\n",
    "s_internet"
   ]
  },
  {
   "cell_type": "code",
   "execution_count": 142,
   "id": "0f087ef3",
   "metadata": {},
   "outputs": [
    {
     "name": "stdout",
     "output_type": "stream",
     "text": [
      "(1.7605837365437518, 0.18455172220923882, 1)\n"
     ]
    },
    {
     "data": {
      "text/html": [
       "<div>\n",
       "<style scoped>\n",
       "    .dataframe tbody tr th:only-of-type {\n",
       "        vertical-align: middle;\n",
       "    }\n",
       "\n",
       "    .dataframe tbody tr th {\n",
       "        vertical-align: top;\n",
       "    }\n",
       "\n",
       "    .dataframe thead th {\n",
       "        text-align: right;\n",
       "    }\n",
       "</style>\n",
       "<table border=\"1\" class=\"dataframe\">\n",
       "  <thead>\n",
       "    <tr style=\"text-align: right;\">\n",
       "      <th>church_member</th>\n",
       "      <th>Active member</th>\n",
       "      <th>Don't belong</th>\n",
       "      <th>Inactive member</th>\n",
       "      <th>All</th>\n",
       "    </tr>\n",
       "    <tr>\n",
       "      <th>satisfaction</th>\n",
       "      <th></th>\n",
       "      <th></th>\n",
       "      <th></th>\n",
       "      <th></th>\n",
       "    </tr>\n",
       "  </thead>\n",
       "  <tbody>\n",
       "    <tr>\n",
       "      <th>0</th>\n",
       "      <td>5</td>\n",
       "      <td>240</td>\n",
       "      <td>17</td>\n",
       "      <td>262</td>\n",
       "    </tr>\n",
       "    <tr>\n",
       "      <th>1</th>\n",
       "      <td>33</td>\n",
       "      <td>768</td>\n",
       "      <td>79</td>\n",
       "      <td>880</td>\n",
       "    </tr>\n",
       "    <tr>\n",
       "      <th>All</th>\n",
       "      <td>38</td>\n",
       "      <td>1008</td>\n",
       "      <td>96</td>\n",
       "      <td>1142</td>\n",
       "    </tr>\n",
       "  </tbody>\n",
       "</table>\n",
       "</div>"
      ],
      "text/plain": [
       "church_member  Active member  Don't belong  Inactive member   All\n",
       "satisfaction                                                     \n",
       "0                          5           240               17   262\n",
       "1                         33           768               79   880\n",
       "All                       38          1008               96  1142"
      ]
     },
     "execution_count": 142,
     "metadata": {},
     "output_type": "execute_result"
    }
   ],
   "source": [
    "s_church = pd.crosstab(data_s.satisfaction, data_s.church_member, margins=True)\n",
    "obs = np.array([s_church.iloc[0][0:2].values,\n",
    "                  s_church.iloc[1][0:2].values])\n",
    "print(stats.chi2_contingency(obs)[0:3])\n",
    "s_church"
   ]
  },
  {
   "cell_type": "code",
   "execution_count": 143,
   "id": "0ee3766a",
   "metadata": {},
   "outputs": [
    {
     "name": "stdout",
     "output_type": "stream",
     "text": [
      "(26.193715520206595, 3.088259425333657e-07, 1)\n"
     ]
    },
    {
     "data": {
      "text/html": [
       "<div>\n",
       "<style scoped>\n",
       "    .dataframe tbody tr th:only-of-type {\n",
       "        vertical-align: middle;\n",
       "    }\n",
       "\n",
       "    .dataframe tbody tr th {\n",
       "        vertical-align: top;\n",
       "    }\n",
       "\n",
       "    .dataframe thead th {\n",
       "        text-align: right;\n",
       "    }\n",
       "</style>\n",
       "<table border=\"1\" class=\"dataframe\">\n",
       "  <thead>\n",
       "    <tr style=\"text-align: right;\">\n",
       "      <th>health</th>\n",
       "      <th>Fair</th>\n",
       "      <th>Good</th>\n",
       "      <th>Poor</th>\n",
       "      <th>Very good</th>\n",
       "      <th>Very poor</th>\n",
       "      <th>All</th>\n",
       "    </tr>\n",
       "    <tr>\n",
       "      <th>satisfaction</th>\n",
       "      <th></th>\n",
       "      <th></th>\n",
       "      <th></th>\n",
       "      <th></th>\n",
       "      <th></th>\n",
       "      <th></th>\n",
       "    </tr>\n",
       "  </thead>\n",
       "  <tbody>\n",
       "    <tr>\n",
       "      <th>0</th>\n",
       "      <td>118</td>\n",
       "      <td>62</td>\n",
       "      <td>59</td>\n",
       "      <td>16</td>\n",
       "      <td>7</td>\n",
       "      <td>262</td>\n",
       "    </tr>\n",
       "    <tr>\n",
       "      <th>1</th>\n",
       "      <td>293</td>\n",
       "      <td>377</td>\n",
       "      <td>61</td>\n",
       "      <td>143</td>\n",
       "      <td>6</td>\n",
       "      <td>880</td>\n",
       "    </tr>\n",
       "    <tr>\n",
       "      <th>All</th>\n",
       "      <td>411</td>\n",
       "      <td>439</td>\n",
       "      <td>120</td>\n",
       "      <td>159</td>\n",
       "      <td>13</td>\n",
       "      <td>1142</td>\n",
       "    </tr>\n",
       "  </tbody>\n",
       "</table>\n",
       "</div>"
      ],
      "text/plain": [
       "health        Fair  Good  Poor  Very good  Very poor   All\n",
       "satisfaction                                              \n",
       "0              118    62    59         16          7   262\n",
       "1              293   377    61        143          6   880\n",
       "All            411   439   120        159         13  1142"
      ]
     },
     "execution_count": 143,
     "metadata": {},
     "output_type": "execute_result"
    }
   ],
   "source": [
    "s_health = pd.crosstab(data_s.satisfaction, data_s.health, margins=True)\n",
    "obs = np.array([s_health.iloc[0][0:2].values,\n",
    "                  s_health.iloc[1][0:2].values])\n",
    "print(stats.chi2_contingency(obs)[0:3])\n",
    "s_health"
   ]
  },
  {
   "cell_type": "code",
   "execution_count": 144,
   "id": "e9d3d6aa",
   "metadata": {},
   "outputs": [
    {
     "name": "stdout",
     "output_type": "stream",
     "text": [
      "(1.0577107038888023, 0.3037379016009974, 1)\n"
     ]
    },
    {
     "data": {
      "text/html": [
       "<div>\n",
       "<style scoped>\n",
       "    .dataframe tbody tr th:only-of-type {\n",
       "        vertical-align: middle;\n",
       "    }\n",
       "\n",
       "    .dataframe tbody tr th {\n",
       "        vertical-align: top;\n",
       "    }\n",
       "\n",
       "    .dataframe thead th {\n",
       "        text-align: right;\n",
       "    }\n",
       "</style>\n",
       "<table border=\"1\" class=\"dataframe\">\n",
       "  <thead>\n",
       "    <tr style=\"text-align: right;\">\n",
       "      <th>security_neighborhood</th>\n",
       "      <th>Not at all secure</th>\n",
       "      <th>Not very secure</th>\n",
       "      <th>Quite secure</th>\n",
       "      <th>Very Secure</th>\n",
       "      <th>All</th>\n",
       "    </tr>\n",
       "    <tr>\n",
       "      <th>satisfaction</th>\n",
       "      <th></th>\n",
       "      <th></th>\n",
       "      <th></th>\n",
       "      <th></th>\n",
       "      <th></th>\n",
       "    </tr>\n",
       "  </thead>\n",
       "  <tbody>\n",
       "    <tr>\n",
       "      <th>0</th>\n",
       "      <td>18</td>\n",
       "      <td>121</td>\n",
       "      <td>121</td>\n",
       "      <td>2</td>\n",
       "      <td>262</td>\n",
       "    </tr>\n",
       "    <tr>\n",
       "      <th>1</th>\n",
       "      <td>29</td>\n",
       "      <td>285</td>\n",
       "      <td>534</td>\n",
       "      <td>32</td>\n",
       "      <td>880</td>\n",
       "    </tr>\n",
       "    <tr>\n",
       "      <th>All</th>\n",
       "      <td>47</td>\n",
       "      <td>406</td>\n",
       "      <td>655</td>\n",
       "      <td>34</td>\n",
       "      <td>1142</td>\n",
       "    </tr>\n",
       "  </tbody>\n",
       "</table>\n",
       "</div>"
      ],
      "text/plain": [
       "security_neighborhood  Not at all secure  Not very secure  Quite secure  \\\n",
       "satisfaction                                                              \n",
       "0                                     18              121           121   \n",
       "1                                     29              285           534   \n",
       "All                                   47              406           655   \n",
       "\n",
       "security_neighborhood  Very Secure   All  \n",
       "satisfaction                              \n",
       "0                                2   262  \n",
       "1                               32   880  \n",
       "All                             34  1142  "
      ]
     },
     "execution_count": 144,
     "metadata": {},
     "output_type": "execute_result"
    }
   ],
   "source": [
    "s_security = pd.crosstab(data_s.satisfaction, data_s.security_neighborhood, margins=True)\n",
    "obs = np.array([s_security.iloc[0][0:2].values,\n",
    "                  s_security.iloc[1][0:2].values])\n",
    "print(stats.chi2_contingency(obs)[0:3])\n",
    "s_security"
   ]
  },
  {
   "cell_type": "markdown",
   "id": "edb0698f",
   "metadata": {},
   "source": [
    "H0: there **is no** difference between the predictor in the frequency of satisfaction;\n",
    "\n",
    "H1: there **is** difference between the predictor in the frequency of satisfaction.\n",
    "\n",
    "We should look at the p-value, which is the 2nd in the output.\n",
    "\n",
    "So, we can reject H0 for **'freedom_equality' and 'health'** predictors only (p-values for which is less than 0.05). Therefore, there is signifacant difference between distribution of real and hypothetical data for 'freedom_equality' and 'health' variables. Then, the relationships between freedom or equality choice and satisfaction with life and between health and satisfaction with life are present."
   ]
  },
  {
   "cell_type": "markdown",
   "id": "ae9e31e3",
   "metadata": {},
   "source": [
    "The t-test quantifies the difference between the arithmetic means of the two samples.\n",
    "\n",
    "Our 2 samples are the number of children variable divided into 2 part based on the satisfaction status (0 or 1). Firstly, we divide our numeric variable into 2 groups, then apply the t-test. "
   ]
  },
  {
   "cell_type": "code",
   "execution_count": 145,
   "id": "049e26b4",
   "metadata": {},
   "outputs": [
    {
     "name": "stdout",
     "output_type": "stream",
     "text": [
      "Ttest_indResult(statistic=-2.5008849315978847, pvalue=0.012527808736550126)\n"
     ]
    },
    {
     "data": {
      "text/plain": [
       "satisfaction\n",
       "0    [3, 0, 0, 2, 1, 0, 2, 1, 1, 0, 0, 2, 1, 2, 1, ...\n",
       "1    [2, 3, 3, 2, 2, 0, 2, 1, 2, 2, 2, 0, 0, 0, 1, ...\n",
       "Name: children_num, dtype: object"
      ]
     },
     "execution_count": 145,
     "metadata": {},
     "output_type": "execute_result"
    }
   ],
   "source": [
    "grouped_lists = data_s.groupby('satisfaction')['children_num'].apply(list)\n",
    "print(stats.ttest_ind(a=grouped_lists[0], b=grouped_lists[1], equal_var=True))\n",
    "grouped_lists"
   ]
  },
  {
   "cell_type": "markdown",
   "id": "1d77c372",
   "metadata": {},
   "source": [
    "T-test's hypotheses:\n",
    "\n",
    "H0: µ1 = µ2 (means of both samples are **equal**)\n",
    "\n",
    "H1: µ1 ≠ µ2 (mean of one sample is **different** from mean of another sample)\n",
    "\n",
    "Since the p-value is small enough (0.01), we can reject the null hypothesis of the test. The mean number of children between the two groups of satisfied and dissatisfied people is different. Then, the relationships between **the number of children** and satisfaction with life are present."
   ]
  },
  {
   "cell_type": "markdown",
   "id": "c16942e9",
   "metadata": {},
   "source": [
    "## (3) Regression analysis"
   ]
  },
  {
   "cell_type": "markdown",
   "id": "984a2357",
   "metadata": {},
   "source": [
    "Check whether types of variables are correct and construct the model of logistic regression."
   ]
  },
  {
   "cell_type": "code",
   "execution_count": 146,
   "id": "f85f034d",
   "metadata": {},
   "outputs": [
    {
     "data": {
      "text/plain": [
       "satisfaction             float64\n",
       "security_neighborhood     object\n",
       "health                    object\n",
       "church_member             object\n",
       "internet_source           object\n",
       "marital_status            object\n",
       "children_num               int32\n",
       "sex                       object\n",
       "freedom_equality          object\n",
       "dtype: object"
      ]
     },
     "execution_count": 146,
     "metadata": {},
     "output_type": "execute_result"
    }
   ],
   "source": [
    "data_s['satisfaction'] = data_s['satisfaction'].astype(float)\n",
    "data_s.dtypes"
   ]
  },
  {
   "cell_type": "code",
   "execution_count": 147,
   "id": "21cc6cff",
   "metadata": {},
   "outputs": [
    {
     "name": "stdout",
     "output_type": "stream",
     "text": [
      "Optimization terminated successfully.\n",
      "         Current function value: 0.470464\n",
      "         Iterations 7\n"
     ]
    },
    {
     "data": {
      "text/html": [
       "<table class=\"simpletable\">\n",
       "<caption>Logit Regression Results</caption>\n",
       "<tr>\n",
       "  <th>Dep. Variable:</th>     <td>satisfaction</td>   <th>  No. Observations:  </th>  <td>  1142</td>  \n",
       "</tr>\n",
       "<tr>\n",
       "  <th>Model:</th>                 <td>Logit</td>      <th>  Df Residuals:      </th>  <td>  1120</td>  \n",
       "</tr>\n",
       "<tr>\n",
       "  <th>Method:</th>                 <td>MLE</td>       <th>  Df Model:          </th>  <td>    21</td>  \n",
       "</tr>\n",
       "<tr>\n",
       "  <th>Date:</th>            <td>Wed, 30 Mar 2022</td> <th>  Pseudo R-squ.:     </th>  <td>0.1265</td>  \n",
       "</tr>\n",
       "<tr>\n",
       "  <th>Time:</th>                <td>13:54:29</td>     <th>  Log-Likelihood:    </th> <td> -537.27</td> \n",
       "</tr>\n",
       "<tr>\n",
       "  <th>converged:</th>             <td>True</td>       <th>  LL-Null:           </th> <td> -615.06</td> \n",
       "</tr>\n",
       "<tr>\n",
       "  <th>Covariance Type:</th>     <td>nonrobust</td>    <th>  LLR p-value:       </th> <td>1.525e-22</td>\n",
       "</tr>\n",
       "</table>\n",
       "<table class=\"simpletable\">\n",
       "<tr>\n",
       "                        <td></td>                          <th>coef</th>     <th>std err</th>      <th>z</th>      <th>P>|z|</th>  <th>[0.025</th>    <th>0.975]</th>  \n",
       "</tr>\n",
       "<tr>\n",
       "  <th>Intercept</th>                                    <td>    0.0754</td> <td>    0.688</td> <td>    0.109</td> <td> 0.913</td> <td>   -1.274</td> <td>    1.424</td>\n",
       "</tr>\n",
       "<tr>\n",
       "  <th>security_neighborhood[T.Not very secure]</th>     <td>    0.5296</td> <td>    0.357</td> <td>    1.484</td> <td> 0.138</td> <td>   -0.170</td> <td>    1.229</td>\n",
       "</tr>\n",
       "<tr>\n",
       "  <th>security_neighborhood[T.Quite secure]</th>        <td>    1.1407</td> <td>    0.354</td> <td>    3.218</td> <td> 0.001</td> <td>    0.446</td> <td>    1.835</td>\n",
       "</tr>\n",
       "<tr>\n",
       "  <th>security_neighborhood[T.Very Secure]</th>         <td>    2.3439</td> <td>    0.834</td> <td>    2.811</td> <td> 0.005</td> <td>    0.710</td> <td>    3.978</td>\n",
       "</tr>\n",
       "<tr>\n",
       "  <th>health[T.Good]</th>                               <td>    0.9211</td> <td>    0.182</td> <td>    5.051</td> <td> 0.000</td> <td>    0.564</td> <td>    1.278</td>\n",
       "</tr>\n",
       "<tr>\n",
       "  <th>health[T.Poor]</th>                               <td>   -0.6881</td> <td>    0.227</td> <td>   -3.038</td> <td> 0.002</td> <td>   -1.132</td> <td>   -0.244</td>\n",
       "</tr>\n",
       "<tr>\n",
       "  <th>health[T.Very good]</th>                          <td>    1.3494</td> <td>    0.294</td> <td>    4.590</td> <td> 0.000</td> <td>    0.773</td> <td>    1.926</td>\n",
       "</tr>\n",
       "<tr>\n",
       "  <th>health[T.Very poor]</th>                          <td>   -0.9988</td> <td>    0.618</td> <td>   -1.617</td> <td> 0.106</td> <td>   -2.209</td> <td>    0.211</td>\n",
       "</tr>\n",
       "<tr>\n",
       "  <th>church_member[T.Don't belong]</th>                <td>   -1.1114</td> <td>    0.539</td> <td>   -2.063</td> <td> 0.039</td> <td>   -2.167</td> <td>   -0.056</td>\n",
       "</tr>\n",
       "<tr>\n",
       "  <th>church_member[T.Inactive member]</th>             <td>   -0.4837</td> <td>    0.600</td> <td>   -0.807</td> <td> 0.420</td> <td>   -1.659</td> <td>    0.691</td>\n",
       "</tr>\n",
       "<tr>\n",
       "  <th>internet_source[T.Less than monthly]</th>         <td>    0.0303</td> <td>    0.518</td> <td>    0.058</td> <td> 0.953</td> <td>   -0.985</td> <td>    1.046</td>\n",
       "</tr>\n",
       "<tr>\n",
       "  <th>internet_source[T.Monthly]</th>                   <td>   -0.3411</td> <td>    0.485</td> <td>   -0.704</td> <td> 0.482</td> <td>   -1.291</td> <td>    0.609</td>\n",
       "</tr>\n",
       "<tr>\n",
       "  <th>internet_source[T.Never]</th>                     <td>   -0.2717</td> <td>    0.197</td> <td>   -1.380</td> <td> 0.167</td> <td>   -0.657</td> <td>    0.114</td>\n",
       "</tr>\n",
       "<tr>\n",
       "  <th>internet_source[T.Weekly]</th>                    <td>   -0.4527</td> <td>    0.232</td> <td>   -1.954</td> <td> 0.051</td> <td>   -0.907</td> <td>    0.001</td>\n",
       "</tr>\n",
       "<tr>\n",
       "  <th>marital_status[T.Living together as married]</th> <td>    0.1001</td> <td>    0.749</td> <td>    0.134</td> <td> 0.894</td> <td>   -1.369</td> <td>    1.569</td>\n",
       "</tr>\n",
       "<tr>\n",
       "  <th>marital_status[T.Married]</th>                    <td>    0.8368</td> <td>    0.309</td> <td>    2.706</td> <td> 0.007</td> <td>    0.231</td> <td>    1.443</td>\n",
       "</tr>\n",
       "<tr>\n",
       "  <th>marital_status[T.Separated]</th>                  <td>   -0.8090</td> <td>    0.992</td> <td>   -0.815</td> <td> 0.415</td> <td>   -2.754</td> <td>    1.136</td>\n",
       "</tr>\n",
       "<tr>\n",
       "  <th>marital_status[T.Single]</th>                     <td>    0.5557</td> <td>    0.383</td> <td>    1.450</td> <td> 0.147</td> <td>   -0.195</td> <td>    1.307</td>\n",
       "</tr>\n",
       "<tr>\n",
       "  <th>marital_status[T.Widowed]</th>                    <td>    1.4517</td> <td>    0.447</td> <td>    3.251</td> <td> 0.001</td> <td>    0.577</td> <td>    2.327</td>\n",
       "</tr>\n",
       "<tr>\n",
       "  <th>sex[T.Male]</th>                                  <td>   -0.2775</td> <td>    0.157</td> <td>   -1.762</td> <td> 0.078</td> <td>   -0.586</td> <td>    0.031</td>\n",
       "</tr>\n",
       "<tr>\n",
       "  <th>freedom_equality[T.Freedom]</th>                  <td>    0.4113</td> <td>    0.157</td> <td>    2.627</td> <td> 0.009</td> <td>    0.104</td> <td>    0.718</td>\n",
       "</tr>\n",
       "<tr>\n",
       "  <th>children_num</th>                                 <td>    0.1182</td> <td>    0.087</td> <td>    1.356</td> <td> 0.175</td> <td>   -0.053</td> <td>    0.289</td>\n",
       "</tr>\n",
       "</table>"
      ],
      "text/plain": [
       "<class 'statsmodels.iolib.summary.Summary'>\n",
       "\"\"\"\n",
       "                           Logit Regression Results                           \n",
       "==============================================================================\n",
       "Dep. Variable:           satisfaction   No. Observations:                 1142\n",
       "Model:                          Logit   Df Residuals:                     1120\n",
       "Method:                           MLE   Df Model:                           21\n",
       "Date:                Wed, 30 Mar 2022   Pseudo R-squ.:                  0.1265\n",
       "Time:                        13:54:29   Log-Likelihood:                -537.27\n",
       "converged:                       True   LL-Null:                       -615.06\n",
       "Covariance Type:            nonrobust   LLR p-value:                 1.525e-22\n",
       "================================================================================================================\n",
       "                                                   coef    std err          z      P>|z|      [0.025      0.975]\n",
       "----------------------------------------------------------------------------------------------------------------\n",
       "Intercept                                        0.0754      0.688      0.109      0.913      -1.274       1.424\n",
       "security_neighborhood[T.Not very secure]         0.5296      0.357      1.484      0.138      -0.170       1.229\n",
       "security_neighborhood[T.Quite secure]            1.1407      0.354      3.218      0.001       0.446       1.835\n",
       "security_neighborhood[T.Very Secure]             2.3439      0.834      2.811      0.005       0.710       3.978\n",
       "health[T.Good]                                   0.9211      0.182      5.051      0.000       0.564       1.278\n",
       "health[T.Poor]                                  -0.6881      0.227     -3.038      0.002      -1.132      -0.244\n",
       "health[T.Very good]                              1.3494      0.294      4.590      0.000       0.773       1.926\n",
       "health[T.Very poor]                             -0.9988      0.618     -1.617      0.106      -2.209       0.211\n",
       "church_member[T.Don't belong]                   -1.1114      0.539     -2.063      0.039      -2.167      -0.056\n",
       "church_member[T.Inactive member]                -0.4837      0.600     -0.807      0.420      -1.659       0.691\n",
       "internet_source[T.Less than monthly]             0.0303      0.518      0.058      0.953      -0.985       1.046\n",
       "internet_source[T.Monthly]                      -0.3411      0.485     -0.704      0.482      -1.291       0.609\n",
       "internet_source[T.Never]                        -0.2717      0.197     -1.380      0.167      -0.657       0.114\n",
       "internet_source[T.Weekly]                       -0.4527      0.232     -1.954      0.051      -0.907       0.001\n",
       "marital_status[T.Living together as married]     0.1001      0.749      0.134      0.894      -1.369       1.569\n",
       "marital_status[T.Married]                        0.8368      0.309      2.706      0.007       0.231       1.443\n",
       "marital_status[T.Separated]                     -0.8090      0.992     -0.815      0.415      -2.754       1.136\n",
       "marital_status[T.Single]                         0.5557      0.383      1.450      0.147      -0.195       1.307\n",
       "marital_status[T.Widowed]                        1.4517      0.447      3.251      0.001       0.577       2.327\n",
       "sex[T.Male]                                     -0.2775      0.157     -1.762      0.078      -0.586       0.031\n",
       "freedom_equality[T.Freedom]                      0.4113      0.157      2.627      0.009       0.104       0.718\n",
       "children_num                                     0.1182      0.087      1.356      0.175      -0.053       0.289\n",
       "================================================================================================================\n",
       "\"\"\""
      ]
     },
     "execution_count": 147,
     "metadata": {},
     "output_type": "execute_result"
    }
   ],
   "source": [
    "from statsmodels.formula.api import logit\n",
    "log1 = logit(\"satisfaction ~ security_neighborhood + health + church_member + internet_source + marital_status + children_num + sex + freedom_equality\", data=data_s).fit()\n",
    "log1.summary()"
   ]
  },
  {
   "cell_type": "code",
   "execution_count": 148,
   "id": "6e358542",
   "metadata": {},
   "outputs": [
    {
     "data": {
      "text/html": [
       "<div>\n",
       "<style scoped>\n",
       "    .dataframe tbody tr th:only-of-type {\n",
       "        vertical-align: middle;\n",
       "    }\n",
       "\n",
       "    .dataframe tbody tr th {\n",
       "        vertical-align: top;\n",
       "    }\n",
       "\n",
       "    .dataframe thead th {\n",
       "        text-align: right;\n",
       "    }\n",
       "</style>\n",
       "<table border=\"1\" class=\"dataframe\">\n",
       "  <thead>\n",
       "    <tr style=\"text-align: right;\">\n",
       "      <th></th>\n",
       "      <th>odds ratio</th>\n",
       "      <th>0.025</th>\n",
       "      <th>0.095</th>\n",
       "    </tr>\n",
       "  </thead>\n",
       "  <tbody>\n",
       "    <tr>\n",
       "      <th>Intercept</th>\n",
       "      <td>1.078267</td>\n",
       "      <td>0.279807</td>\n",
       "      <td>4.155225</td>\n",
       "    </tr>\n",
       "    <tr>\n",
       "      <th>security_neighborhood[T.Not very secure]</th>\n",
       "      <td>1.698327</td>\n",
       "      <td>0.843731</td>\n",
       "      <td>3.418526</td>\n",
       "    </tr>\n",
       "    <tr>\n",
       "      <th>security_neighborhood[T.Quite secure]</th>\n",
       "      <td>3.128920</td>\n",
       "      <td>1.561958</td>\n",
       "      <td>6.267867</td>\n",
       "    </tr>\n",
       "    <tr>\n",
       "      <th>security_neighborhood[T.Very Secure]</th>\n",
       "      <td>10.421573</td>\n",
       "      <td>2.033579</td>\n",
       "      <td>53.407891</td>\n",
       "    </tr>\n",
       "    <tr>\n",
       "      <th>health[T.Good]</th>\n",
       "      <td>2.511978</td>\n",
       "      <td>1.757121</td>\n",
       "      <td>3.591120</td>\n",
       "    </tr>\n",
       "    <tr>\n",
       "      <th>health[T.Poor]</th>\n",
       "      <td>0.502505</td>\n",
       "      <td>0.322347</td>\n",
       "      <td>0.783353</td>\n",
       "    </tr>\n",
       "    <tr>\n",
       "      <th>health[T.Very good]</th>\n",
       "      <td>3.855186</td>\n",
       "      <td>2.166727</td>\n",
       "      <td>6.859406</td>\n",
       "    </tr>\n",
       "    <tr>\n",
       "      <th>health[T.Very poor]</th>\n",
       "      <td>0.368315</td>\n",
       "      <td>0.109798</td>\n",
       "      <td>1.235504</td>\n",
       "    </tr>\n",
       "    <tr>\n",
       "      <th>church_member[T.Don't belong]</th>\n",
       "      <td>0.329084</td>\n",
       "      <td>0.114504</td>\n",
       "      <td>0.945785</td>\n",
       "    </tr>\n",
       "    <tr>\n",
       "      <th>church_member[T.Inactive member]</th>\n",
       "      <td>0.616494</td>\n",
       "      <td>0.190362</td>\n",
       "      <td>1.996535</td>\n",
       "    </tr>\n",
       "    <tr>\n",
       "      <th>internet_source[T.Less than monthly]</th>\n",
       "      <td>1.030759</td>\n",
       "      <td>0.373407</td>\n",
       "      <td>2.845324</td>\n",
       "    </tr>\n",
       "    <tr>\n",
       "      <th>internet_source[T.Monthly]</th>\n",
       "      <td>0.710974</td>\n",
       "      <td>0.274934</td>\n",
       "      <td>1.838566</td>\n",
       "    </tr>\n",
       "    <tr>\n",
       "      <th>internet_source[T.Never]</th>\n",
       "      <td>0.762089</td>\n",
       "      <td>0.518171</td>\n",
       "      <td>1.120827</td>\n",
       "    </tr>\n",
       "    <tr>\n",
       "      <th>internet_source[T.Weekly]</th>\n",
       "      <td>0.635879</td>\n",
       "      <td>0.403750</td>\n",
       "      <td>1.001465</td>\n",
       "    </tr>\n",
       "    <tr>\n",
       "      <th>marital_status[T.Living together as married]</th>\n",
       "      <td>1.105300</td>\n",
       "      <td>0.254402</td>\n",
       "      <td>4.802191</td>\n",
       "    </tr>\n",
       "    <tr>\n",
       "      <th>marital_status[T.Married]</th>\n",
       "      <td>2.308865</td>\n",
       "      <td>1.259351</td>\n",
       "      <td>4.233022</td>\n",
       "    </tr>\n",
       "    <tr>\n",
       "      <th>marital_status[T.Separated]</th>\n",
       "      <td>0.445314</td>\n",
       "      <td>0.063672</td>\n",
       "      <td>3.114452</td>\n",
       "    </tr>\n",
       "    <tr>\n",
       "      <th>marital_status[T.Single]</th>\n",
       "      <td>1.743151</td>\n",
       "      <td>0.822547</td>\n",
       "      <td>3.694108</td>\n",
       "    </tr>\n",
       "    <tr>\n",
       "      <th>marital_status[T.Widowed]</th>\n",
       "      <td>4.270386</td>\n",
       "      <td>1.779907</td>\n",
       "      <td>10.245587</td>\n",
       "    </tr>\n",
       "    <tr>\n",
       "      <th>sex[T.Male]</th>\n",
       "      <td>0.757657</td>\n",
       "      <td>0.556453</td>\n",
       "      <td>1.031614</td>\n",
       "    </tr>\n",
       "    <tr>\n",
       "      <th>freedom_equality[T.Freedom]</th>\n",
       "      <td>1.508853</td>\n",
       "      <td>1.110054</td>\n",
       "      <td>2.050925</td>\n",
       "    </tr>\n",
       "    <tr>\n",
       "      <th>children_num</th>\n",
       "      <td>1.125515</td>\n",
       "      <td>0.948671</td>\n",
       "      <td>1.335326</td>\n",
       "    </tr>\n",
       "  </tbody>\n",
       "</table>\n",
       "</div>"
      ],
      "text/plain": [
       "                                              odds ratio     0.025      0.095\n",
       "Intercept                                       1.078267  0.279807   4.155225\n",
       "security_neighborhood[T.Not very secure]        1.698327  0.843731   3.418526\n",
       "security_neighborhood[T.Quite secure]           3.128920  1.561958   6.267867\n",
       "security_neighborhood[T.Very Secure]           10.421573  2.033579  53.407891\n",
       "health[T.Good]                                  2.511978  1.757121   3.591120\n",
       "health[T.Poor]                                  0.502505  0.322347   0.783353\n",
       "health[T.Very good]                             3.855186  2.166727   6.859406\n",
       "health[T.Very poor]                             0.368315  0.109798   1.235504\n",
       "church_member[T.Don't belong]                   0.329084  0.114504   0.945785\n",
       "church_member[T.Inactive member]                0.616494  0.190362   1.996535\n",
       "internet_source[T.Less than monthly]            1.030759  0.373407   2.845324\n",
       "internet_source[T.Monthly]                      0.710974  0.274934   1.838566\n",
       "internet_source[T.Never]                        0.762089  0.518171   1.120827\n",
       "internet_source[T.Weekly]                       0.635879  0.403750   1.001465\n",
       "marital_status[T.Living together as married]    1.105300  0.254402   4.802191\n",
       "marital_status[T.Married]                       2.308865  1.259351   4.233022\n",
       "marital_status[T.Separated]                     0.445314  0.063672   3.114452\n",
       "marital_status[T.Single]                        1.743151  0.822547   3.694108\n",
       "marital_status[T.Widowed]                       4.270386  1.779907  10.245587\n",
       "sex[T.Male]                                     0.757657  0.556453   1.031614\n",
       "freedom_equality[T.Freedom]                     1.508853  1.110054   2.050925\n",
       "children_num                                    1.125515  0.948671   1.335326"
      ]
     },
     "execution_count": 148,
     "metadata": {},
     "output_type": "execute_result"
    }
   ],
   "source": [
    "odds1 = pd.DataFrame()\n",
    "odds1['odds ratio'] = np.exp(log1.params)\n",
    "odds1 = pd.concat([odds1, np.exp(log1.conf_int())], axis=1)\n",
    "odds1.columns = ['odds ratio', '0.025', '0.095']\n",
    "odds1 "
   ]
  },
  {
   "cell_type": "markdown",
   "id": "a72d7df6",
   "metadata": {},
   "source": [
    "### Model description\n",
    "The first model has the 'satisfaction' as a response variable and the following set of predictors: security_neighborhood + health + church_member + internet_source + marital_status + children_num + sex + freedom_equality. \n",
    "\n",
    "### Log odds\n",
    "Several levels of **security_neighborhood, health, church_member, marital_status and freedom_equality** turn out to be significant (p-values are less than 0.05). Looking at log odds we can access the direction of these relations: negative or positive one. Thus, people who assess their neighborhood as Quite secure and Very secure have more chances than people who say that their neighborhood is Not secure at all (reference category). Respondents with Good and Very good health have more chances to be satisfied with life than people with Fair health (reference category), but Poor helth has an opposite effect. Not belonging to religious organization decreases the chances of being satisfied with life compared to the reference category of being an Active member. Being Married and Widowed increases the chances of being satisfied with life compared to being Divorced. Prioritizing Freedom under Equality increases tha chances of being satisfied with life compared to the opposite.\n",
    "\n",
    "### Odds ratio\n",
    "The odds ratio table is shown above. \n",
    "\n",
    "Assessing the security of the neighborhood as Quite secure and Very secure have 3.13 and 10.42 chances compared to 1 chance of assessing as Not secure at all to be satisfied with life, **thus respondents with, subjectively, quite secure and very secure neighborhoods have 213% and 942% more chances, respectively.**\n",
    "\n",
    "People with Good and Very good health have 2.51 and 3.86 chances compared to 1 chance of people with Fair health to be satisfied with life, **thus respondents with, subjectively, good and very good health have 151% and 286% more chances, respectively.** People with Poor health have 0.50 chances compared to 1 chance of people with Fair health to be satisfied with life, **thus respondents with, subjectively, poor health have 50% and 63% more chances, respectively.**\n",
    "\n",
    "Not belonging to religious organization have 0.33 chances compared to 1 chance of being an Active member to be satisfied with life, **thus respondents who are not a member of religious organization have 67% less chances.**\n",
    "\n",
    "Being Married and being Widowed have 2.31 and 4.27 chances compared to 1 chance of being Divorced to be satisfied with life, **thus married and widowed respondents have 131% and 327% more chances, respectively.** (the later pair of comparison widowed/divorced is kinda funny)\n",
    "\n",
    "Prioratizing Freedom have 1.51 chances compared to 1 chance of prioritizing Equality to be satisfied with life, **thus respondents who choose freedom under equality have 51% more chances.**\n",
    "\n",
    "### Model fit\n",
    "The Pseudo R-squared value is 0.13, which means that the model explains around 13% of the variations in the response variable can be explained by our predictors. So, the predictive capacity of our model is low, but the predictors were chosen randomly, there was no theoretical basis, so this is fair. But it is still better than the null model without any predictors, what we can see comparing log-likelihood and ll-null (-537.27 and -615.06, respectively)."
   ]
  },
  {
   "cell_type": "markdown",
   "id": "f527282b",
   "metadata": {},
   "source": [
    "### Same regression model with interaction: the number of children with sex"
   ]
  },
  {
   "cell_type": "code",
   "execution_count": 149,
   "id": "e61cd80e",
   "metadata": {},
   "outputs": [
    {
     "name": "stdout",
     "output_type": "stream",
     "text": [
      "Optimization terminated successfully.\n",
      "         Current function value: 0.470421\n",
      "         Iterations 7\n"
     ]
    },
    {
     "data": {
      "text/html": [
       "<table class=\"simpletable\">\n",
       "<caption>Logit Regression Results</caption>\n",
       "<tr>\n",
       "  <th>Dep. Variable:</th>     <td>satisfaction</td>   <th>  No. Observations:  </th>  <td>  1142</td>  \n",
       "</tr>\n",
       "<tr>\n",
       "  <th>Model:</th>                 <td>Logit</td>      <th>  Df Residuals:      </th>  <td>  1119</td>  \n",
       "</tr>\n",
       "<tr>\n",
       "  <th>Method:</th>                 <td>MLE</td>       <th>  Df Model:          </th>  <td>    22</td>  \n",
       "</tr>\n",
       "<tr>\n",
       "  <th>Date:</th>            <td>Wed, 30 Mar 2022</td> <th>  Pseudo R-squ.:     </th>  <td>0.1265</td>  \n",
       "</tr>\n",
       "<tr>\n",
       "  <th>Time:</th>                <td>13:54:33</td>     <th>  Log-Likelihood:    </th> <td> -537.22</td> \n",
       "</tr>\n",
       "<tr>\n",
       "  <th>converged:</th>             <td>True</td>       <th>  LL-Null:           </th> <td> -615.06</td> \n",
       "</tr>\n",
       "<tr>\n",
       "  <th>Covariance Type:</th>     <td>nonrobust</td>    <th>  LLR p-value:       </th> <td>4.052e-22</td>\n",
       "</tr>\n",
       "</table>\n",
       "<table class=\"simpletable\">\n",
       "<tr>\n",
       "                        <td></td>                          <th>coef</th>     <th>std err</th>      <th>z</th>      <th>P>|z|</th>  <th>[0.025</th>    <th>0.975]</th>  \n",
       "</tr>\n",
       "<tr>\n",
       "  <th>Intercept</th>                                    <td>    0.1262</td> <td>    0.708</td> <td>    0.178</td> <td> 0.858</td> <td>   -1.261</td> <td>    1.513</td>\n",
       "</tr>\n",
       "<tr>\n",
       "  <th>security_neighborhood[T.Not very secure]</th>     <td>    0.5290</td> <td>    0.357</td> <td>    1.482</td> <td> 0.138</td> <td>   -0.170</td> <td>    1.228</td>\n",
       "</tr>\n",
       "<tr>\n",
       "  <th>security_neighborhood[T.Quite secure]</th>        <td>    1.1399</td> <td>    0.354</td> <td>    3.216</td> <td> 0.001</td> <td>    0.445</td> <td>    1.835</td>\n",
       "</tr>\n",
       "<tr>\n",
       "  <th>security_neighborhood[T.Very Secure]</th>         <td>    2.3422</td> <td>    0.834</td> <td>    2.808</td> <td> 0.005</td> <td>    0.708</td> <td>    3.977</td>\n",
       "</tr>\n",
       "<tr>\n",
       "  <th>health[T.Good]</th>                               <td>    0.9204</td> <td>    0.182</td> <td>    5.048</td> <td> 0.000</td> <td>    0.563</td> <td>    1.278</td>\n",
       "</tr>\n",
       "<tr>\n",
       "  <th>health[T.Poor]</th>                               <td>   -0.6858</td> <td>    0.227</td> <td>   -3.025</td> <td> 0.002</td> <td>   -1.130</td> <td>   -0.241</td>\n",
       "</tr>\n",
       "<tr>\n",
       "  <th>health[T.Very good]</th>                          <td>    1.3464</td> <td>    0.294</td> <td>    4.579</td> <td> 0.000</td> <td>    0.770</td> <td>    1.923</td>\n",
       "</tr>\n",
       "<tr>\n",
       "  <th>health[T.Very poor]</th>                          <td>   -1.0045</td> <td>    0.618</td> <td>   -1.625</td> <td> 0.104</td> <td>   -2.216</td> <td>    0.207</td>\n",
       "</tr>\n",
       "<tr>\n",
       "  <th>church_member[T.Don't belong]</th>                <td>   -1.1212</td> <td>    0.540</td> <td>   -2.076</td> <td> 0.038</td> <td>   -2.180</td> <td>   -0.063</td>\n",
       "</tr>\n",
       "<tr>\n",
       "  <th>church_member[T.Inactive member]</th>             <td>   -0.4885</td> <td>    0.600</td> <td>   -0.814</td> <td> 0.416</td> <td>   -1.665</td> <td>    0.688</td>\n",
       "</tr>\n",
       "<tr>\n",
       "  <th>internet_source[T.Less than monthly]</th>         <td>    0.0307</td> <td>    0.518</td> <td>    0.059</td> <td> 0.953</td> <td>   -0.985</td> <td>    1.046</td>\n",
       "</tr>\n",
       "<tr>\n",
       "  <th>internet_source[T.Monthly]</th>                   <td>   -0.3433</td> <td>    0.485</td> <td>   -0.709</td> <td> 0.479</td> <td>   -1.293</td> <td>    0.606</td>\n",
       "</tr>\n",
       "<tr>\n",
       "  <th>internet_source[T.Never]</th>                     <td>   -0.2731</td> <td>    0.197</td> <td>   -1.387</td> <td> 0.165</td> <td>   -0.659</td> <td>    0.113</td>\n",
       "</tr>\n",
       "<tr>\n",
       "  <th>internet_source[T.Weekly]</th>                    <td>   -0.4570</td> <td>    0.232</td> <td>   -1.968</td> <td> 0.049</td> <td>   -0.912</td> <td>   -0.002</td>\n",
       "</tr>\n",
       "<tr>\n",
       "  <th>marital_status[T.Living together as married]</th> <td>    0.0928</td> <td>    0.750</td> <td>    0.124</td> <td> 0.902</td> <td>   -1.377</td> <td>    1.563</td>\n",
       "</tr>\n",
       "<tr>\n",
       "  <th>marital_status[T.Married]</th>                    <td>    0.8351</td> <td>    0.309</td> <td>    2.700</td> <td> 0.007</td> <td>    0.229</td> <td>    1.441</td>\n",
       "</tr>\n",
       "<tr>\n",
       "  <th>marital_status[T.Separated]</th>                  <td>   -0.8094</td> <td>    0.993</td> <td>   -0.815</td> <td> 0.415</td> <td>   -2.755</td> <td>    1.136</td>\n",
       "</tr>\n",
       "<tr>\n",
       "  <th>marital_status[T.Single]</th>                     <td>    0.5525</td> <td>    0.383</td> <td>    1.441</td> <td> 0.150</td> <td>   -0.199</td> <td>    1.304</td>\n",
       "</tr>\n",
       "<tr>\n",
       "  <th>marital_status[T.Widowed]</th>                    <td>    1.4545</td> <td>    0.447</td> <td>    3.257</td> <td> 0.001</td> <td>    0.579</td> <td>    2.330</td>\n",
       "</tr>\n",
       "<tr>\n",
       "  <th>sex[T.Male]</th>                                  <td>   -0.3486</td> <td>    0.276</td> <td>   -1.261</td> <td> 0.207</td> <td>   -0.890</td> <td>    0.193</td>\n",
       "</tr>\n",
       "<tr>\n",
       "  <th>freedom_equality[T.Freedom]</th>                  <td>    0.4112</td> <td>    0.157</td> <td>    2.625</td> <td> 0.009</td> <td>    0.104</td> <td>    0.718</td>\n",
       "</tr>\n",
       "<tr>\n",
       "  <th>children_num</th>                                 <td>    0.0953</td> <td>    0.114</td> <td>    0.837</td> <td> 0.403</td> <td>   -0.128</td> <td>    0.318</td>\n",
       "</tr>\n",
       "<tr>\n",
       "  <th>children_num:sex[T.Male]</th>                     <td>    0.0433</td> <td>    0.138</td> <td>    0.313</td> <td> 0.754</td> <td>   -0.228</td> <td>    0.314</td>\n",
       "</tr>\n",
       "</table>"
      ],
      "text/plain": [
       "<class 'statsmodels.iolib.summary.Summary'>\n",
       "\"\"\"\n",
       "                           Logit Regression Results                           \n",
       "==============================================================================\n",
       "Dep. Variable:           satisfaction   No. Observations:                 1142\n",
       "Model:                          Logit   Df Residuals:                     1119\n",
       "Method:                           MLE   Df Model:                           22\n",
       "Date:                Wed, 30 Mar 2022   Pseudo R-squ.:                  0.1265\n",
       "Time:                        13:54:33   Log-Likelihood:                -537.22\n",
       "converged:                       True   LL-Null:                       -615.06\n",
       "Covariance Type:            nonrobust   LLR p-value:                 4.052e-22\n",
       "================================================================================================================\n",
       "                                                   coef    std err          z      P>|z|      [0.025      0.975]\n",
       "----------------------------------------------------------------------------------------------------------------\n",
       "Intercept                                        0.1262      0.708      0.178      0.858      -1.261       1.513\n",
       "security_neighborhood[T.Not very secure]         0.5290      0.357      1.482      0.138      -0.170       1.228\n",
       "security_neighborhood[T.Quite secure]            1.1399      0.354      3.216      0.001       0.445       1.835\n",
       "security_neighborhood[T.Very Secure]             2.3422      0.834      2.808      0.005       0.708       3.977\n",
       "health[T.Good]                                   0.9204      0.182      5.048      0.000       0.563       1.278\n",
       "health[T.Poor]                                  -0.6858      0.227     -3.025      0.002      -1.130      -0.241\n",
       "health[T.Very good]                              1.3464      0.294      4.579      0.000       0.770       1.923\n",
       "health[T.Very poor]                             -1.0045      0.618     -1.625      0.104      -2.216       0.207\n",
       "church_member[T.Don't belong]                   -1.1212      0.540     -2.076      0.038      -2.180      -0.063\n",
       "church_member[T.Inactive member]                -0.4885      0.600     -0.814      0.416      -1.665       0.688\n",
       "internet_source[T.Less than monthly]             0.0307      0.518      0.059      0.953      -0.985       1.046\n",
       "internet_source[T.Monthly]                      -0.3433      0.485     -0.709      0.479      -1.293       0.606\n",
       "internet_source[T.Never]                        -0.2731      0.197     -1.387      0.165      -0.659       0.113\n",
       "internet_source[T.Weekly]                       -0.4570      0.232     -1.968      0.049      -0.912      -0.002\n",
       "marital_status[T.Living together as married]     0.0928      0.750      0.124      0.902      -1.377       1.563\n",
       "marital_status[T.Married]                        0.8351      0.309      2.700      0.007       0.229       1.441\n",
       "marital_status[T.Separated]                     -0.8094      0.993     -0.815      0.415      -2.755       1.136\n",
       "marital_status[T.Single]                         0.5525      0.383      1.441      0.150      -0.199       1.304\n",
       "marital_status[T.Widowed]                        1.4545      0.447      3.257      0.001       0.579       2.330\n",
       "sex[T.Male]                                     -0.3486      0.276     -1.261      0.207      -0.890       0.193\n",
       "freedom_equality[T.Freedom]                      0.4112      0.157      2.625      0.009       0.104       0.718\n",
       "children_num                                     0.0953      0.114      0.837      0.403      -0.128       0.318\n",
       "children_num:sex[T.Male]                         0.0433      0.138      0.313      0.754      -0.228       0.314\n",
       "================================================================================================================\n",
       "\"\"\""
      ]
     },
     "execution_count": 149,
     "metadata": {},
     "output_type": "execute_result"
    }
   ],
   "source": [
    "log2 = logit(\"satisfaction ~ security_neighborhood + health + church_member + internet_source + marital_status + children_num * sex + freedom_equality\", data=data_s).fit()\n",
    "log2.summary()"
   ]
  },
  {
   "cell_type": "code",
   "execution_count": 150,
   "id": "11baf00a",
   "metadata": {},
   "outputs": [
    {
     "data": {
      "text/html": [
       "<div>\n",
       "<style scoped>\n",
       "    .dataframe tbody tr th:only-of-type {\n",
       "        vertical-align: middle;\n",
       "    }\n",
       "\n",
       "    .dataframe tbody tr th {\n",
       "        vertical-align: top;\n",
       "    }\n",
       "\n",
       "    .dataframe thead th {\n",
       "        text-align: right;\n",
       "    }\n",
       "</style>\n",
       "<table border=\"1\" class=\"dataframe\">\n",
       "  <thead>\n",
       "    <tr style=\"text-align: right;\">\n",
       "      <th></th>\n",
       "      <th>odds ratio</th>\n",
       "      <th>0.025</th>\n",
       "      <th>0.095</th>\n",
       "    </tr>\n",
       "  </thead>\n",
       "  <tbody>\n",
       "    <tr>\n",
       "      <th>Intercept</th>\n",
       "      <td>1.134516</td>\n",
       "      <td>0.283350</td>\n",
       "      <td>4.542539</td>\n",
       "    </tr>\n",
       "    <tr>\n",
       "      <th>security_neighborhood[T.Not very secure]</th>\n",
       "      <td>1.697161</td>\n",
       "      <td>0.843265</td>\n",
       "      <td>3.415716</td>\n",
       "    </tr>\n",
       "    <tr>\n",
       "      <th>security_neighborhood[T.Quite secure]</th>\n",
       "      <td>3.126405</td>\n",
       "      <td>1.560882</td>\n",
       "      <td>6.262105</td>\n",
       "    </tr>\n",
       "    <tr>\n",
       "      <th>security_neighborhood[T.Very Secure]</th>\n",
       "      <td>10.404386</td>\n",
       "      <td>2.029005</td>\n",
       "      <td>53.351885</td>\n",
       "    </tr>\n",
       "    <tr>\n",
       "      <th>health[T.Good]</th>\n",
       "      <td>2.510369</td>\n",
       "      <td>1.756010</td>\n",
       "      <td>3.588790</td>\n",
       "    </tr>\n",
       "    <tr>\n",
       "      <th>health[T.Poor]</th>\n",
       "      <td>0.503692</td>\n",
       "      <td>0.322969</td>\n",
       "      <td>0.785541</td>\n",
       "    </tr>\n",
       "    <tr>\n",
       "      <th>health[T.Very good]</th>\n",
       "      <td>3.843600</td>\n",
       "      <td>2.159979</td>\n",
       "      <td>6.839539</td>\n",
       "    </tr>\n",
       "    <tr>\n",
       "      <th>health[T.Very poor]</th>\n",
       "      <td>0.366220</td>\n",
       "      <td>0.109006</td>\n",
       "      <td>1.230358</td>\n",
       "    </tr>\n",
       "    <tr>\n",
       "      <th>church_member[T.Don't belong]</th>\n",
       "      <td>0.325891</td>\n",
       "      <td>0.113095</td>\n",
       "      <td>0.939077</td>\n",
       "    </tr>\n",
       "    <tr>\n",
       "      <th>church_member[T.Inactive member]</th>\n",
       "      <td>0.613524</td>\n",
       "      <td>0.189230</td>\n",
       "      <td>1.989181</td>\n",
       "    </tr>\n",
       "    <tr>\n",
       "      <th>internet_source[T.Less than monthly]</th>\n",
       "      <td>1.031140</td>\n",
       "      <td>0.373381</td>\n",
       "      <td>2.847627</td>\n",
       "    </tr>\n",
       "    <tr>\n",
       "      <th>internet_source[T.Monthly]</th>\n",
       "      <td>0.709418</td>\n",
       "      <td>0.274463</td>\n",
       "      <td>1.833668</td>\n",
       "    </tr>\n",
       "    <tr>\n",
       "      <th>internet_source[T.Never]</th>\n",
       "      <td>0.760981</td>\n",
       "      <td>0.517364</td>\n",
       "      <td>1.119314</td>\n",
       "    </tr>\n",
       "    <tr>\n",
       "      <th>internet_source[T.Weekly]</th>\n",
       "      <td>0.633181</td>\n",
       "      <td>0.401684</td>\n",
       "      <td>0.998095</td>\n",
       "    </tr>\n",
       "    <tr>\n",
       "      <th>marital_status[T.Living together as married]</th>\n",
       "      <td>1.097256</td>\n",
       "      <td>0.252218</td>\n",
       "      <td>4.773533</td>\n",
       "    </tr>\n",
       "    <tr>\n",
       "      <th>marital_status[T.Married]</th>\n",
       "      <td>2.304971</td>\n",
       "      <td>1.257221</td>\n",
       "      <td>4.225901</td>\n",
       "    </tr>\n",
       "    <tr>\n",
       "      <th>marital_status[T.Separated]</th>\n",
       "      <td>0.445134</td>\n",
       "      <td>0.063619</td>\n",
       "      <td>3.114519</td>\n",
       "    </tr>\n",
       "    <tr>\n",
       "      <th>marital_status[T.Single]</th>\n",
       "      <td>1.737522</td>\n",
       "      <td>0.819477</td>\n",
       "      <td>3.684034</td>\n",
       "    </tr>\n",
       "    <tr>\n",
       "      <th>marital_status[T.Widowed]</th>\n",
       "      <td>4.282503</td>\n",
       "      <td>1.784788</td>\n",
       "      <td>10.275634</td>\n",
       "    </tr>\n",
       "    <tr>\n",
       "      <th>sex[T.Male]</th>\n",
       "      <td>0.705697</td>\n",
       "      <td>0.410535</td>\n",
       "      <td>1.213069</td>\n",
       "    </tr>\n",
       "    <tr>\n",
       "      <th>freedom_equality[T.Freedom]</th>\n",
       "      <td>1.508598</td>\n",
       "      <td>1.109800</td>\n",
       "      <td>2.050700</td>\n",
       "    </tr>\n",
       "    <tr>\n",
       "      <th>children_num</th>\n",
       "      <td>1.099967</td>\n",
       "      <td>0.879983</td>\n",
       "      <td>1.374943</td>\n",
       "    </tr>\n",
       "    <tr>\n",
       "      <th>children_num:sex[T.Male]</th>\n",
       "      <td>1.044211</td>\n",
       "      <td>0.796420</td>\n",
       "      <td>1.369099</td>\n",
       "    </tr>\n",
       "  </tbody>\n",
       "</table>\n",
       "</div>"
      ],
      "text/plain": [
       "                                              odds ratio     0.025      0.095\n",
       "Intercept                                       1.134516  0.283350   4.542539\n",
       "security_neighborhood[T.Not very secure]        1.697161  0.843265   3.415716\n",
       "security_neighborhood[T.Quite secure]           3.126405  1.560882   6.262105\n",
       "security_neighborhood[T.Very Secure]           10.404386  2.029005  53.351885\n",
       "health[T.Good]                                  2.510369  1.756010   3.588790\n",
       "health[T.Poor]                                  0.503692  0.322969   0.785541\n",
       "health[T.Very good]                             3.843600  2.159979   6.839539\n",
       "health[T.Very poor]                             0.366220  0.109006   1.230358\n",
       "church_member[T.Don't belong]                   0.325891  0.113095   0.939077\n",
       "church_member[T.Inactive member]                0.613524  0.189230   1.989181\n",
       "internet_source[T.Less than monthly]            1.031140  0.373381   2.847627\n",
       "internet_source[T.Monthly]                      0.709418  0.274463   1.833668\n",
       "internet_source[T.Never]                        0.760981  0.517364   1.119314\n",
       "internet_source[T.Weekly]                       0.633181  0.401684   0.998095\n",
       "marital_status[T.Living together as married]    1.097256  0.252218   4.773533\n",
       "marital_status[T.Married]                       2.304971  1.257221   4.225901\n",
       "marital_status[T.Separated]                     0.445134  0.063619   3.114519\n",
       "marital_status[T.Single]                        1.737522  0.819477   3.684034\n",
       "marital_status[T.Widowed]                       4.282503  1.784788  10.275634\n",
       "sex[T.Male]                                     0.705697  0.410535   1.213069\n",
       "freedom_equality[T.Freedom]                     1.508598  1.109800   2.050700\n",
       "children_num                                    1.099967  0.879983   1.374943\n",
       "children_num:sex[T.Male]                        1.044211  0.796420   1.369099"
      ]
     },
     "execution_count": 150,
     "metadata": {},
     "output_type": "execute_result"
    }
   ],
   "source": [
    "odds2 = pd.DataFrame()\n",
    "odds2['odds ratio'] = np.exp(log2.params)\n",
    "odds2 = pd.concat([odds2, np.exp(log2.conf_int())], axis=1)\n",
    "odds2.columns = ['odds ratio', '0.025', '0.095']\n",
    "odds2"
   ]
  },
  {
   "cell_type": "markdown",
   "id": "a605ff31",
   "metadata": {},
   "source": [
    "### Model description\n",
    "The first model has the 'satisfaction' as a response variable and the following set of predictors: security_neighborhood + health + church_member + internet_source + marital_status + + children_num * sex + freedom_equality. I added **nteraction effect between the number of children and sex**. I expect sex to moderate the relation between the number of children and satisfaction with life.\n",
    "\n",
    "### Log odds\n",
    "Several levels of **security_neighborhood, health, church_member, internet_source, marital_status and freedom_equality** turn out to be significant (p-values are less than 0.05). I won't interpret that all again: our old significant predictors remain to be significant, they can slightly change the p-value or the odds ration, but it is not so critical.\n",
    "\n",
    "The only visible change is internet_source became significant. Consuming information from the internet Weekly negatively affect the chances of satisfaction with life compared to the reference category of consuming information from the internet Daily.\n",
    "\n",
    "Our interaction effect is not significant here.\n",
    "\n",
    "### Odds ratio\n",
    "The odds ratio table is shown above. \n",
    "\n",
    "Again, approximately the same for our old significant variables.\n",
    "\n",
    "Consuming information from the internet Weekly have 0.63 to 1 chance of consuming information from the internet Daily to be satisfied with life, **thus respondents who consume information from the internet weekly have 37% less chances.**\n",
    "\n",
    "### Model fit\n",
    "The Pseudo R-squared value is 0.13, which means that the model explains around 13% of the variations in the response variable can be explained by our predictors. So, the predictive capacity of our model is low. But it is still better than the null model without any predictors, what we can see comparing log-likelihood and ll-null (-537.22 and -615.06, respectively)."
   ]
  },
  {
   "cell_type": "markdown",
   "id": "255a33d5",
   "metadata": {},
   "source": [
    "### Here I show some plot concerning the interaction effect between the number of children and sex\n",
    "\n",
    "Below one can see the histogram of children_num variable grouped and colored by sex. Proportion of women increases by rising the number of children."
   ]
  },
  {
   "cell_type": "code",
   "execution_count": 151,
   "id": "f6df0b49",
   "metadata": {},
   "outputs": [
    {
     "data": {
      "text/plain": [
       "<AxesSubplot:xlabel='children_num', ylabel='Count'>"
      ]
     },
     "execution_count": 151,
     "metadata": {},
     "output_type": "execute_result"
    },
    {
     "data": {
      "image/png": "[encoded data removed]",
      "text/plain": [
       "<Figure size 432x288 with 1 Axes>"
      ]
     },
     "metadata": {
      "needs_background": "light"
     },
     "output_type": "display_data"
    }
   ],
   "source": [
    "import seaborn as sns\n",
    "import matplotlib.pyplot as plt\n",
    "%matplotlib inline\n",
    "\n",
    "sns.histplot(binwidth=0.5, x=\"children_num\", hue=\"sex\", data=data_s, stat=\"count\", multiple=\"stack\")"
   ]
  },
  {
   "cell_type": "markdown",
   "id": "86689b38",
   "metadata": {},
   "source": [
    "Here I tried to make a scatterplot which would show all 3 variables at once. The horizontal variable is the number of children, the vertical is the outcome variable, satisfaction with life, and the color is the sex variable. It's hard to see something because the dots overlap each other."
   ]
  },
  {
   "cell_type": "code",
   "execution_count": 152,
   "id": "9e294d4b",
   "metadata": {},
   "outputs": [
    {
     "data": {
      "text/plain": [
       "<seaborn.axisgrid.FacetGrid at 0x11052b1bb80>"
      ]
     },
     "execution_count": 152,
     "metadata": {},
     "output_type": "execute_result"
    },
    {
     "data": {
      "image/png": "[encoded data removed]",
      "text/plain": [
       "<Figure size 432.125x360 with 1 Axes>"
      ]
     },
     "metadata": {
      "needs_background": "light"
     },
     "output_type": "display_data"
    }
   ],
   "source": [
    "import seaborn as sns\n",
    "sns.relplot(x=data_s[\"children_num\"], y=data_s['satisfaction'], hue=data_s[\"sex\"])"
   ]
  },
  {
   "cell_type": "markdown",
   "id": "34b11a88",
   "metadata": {},
   "source": [
    "### Model fit comparison"
   ]
  },
  {
   "cell_type": "code",
   "execution_count": 153,
   "id": "02032306",
   "metadata": {},
   "outputs": [
    {
     "name": "stdout",
     "output_type": "stream",
     "text": [
      "0.0980228910614187\n",
      "0.7542152673515516\n"
     ]
    }
   ],
   "source": [
    "import scipy\n",
    "\n",
    "ll1 = log1.llf\n",
    "ll2 = log2.llf\n",
    "LR_statistics = -2*(ll1-ll2)\n",
    "print(LR_statistics)\n",
    "\n",
    "df = 1\n",
    "p_val = scipy.stats.chi2.sf(LR_statistics, df)\n",
    "print(p_val)"
   ]
  },
  {
   "cell_type": "markdown",
   "id": "39b76a75",
   "metadata": {},
   "source": [
    "We have to compare the two models in order to choose the better one.\n",
    "\n",
    "Likelihood ratio test was used to determine if these two models are significantly different. Hypotheses are the following:\n",
    "\n",
    "H0: The full model and the reduced model fit the data **equally well.** There is no reason to use the extended model.\n",
    "\n",
    "H1: The full model fits the data significantly **better** than the reduced model. Thus, one should use the full model.\n",
    "\n",
    "I took the log-likelihood values from both models, calculated the statistics. Then produced the p-value for it using degrees of freedom equal 1 (that is the difference in dfs of two models (22-21)). \n",
    "\n",
    "We cannot regect the zero hypothesis, because the p-value is greater than 0.05 (0.75). The second model, in which interaction was added, did not perform better than the first one. **= = > We should use the first (reduced) model.**"
   ]
  },
  {
   "cell_type": "markdown",
   "id": "2481706d",
   "metadata": {},
   "source": [
    "### Discussion\n",
    "\n",
    "#### Confirmed hypotheses:\n",
    "+ The safer a person feels in the neighborhood, the more likely one is satisfied with life. \n",
    "+ The better a person evaluates own health, the more likely one is satisfied with life. \n",
    "+ The more favorable the marital status of a person (married, living together as married, and so on), the more likely one is satisfied with life.\n",
    "+ The greater the level of involvement of a person in a religious organization, the more likely one is satisfied with life.\n",
    "\n",
    "#### Rejected:\n",
    "+ The more often a person uses the Internet as a source of information, the less likely one is satisfied with life.  \n",
    "+ People who prefer equality to freedom will be more likely satisfied with life.\n",
    "\n",
    "The rejected hypotheses should be interpreted in the opposite direction: people who consume information from the Internet more often (daily) are more likely to be satisfied with life than people who consume information from the Internet less often (weekly); people who prefer freedom over equality have a greater chance of being satisfied with life.\n",
    "\n",
    "Thus, we found that the satisfaction of basic needs, examples of which were presented in the analysis (safety in the neighborhood, one's own health, family relationships) are related to a person's satisfaction with life. Feeling safe in the neighborhood, having good health, favorable family relationships, increase a person's chances of feeling satisfied with life. However, additional needs that are an integral and important part of a person's life in a developed country also affect a person's satisfaction with life (belonging to a religious organization, obtaining information via the Internet (in an extended model), a person's priority values), albeit to a lesser extent. Being an active member of a religious organization, consuming information from the Internet on a daily basis, prioritizing freedom over equality, increases a person's chances of feeling satisfied with life. \n",
    "\n",
    "This means that in Japanese are getting used to expanding the range of their needs, and now their satisfaction with life depends on the satisfaction of them too. I would explain this by the fact that the quality of life in developed countries is higher. However, to confirm this, one needs to conduct a study with a similar research question with a range of countries. Also, this analysis was an attempt to create some kind of latent quality of life variable. But for sure, international organizations also evaluate this indicator with the help of a number of variables, the quality of life variable could also be included in the analysis.\n",
    "\n",
    "An unexpected finding is that widowed people feel more satisfied with life than divorced people. Although it is difficult to say here which of these marital statuses would be more favorable. The fact that people who prioritize freedom over equality feel more satisfied with life was also unexpected. I would explain this by the fact that probably the policy of the state favors freedom, which is reflected in the fact that people who appreciate it feel better. However, I expected the opposite, based on how much public money Japan spends on the social sphere, support for the elderly and fertility (due to the population aging). I know the controversial stories about lifetime employment, great reputation impact, and big trouble finding a new job after being fired, so maybe that's the reason.\n",
    "\n",
    "The disadvantage of the study is of course its non-systematic nature, the predictors were chosen as examples and in a mild sense randomly, there is no theoretical basis for such a choice. Also, the outcome variable was encoded as binary when previously presented in the form of 10 scales. Thus, the construction of an ordinal regression model would be desirable. The levels of some predictors include only a few cases (less than 5 or 10), perhaps such levels should be combined with others."
   ]
  },
  {
   "cell_type": "markdown",
   "id": "b6ea6f7a",
   "metadata": {},
   "source": [
    "## Exploratory Factor Analysis\n",
    "\n",
    "Importing the data"
   ]
  },
  {
   "cell_type": "code",
   "execution_count": 154,
   "id": "0a062ba9",
   "metadata": {},
   "outputs": [
    {
     "name": "stderr",
     "output_type": "stream",
     "text": [
      "C:\\ProgramData\\Anaconda3\\envs\\text_m\\lib\\site-packages\\openpyxl\\styles\\stylesheet.py:214: UserWarning: Workbook contains no default style, apply openpyxl's default\n",
      "  warn(\"Workbook contains no default style, apply openpyxl's default\")\n"
     ]
    },
    {
     "data": {
      "text/html": [
       "<div>\n",
       "<style scoped>\n",
       "    .dataframe tbody tr th:only-of-type {\n",
       "        vertical-align: middle;\n",
       "    }\n",
       "\n",
       "    .dataframe tbody tr th {\n",
       "        vertical-align: top;\n",
       "    }\n",
       "\n",
       "    .dataframe thead th {\n",
       "        text-align: right;\n",
       "    }\n",
       "</style>\n",
       "<table border=\"1\" class=\"dataframe\">\n",
       "  <thead>\n",
       "    <tr style=\"text-align: right;\">\n",
       "      <th></th>\n",
       "      <th>version: Version of Data File</th>\n",
       "      <th>doi: Digital Object Identifier</th>\n",
       "      <th>B_COUNTRY: ISO 3166-1 numeric country code</th>\n",
       "      <th>B_COUNTRY_ALPHA: ISO 3166-1 alpha-3 country code</th>\n",
       "      <th>C_COW_NUM: CoW country code numeric</th>\n",
       "      <th>C_COW_ALPHA: CoW country code alpha</th>\n",
       "      <th>A_YEAR: Year of survey</th>\n",
       "      <th>D_INTERVIEW: Interview ID</th>\n",
       "      <th>J_INTDATE: Date of interview</th>\n",
       "      <th>FW_END: Year/month of end-fieldwork</th>\n",
       "      <th>...</th>\n",
       "      <th>WEIGHT4A: Overall Secular Values-4: Weight 4a</th>\n",
       "      <th>WEIGHT4B: Emancipative Values-4: Weight 4b</th>\n",
       "      <th>RESEMAVALBWGT: Weight for Emancipative values</th>\n",
       "      <th>RESEMAVALWGT: Weight for Emancipative values</th>\n",
       "      <th>SECVALBWGT: Weight for overall secular values Short Version</th>\n",
       "      <th>Y001_1: Materialist/postmaterialist 12-item index: Component 1</th>\n",
       "      <th>Y001_2: Materialist/postmaterialist 12-item index: Component 2</th>\n",
       "      <th>Y001_3: Materialist/postmaterialist 12-item index: Component 3</th>\n",
       "      <th>Y001_4: Materialist/postmaterialist 12-item index: Component 4</th>\n",
       "      <th>Y001_5: Materialist/postmaterialist 12-item index: Component 5</th>\n",
       "    </tr>\n",
       "  </thead>\n",
       "  <tbody>\n",
       "    <tr>\n",
       "      <th>0</th>\n",
       "      <td>1-5-0 (2020-11-16)</td>\n",
       "      <td>doi.org/10.14281/18241.1</td>\n",
       "      <td>392.0</td>\n",
       "      <td>JPN</td>\n",
       "      <td>740.0</td>\n",
       "      <td>JPN</td>\n",
       "      <td>2019.0</td>\n",
       "      <td>392070001.0</td>\n",
       "      <td>20190912.0</td>\n",
       "      <td>201909.0</td>\n",
       "      <td>...</td>\n",
       "      <td>1.0</td>\n",
       "      <td>1.00</td>\n",
       "      <td>1.0</td>\n",
       "      <td>1.000</td>\n",
       "      <td>1.0</td>\n",
       "      <td>1.0</td>\n",
       "      <td>1.0</td>\n",
       "      <td>1.0</td>\n",
       "      <td>0.0</td>\n",
       "      <td>1.0</td>\n",
       "    </tr>\n",
       "    <tr>\n",
       "      <th>1</th>\n",
       "      <td>1-5-0 (2020-11-16)</td>\n",
       "      <td>doi.org/10.14281/18241.1</td>\n",
       "      <td>392.0</td>\n",
       "      <td>JPN</td>\n",
       "      <td>740.0</td>\n",
       "      <td>JPN</td>\n",
       "      <td>2019.0</td>\n",
       "      <td>392070002.0</td>\n",
       "      <td>20190916.0</td>\n",
       "      <td>201909.0</td>\n",
       "      <td>...</td>\n",
       "      <td>1.0</td>\n",
       "      <td>1.00</td>\n",
       "      <td>1.0</td>\n",
       "      <td>1.000</td>\n",
       "      <td>1.0</td>\n",
       "      <td>1.0</td>\n",
       "      <td>1.0</td>\n",
       "      <td>0.0</td>\n",
       "      <td>1.0</td>\n",
       "      <td>1.0</td>\n",
       "    </tr>\n",
       "    <tr>\n",
       "      <th>2</th>\n",
       "      <td>1-5-0 (2020-11-16)</td>\n",
       "      <td>doi.org/10.14281/18241.1</td>\n",
       "      <td>392.0</td>\n",
       "      <td>JPN</td>\n",
       "      <td>740.0</td>\n",
       "      <td>JPN</td>\n",
       "      <td>2019.0</td>\n",
       "      <td>392070003.0</td>\n",
       "      <td>20190915.0</td>\n",
       "      <td>201909.0</td>\n",
       "      <td>...</td>\n",
       "      <td>1.0</td>\n",
       "      <td>1.00</td>\n",
       "      <td>1.0</td>\n",
       "      <td>1.000</td>\n",
       "      <td>1.0</td>\n",
       "      <td>0.0</td>\n",
       "      <td>0.0</td>\n",
       "      <td>1.0</td>\n",
       "      <td>0.0</td>\n",
       "      <td>1.0</td>\n",
       "    </tr>\n",
       "    <tr>\n",
       "      <th>3</th>\n",
       "      <td>1-5-0 (2020-11-16)</td>\n",
       "      <td>doi.org/10.14281/18241.1</td>\n",
       "      <td>392.0</td>\n",
       "      <td>JPN</td>\n",
       "      <td>740.0</td>\n",
       "      <td>JPN</td>\n",
       "      <td>2019.0</td>\n",
       "      <td>392070004.0</td>\n",
       "      <td>20190915.0</td>\n",
       "      <td>201909.0</td>\n",
       "      <td>...</td>\n",
       "      <td>1.0</td>\n",
       "      <td>1.00</td>\n",
       "      <td>1.0</td>\n",
       "      <td>1.000</td>\n",
       "      <td>1.0</td>\n",
       "      <td>1.0</td>\n",
       "      <td>1.0</td>\n",
       "      <td>1.0</td>\n",
       "      <td>0.0</td>\n",
       "      <td>1.0</td>\n",
       "    </tr>\n",
       "    <tr>\n",
       "      <th>4</th>\n",
       "      <td>1-5-0 (2020-11-16)</td>\n",
       "      <td>doi.org/10.14281/18241.1</td>\n",
       "      <td>392.0</td>\n",
       "      <td>JPN</td>\n",
       "      <td>740.0</td>\n",
       "      <td>JPN</td>\n",
       "      <td>2019.0</td>\n",
       "      <td>392070005.0</td>\n",
       "      <td>20190913.0</td>\n",
       "      <td>201909.0</td>\n",
       "      <td>...</td>\n",
       "      <td>1.0</td>\n",
       "      <td>0.66</td>\n",
       "      <td>1.0</td>\n",
       "      <td>0.915</td>\n",
       "      <td>1.0</td>\n",
       "      <td>-2.0</td>\n",
       "      <td>-2.0</td>\n",
       "      <td>-2.0</td>\n",
       "      <td>-2.0</td>\n",
       "      <td>-2.0</td>\n",
       "    </tr>\n",
       "  </tbody>\n",
       "</table>\n",
       "<p>5 rows × 397 columns</p>\n",
       "</div>"
      ],
      "text/plain": [
       "  version: Version of Data File doi: Digital Object Identifier  \\\n",
       "0            1-5-0 (2020-11-16)       doi.org/10.14281/18241.1   \n",
       "1            1-5-0 (2020-11-16)       doi.org/10.14281/18241.1   \n",
       "2            1-5-0 (2020-11-16)       doi.org/10.14281/18241.1   \n",
       "3            1-5-0 (2020-11-16)       doi.org/10.14281/18241.1   \n",
       "4            1-5-0 (2020-11-16)       doi.org/10.14281/18241.1   \n",
       "\n",
       "   B_COUNTRY: ISO 3166-1 numeric country code  \\\n",
       "0                                       392.0   \n",
       "1                                       392.0   \n",
       "2                                       392.0   \n",
       "3                                       392.0   \n",
       "4                                       392.0   \n",
       "\n",
       "  B_COUNTRY_ALPHA: ISO 3166-1 alpha-3 country code  \\\n",
       "0                                              JPN   \n",
       "1                                              JPN   \n",
       "2                                              JPN   \n",
       "3                                              JPN   \n",
       "4                                              JPN   \n",
       "\n",
       "   C_COW_NUM: CoW country code numeric C_COW_ALPHA: CoW country code alpha  \\\n",
       "0                                740.0                                 JPN   \n",
       "1                                740.0                                 JPN   \n",
       "2                                740.0                                 JPN   \n",
       "3                                740.0                                 JPN   \n",
       "4                                740.0                                 JPN   \n",
       "\n",
       "   A_YEAR: Year of survey  D_INTERVIEW: Interview ID  \\\n",
       "0                  2019.0                392070001.0   \n",
       "1                  2019.0                392070002.0   \n",
       "2                  2019.0                392070003.0   \n",
       "3                  2019.0                392070004.0   \n",
       "4                  2019.0                392070005.0   \n",
       "\n",
       "   J_INTDATE: Date of interview  FW_END: Year/month of end-fieldwork  ...  \\\n",
       "0                    20190912.0                             201909.0  ...   \n",
       "1                    20190916.0                             201909.0  ...   \n",
       "2                    20190915.0                             201909.0  ...   \n",
       "3                    20190915.0                             201909.0  ...   \n",
       "4                    20190913.0                             201909.0  ...   \n",
       "\n",
       "   WEIGHT4A: Overall Secular Values-4: Weight 4a  \\\n",
       "0                                            1.0   \n",
       "1                                            1.0   \n",
       "2                                            1.0   \n",
       "3                                            1.0   \n",
       "4                                            1.0   \n",
       "\n",
       "   WEIGHT4B: Emancipative Values-4: Weight 4b  \\\n",
       "0                                        1.00   \n",
       "1                                        1.00   \n",
       "2                                        1.00   \n",
       "3                                        1.00   \n",
       "4                                        0.66   \n",
       "\n",
       "   RESEMAVALBWGT: Weight for Emancipative values  \\\n",
       "0                                            1.0   \n",
       "1                                            1.0   \n",
       "2                                            1.0   \n",
       "3                                            1.0   \n",
       "4                                            1.0   \n",
       "\n",
       "   RESEMAVALWGT: Weight for Emancipative values  \\\n",
       "0                                         1.000   \n",
       "1                                         1.000   \n",
       "2                                         1.000   \n",
       "3                                         1.000   \n",
       "4                                         0.915   \n",
       "\n",
       "   SECVALBWGT: Weight for overall secular values Short Version  \\\n",
       "0                                                1.0             \n",
       "1                                                1.0             \n",
       "2                                                1.0             \n",
       "3                                                1.0             \n",
       "4                                                1.0             \n",
       "\n",
       "   Y001_1: Materialist/postmaterialist 12-item index: Component 1  \\\n",
       "0                                                1.0                \n",
       "1                                                1.0                \n",
       "2                                                0.0                \n",
       "3                                                1.0                \n",
       "4                                               -2.0                \n",
       "\n",
       "   Y001_2: Materialist/postmaterialist 12-item index: Component 2  \\\n",
       "0                                                1.0                \n",
       "1                                                1.0                \n",
       "2                                                0.0                \n",
       "3                                                1.0                \n",
       "4                                               -2.0                \n",
       "\n",
       "   Y001_3: Materialist/postmaterialist 12-item index: Component 3  \\\n",
       "0                                                1.0                \n",
       "1                                                0.0                \n",
       "2                                                1.0                \n",
       "3                                                1.0                \n",
       "4                                               -2.0                \n",
       "\n",
       "   Y001_4: Materialist/postmaterialist 12-item index: Component 4  \\\n",
       "0                                                0.0                \n",
       "1                                                1.0                \n",
       "2                                                0.0                \n",
       "3                                                0.0                \n",
       "4                                               -2.0                \n",
       "\n",
       "   Y001_5: Materialist/postmaterialist 12-item index: Component 5  \n",
       "0                                                1.0               \n",
       "1                                                1.0               \n",
       "2                                                1.0               \n",
       "3                                                1.0               \n",
       "4                                               -2.0               \n",
       "\n",
       "[5 rows x 397 columns]"
      ]
     },
     "execution_count": 154,
     "metadata": {},
     "output_type": "execute_result"
    }
   ],
   "source": [
    "data = pd.read_excel(\"C:/Users/ЛИЗА/Documents/F00010946-WVS_Wave_7_Japan_Excel_v2.0.xlsx\")\n",
    "data.head()"
   ]
  },
  {
   "cell_type": "markdown",
   "id": "fc3cda43",
   "metadata": {},
   "source": [
    "I have chosen 11 variables to be used in the factor analysis."
   ]
  },
  {
   "cell_type": "code",
   "execution_count": 155,
   "id": "e9a7d719",
   "metadata": {},
   "outputs": [
    {
     "data": {
      "text/html": [
       "<div>\n",
       "<style scoped>\n",
       "    .dataframe tbody tr th:only-of-type {\n",
       "        vertical-align: middle;\n",
       "    }\n",
       "\n",
       "    .dataframe tbody tr th {\n",
       "        vertical-align: top;\n",
       "    }\n",
       "\n",
       "    .dataframe thead th {\n",
       "        text-align: right;\n",
       "    }\n",
       "</style>\n",
       "<table border=\"1\" class=\"dataframe\">\n",
       "  <thead>\n",
       "    <tr style=\"text-align: right;\">\n",
       "      <th></th>\n",
       "      <th>Q1: Important in life: Family</th>\n",
       "      <th>Q4: Important in life: Politics</th>\n",
       "      <th>Q6: Important in life: Religion</th>\n",
       "      <th>Q5: Important in life: Work</th>\n",
       "      <th>Q58: Trust: Your family</th>\n",
       "      <th>Q62: Trust: People of another religion</th>\n",
       "      <th>Q63: Trust: People of another nationality</th>\n",
       "      <th>Q60: Trust: People you know personally</th>\n",
       "      <th>Q71: Confidence: The Government</th>\n",
       "      <th>Q73: Confidence: Parliament</th>\n",
       "      <th>Q66: Confidence: The Press</th>\n",
       "    </tr>\n",
       "  </thead>\n",
       "  <tbody>\n",
       "    <tr>\n",
       "      <th>0</th>\n",
       "      <td>1.0</td>\n",
       "      <td>2.0</td>\n",
       "      <td>3.0</td>\n",
       "      <td>1.0</td>\n",
       "      <td>1.0</td>\n",
       "      <td>2.0</td>\n",
       "      <td>2.0</td>\n",
       "      <td>2.0</td>\n",
       "      <td>3.0</td>\n",
       "      <td>2.0</td>\n",
       "      <td>1.0</td>\n",
       "    </tr>\n",
       "    <tr>\n",
       "      <th>1</th>\n",
       "      <td>1.0</td>\n",
       "      <td>1.0</td>\n",
       "      <td>4.0</td>\n",
       "      <td>1.0</td>\n",
       "      <td>1.0</td>\n",
       "      <td>2.0</td>\n",
       "      <td>2.0</td>\n",
       "      <td>2.0</td>\n",
       "      <td>3.0</td>\n",
       "      <td>3.0</td>\n",
       "      <td>2.0</td>\n",
       "    </tr>\n",
       "    <tr>\n",
       "      <th>2</th>\n",
       "      <td>1.0</td>\n",
       "      <td>1.0</td>\n",
       "      <td>1.0</td>\n",
       "      <td>1.0</td>\n",
       "      <td>1.0</td>\n",
       "      <td>-1.0</td>\n",
       "      <td>-1.0</td>\n",
       "      <td>2.0</td>\n",
       "      <td>2.0</td>\n",
       "      <td>2.0</td>\n",
       "      <td>-1.0</td>\n",
       "    </tr>\n",
       "    <tr>\n",
       "      <th>3</th>\n",
       "      <td>2.0</td>\n",
       "      <td>2.0</td>\n",
       "      <td>3.0</td>\n",
       "      <td>2.0</td>\n",
       "      <td>3.0</td>\n",
       "      <td>3.0</td>\n",
       "      <td>4.0</td>\n",
       "      <td>2.0</td>\n",
       "      <td>4.0</td>\n",
       "      <td>4.0</td>\n",
       "      <td>2.0</td>\n",
       "    </tr>\n",
       "    <tr>\n",
       "      <th>4</th>\n",
       "      <td>1.0</td>\n",
       "      <td>4.0</td>\n",
       "      <td>4.0</td>\n",
       "      <td>1.0</td>\n",
       "      <td>1.0</td>\n",
       "      <td>3.0</td>\n",
       "      <td>2.0</td>\n",
       "      <td>2.0</td>\n",
       "      <td>2.0</td>\n",
       "      <td>2.0</td>\n",
       "      <td>3.0</td>\n",
       "    </tr>\n",
       "  </tbody>\n",
       "</table>\n",
       "</div>"
      ],
      "text/plain": [
       "   Q1: Important in life: Family  Q4: Important in life: Politics  \\\n",
       "0                            1.0                              2.0   \n",
       "1                            1.0                              1.0   \n",
       "2                            1.0                              1.0   \n",
       "3                            2.0                              2.0   \n",
       "4                            1.0                              4.0   \n",
       "\n",
       "   Q6: Important in life: Religion  Q5: Important in life: Work  \\\n",
       "0                              3.0                          1.0   \n",
       "1                              4.0                          1.0   \n",
       "2                              1.0                          1.0   \n",
       "3                              3.0                          2.0   \n",
       "4                              4.0                          1.0   \n",
       "\n",
       "   Q58: Trust: Your family  Q62: Trust: People of another religion  \\\n",
       "0                      1.0                                     2.0   \n",
       "1                      1.0                                     2.0   \n",
       "2                      1.0                                    -1.0   \n",
       "3                      3.0                                     3.0   \n",
       "4                      1.0                                     3.0   \n",
       "\n",
       "   Q63: Trust: People of another nationality  \\\n",
       "0                                        2.0   \n",
       "1                                        2.0   \n",
       "2                                       -1.0   \n",
       "3                                        4.0   \n",
       "4                                        2.0   \n",
       "\n",
       "   Q60: Trust: People you know personally  Q71: Confidence: The Government  \\\n",
       "0                                     2.0                              3.0   \n",
       "1                                     2.0                              3.0   \n",
       "2                                     2.0                              2.0   \n",
       "3                                     2.0                              4.0   \n",
       "4                                     2.0                              2.0   \n",
       "\n",
       "   Q73: Confidence: Parliament  Q66: Confidence: The Press  \n",
       "0                          2.0                         1.0  \n",
       "1                          3.0                         2.0  \n",
       "2                          2.0                        -1.0  \n",
       "3                          4.0                         2.0  \n",
       "4                          2.0                         3.0  "
      ]
     },
     "execution_count": 155,
     "metadata": {},
     "output_type": "execute_result"
    }
   ],
   "source": [
    "fa = data[['Q1: Important in life: Family', 'Q4: Important in life: Politics', 'Q6: Important in life: Religion', 'Q5: Important in life: Work', 'Q58: Trust: Your family', 'Q62: Trust: People of another religion', 'Q63: Trust: People of another nationality', 'Q60: Trust: People you know personally', 'Q71: Confidence: The Government', 'Q73: Confidence: Parliament', 'Q66: Confidence: The Press']]\n",
    "fa.head()"
   ]
  },
  {
   "cell_type": "code",
   "execution_count": 156,
   "id": "1f5654c8",
   "metadata": {},
   "outputs": [],
   "source": [
    "import pandas as pd\n",
    "from factor_analyzer import FactorAnalyzer\n",
    "import matplotlib.pyplot as plt\n",
    "import seaborn as sns\n",
    "import numpy as np\n",
    "\n",
    "from sklearn.preprocessing import StandardScaler"
   ]
  },
  {
   "cell_type": "markdown",
   "id": "599ed13b",
   "metadata": {},
   "source": [
    "We need to scale our variables (just in case, because in fact there is not much difference between the scales)"
   ]
  },
  {
   "cell_type": "code",
   "execution_count": 157,
   "id": "4e9e621f",
   "metadata": {},
   "outputs": [
    {
     "data": {
      "text/html": [
       "<div>\n",
       "<style scoped>\n",
       "    .dataframe tbody tr th:only-of-type {\n",
       "        vertical-align: middle;\n",
       "    }\n",
       "\n",
       "    .dataframe tbody tr th {\n",
       "        vertical-align: top;\n",
       "    }\n",
       "\n",
       "    .dataframe thead th {\n",
       "        text-align: right;\n",
       "    }\n",
       "</style>\n",
       "<table border=\"1\" class=\"dataframe\">\n",
       "  <thead>\n",
       "    <tr style=\"text-align: right;\">\n",
       "      <th></th>\n",
       "      <th>Q1: Important in life: Family</th>\n",
       "      <th>Q4: Important in life: Politics</th>\n",
       "      <th>Q6: Important in life: Religion</th>\n",
       "      <th>Q5: Important in life: Work</th>\n",
       "      <th>Q58: Trust: Your family</th>\n",
       "      <th>Q62: Trust: People of another religion</th>\n",
       "      <th>Q63: Trust: People of another nationality</th>\n",
       "      <th>Q60: Trust: People you know personally</th>\n",
       "      <th>Q71: Confidence: The Government</th>\n",
       "      <th>Q73: Confidence: Parliament</th>\n",
       "      <th>Q66: Confidence: The Press</th>\n",
       "    </tr>\n",
       "  </thead>\n",
       "  <tbody>\n",
       "    <tr>\n",
       "      <th>0</th>\n",
       "      <td>-0.134952</td>\n",
       "      <td>-0.052280</td>\n",
       "      <td>0.114704</td>\n",
       "      <td>-0.698324</td>\n",
       "      <td>-0.428492</td>\n",
       "      <td>0.260186</td>\n",
       "      <td>0.327781</td>\n",
       "      <td>0.109888</td>\n",
       "      <td>0.537417</td>\n",
       "      <td>-0.271502</td>\n",
       "      <td>-1.409010</td>\n",
       "    </tr>\n",
       "    <tr>\n",
       "      <th>1</th>\n",
       "      <td>-0.134952</td>\n",
       "      <td>-1.021244</td>\n",
       "      <td>0.764054</td>\n",
       "      <td>-0.698324</td>\n",
       "      <td>-0.428492</td>\n",
       "      <td>0.260186</td>\n",
       "      <td>0.327781</td>\n",
       "      <td>0.109888</td>\n",
       "      <td>0.537417</td>\n",
       "      <td>0.475129</td>\n",
       "      <td>-0.204720</td>\n",
       "    </tr>\n",
       "    <tr>\n",
       "      <th>2</th>\n",
       "      <td>-0.134952</td>\n",
       "      <td>-1.021244</td>\n",
       "      <td>-1.183996</td>\n",
       "      <td>-0.698324</td>\n",
       "      <td>-0.428492</td>\n",
       "      <td>-1.192489</td>\n",
       "      <td>-1.182391</td>\n",
       "      <td>0.109888</td>\n",
       "      <td>-0.275922</td>\n",
       "      <td>-0.271502</td>\n",
       "      <td>-3.817589</td>\n",
       "    </tr>\n",
       "    <tr>\n",
       "      <th>3</th>\n",
       "      <td>2.236340</td>\n",
       "      <td>-0.052280</td>\n",
       "      <td>0.114704</td>\n",
       "      <td>0.303619</td>\n",
       "      <td>2.874924</td>\n",
       "      <td>0.744411</td>\n",
       "      <td>1.334562</td>\n",
       "      <td>0.109888</td>\n",
       "      <td>1.350757</td>\n",
       "      <td>1.221759</td>\n",
       "      <td>-0.204720</td>\n",
       "    </tr>\n",
       "    <tr>\n",
       "      <th>4</th>\n",
       "      <td>-0.134952</td>\n",
       "      <td>1.885648</td>\n",
       "      <td>0.764054</td>\n",
       "      <td>-0.698324</td>\n",
       "      <td>-0.428492</td>\n",
       "      <td>0.744411</td>\n",
       "      <td>0.327781</td>\n",
       "      <td>0.109888</td>\n",
       "      <td>-0.275922</td>\n",
       "      <td>-0.271502</td>\n",
       "      <td>0.999569</td>\n",
       "    </tr>\n",
       "    <tr>\n",
       "      <th>...</th>\n",
       "      <td>...</td>\n",
       "      <td>...</td>\n",
       "      <td>...</td>\n",
       "      <td>...</td>\n",
       "      <td>...</td>\n",
       "      <td>...</td>\n",
       "      <td>...</td>\n",
       "      <td>...</td>\n",
       "      <td>...</td>\n",
       "      <td>...</td>\n",
       "      <td>...</td>\n",
       "    </tr>\n",
       "    <tr>\n",
       "      <th>1348</th>\n",
       "      <td>-0.134952</td>\n",
       "      <td>-0.052280</td>\n",
       "      <td>-0.534646</td>\n",
       "      <td>-0.698324</td>\n",
       "      <td>-0.428492</td>\n",
       "      <td>0.260186</td>\n",
       "      <td>0.327781</td>\n",
       "      <td>-1.108792</td>\n",
       "      <td>-2.715941</td>\n",
       "      <td>-2.511394</td>\n",
       "      <td>-0.204720</td>\n",
       "    </tr>\n",
       "    <tr>\n",
       "      <th>1349</th>\n",
       "      <td>-0.134952</td>\n",
       "      <td>-1.021244</td>\n",
       "      <td>0.114704</td>\n",
       "      <td>-0.698324</td>\n",
       "      <td>-0.428492</td>\n",
       "      <td>1.228636</td>\n",
       "      <td>1.334562</td>\n",
       "      <td>1.328569</td>\n",
       "      <td>0.537417</td>\n",
       "      <td>0.475129</td>\n",
       "      <td>-0.204720</td>\n",
       "    </tr>\n",
       "    <tr>\n",
       "      <th>1350</th>\n",
       "      <td>-0.134952</td>\n",
       "      <td>-1.021244</td>\n",
       "      <td>-0.534646</td>\n",
       "      <td>0.303619</td>\n",
       "      <td>1.223216</td>\n",
       "      <td>1.228636</td>\n",
       "      <td>0.831171</td>\n",
       "      <td>0.109888</td>\n",
       "      <td>-3.529280</td>\n",
       "      <td>0.475129</td>\n",
       "      <td>0.999569</td>\n",
       "    </tr>\n",
       "    <tr>\n",
       "      <th>1351</th>\n",
       "      <td>-0.134952</td>\n",
       "      <td>-0.052280</td>\n",
       "      <td>0.764054</td>\n",
       "      <td>-0.698324</td>\n",
       "      <td>1.223216</td>\n",
       "      <td>1.228636</td>\n",
       "      <td>1.334562</td>\n",
       "      <td>0.109888</td>\n",
       "      <td>-0.275922</td>\n",
       "      <td>0.475129</td>\n",
       "      <td>0.999569</td>\n",
       "    </tr>\n",
       "    <tr>\n",
       "      <th>1352</th>\n",
       "      <td>-0.134952</td>\n",
       "      <td>0.916684</td>\n",
       "      <td>0.114704</td>\n",
       "      <td>0.303619</td>\n",
       "      <td>1.223216</td>\n",
       "      <td>0.744411</td>\n",
       "      <td>0.831171</td>\n",
       "      <td>0.109888</td>\n",
       "      <td>0.537417</td>\n",
       "      <td>0.475129</td>\n",
       "      <td>-0.204720</td>\n",
       "    </tr>\n",
       "  </tbody>\n",
       "</table>\n",
       "<p>1353 rows × 11 columns</p>\n",
       "</div>"
      ],
      "text/plain": [
       "      Q1: Important in life: Family  Q4: Important in life: Politics  \\\n",
       "0                         -0.134952                        -0.052280   \n",
       "1                         -0.134952                        -1.021244   \n",
       "2                         -0.134952                        -1.021244   \n",
       "3                          2.236340                        -0.052280   \n",
       "4                         -0.134952                         1.885648   \n",
       "...                             ...                              ...   \n",
       "1348                      -0.134952                        -0.052280   \n",
       "1349                      -0.134952                        -1.021244   \n",
       "1350                      -0.134952                        -1.021244   \n",
       "1351                      -0.134952                        -0.052280   \n",
       "1352                      -0.134952                         0.916684   \n",
       "\n",
       "      Q6: Important in life: Religion  Q5: Important in life: Work  \\\n",
       "0                            0.114704                    -0.698324   \n",
       "1                            0.764054                    -0.698324   \n",
       "2                           -1.183996                    -0.698324   \n",
       "3                            0.114704                     0.303619   \n",
       "4                            0.764054                    -0.698324   \n",
       "...                               ...                          ...   \n",
       "1348                        -0.534646                    -0.698324   \n",
       "1349                         0.114704                    -0.698324   \n",
       "1350                        -0.534646                     0.303619   \n",
       "1351                         0.764054                    -0.698324   \n",
       "1352                         0.114704                     0.303619   \n",
       "\n",
       "      Q58: Trust: Your family  Q62: Trust: People of another religion  \\\n",
       "0                   -0.428492                                0.260186   \n",
       "1                   -0.428492                                0.260186   \n",
       "2                   -0.428492                               -1.192489   \n",
       "3                    2.874924                                0.744411   \n",
       "4                   -0.428492                                0.744411   \n",
       "...                       ...                                     ...   \n",
       "1348                -0.428492                                0.260186   \n",
       "1349                -0.428492                                1.228636   \n",
       "1350                 1.223216                                1.228636   \n",
       "1351                 1.223216                                1.228636   \n",
       "1352                 1.223216                                0.744411   \n",
       "\n",
       "      Q63: Trust: People of another nationality  \\\n",
       "0                                      0.327781   \n",
       "1                                      0.327781   \n",
       "2                                     -1.182391   \n",
       "3                                      1.334562   \n",
       "4                                      0.327781   \n",
       "...                                         ...   \n",
       "1348                                   0.327781   \n",
       "1349                                   1.334562   \n",
       "1350                                   0.831171   \n",
       "1351                                   1.334562   \n",
       "1352                                   0.831171   \n",
       "\n",
       "      Q60: Trust: People you know personally  Q71: Confidence: The Government  \\\n",
       "0                                   0.109888                         0.537417   \n",
       "1                                   0.109888                         0.537417   \n",
       "2                                   0.109888                        -0.275922   \n",
       "3                                   0.109888                         1.350757   \n",
       "4                                   0.109888                        -0.275922   \n",
       "...                                      ...                              ...   \n",
       "1348                               -1.108792                        -2.715941   \n",
       "1349                                1.328569                         0.537417   \n",
       "1350                                0.109888                        -3.529280   \n",
       "1351                                0.109888                        -0.275922   \n",
       "1352                                0.109888                         0.537417   \n",
       "\n",
       "      Q73: Confidence: Parliament  Q66: Confidence: The Press  \n",
       "0                       -0.271502                   -1.409010  \n",
       "1                        0.475129                   -0.204720  \n",
       "2                       -0.271502                   -3.817589  \n",
       "3                        1.221759                   -0.204720  \n",
       "4                       -0.271502                    0.999569  \n",
       "...                           ...                         ...  \n",
       "1348                    -2.511394                   -0.204720  \n",
       "1349                     0.475129                   -0.204720  \n",
       "1350                     0.475129                    0.999569  \n",
       "1351                     0.475129                    0.999569  \n",
       "1352                     0.475129                   -0.204720  \n",
       "\n",
       "[1353 rows x 11 columns]"
      ]
     },
     "execution_count": 157,
     "metadata": {},
     "output_type": "execute_result"
    }
   ],
   "source": [
    "scaler = StandardScaler()\n",
    "scaler.fit(fa)\n",
    "feature_names = fa.columns\n",
    "pd.DataFrame(scaler.transform(fa), columns=feature_names)"
   ]
  },
  {
   "cell_type": "markdown",
   "id": "32b215ad",
   "metadata": {},
   "source": [
    "Look at the heatmap with correlations, because our variables should correlate if we want to apply factor analysis on them. In other case we would not get any factors."
   ]
  },
  {
   "cell_type": "code",
   "execution_count": 158,
   "id": "65471dfe",
   "metadata": {},
   "outputs": [
    {
     "data": {
      "text/plain": [
       "<AxesSubplot:>"
      ]
     },
     "execution_count": 158,
     "metadata": {},
     "output_type": "execute_result"
    },
    {
     "data": {
      "image/png": "[encoded data removed]",
      "text/plain": [
       "<Figure size 1440x1080 with 2 Axes>"
      ]
     },
     "metadata": {
      "needs_background": "light"
     },
     "output_type": "display_data"
    }
   ],
   "source": [
    "plt.figure(figsize=(20,15))\n",
    "sns.heatmap(np.corrcoef(fa, rowvar=False),annot=True,\n",
    "           xticklabels=fa.columns, yticklabels=fa.columns)"
   ]
  },
  {
   "cell_type": "markdown",
   "id": "3daf7f20",
   "metadata": {},
   "source": [
    "#### Factorability Test \n",
    "\n",
    "Factorability means \"can we found the factors in the dataset?\". Bartlett’s Test will be used.\n",
    "\n",
    "Bartlett’s test of sphericity checks whether or not the observed variables intercorrelate at all using the observed correlation matrix against the identity matrix. If the test found statistically insignificant, you should not employ a factor analysis."
   ]
  },
  {
   "cell_type": "code",
   "execution_count": 159,
   "id": "2bac196d",
   "metadata": {},
   "outputs": [
    {
     "data": {
      "text/plain": [
       "(3454.4633305108932, 0.0)"
      ]
     },
     "execution_count": 159,
     "metadata": {},
     "output_type": "execute_result"
    }
   ],
   "source": [
    "from factor_analyzer.factor_analyzer import calculate_bartlett_sphericity\n",
    "chi_square_value,p_value=calculate_bartlett_sphericity(fa)\n",
    "chi_square_value, p_value"
   ]
  },
  {
   "cell_type": "markdown",
   "id": "2dc0cce1",
   "metadata": {},
   "source": [
    "The p-value is less than 0.05, then we can employ a factor analysis with the current variables."
   ]
  },
  {
   "cell_type": "markdown",
   "id": "823b195a",
   "metadata": {},
   "source": [
    "#### Choosing the number of factors \n",
    "\n",
    "We can employ several methods:\n",
    "\n",
    "(1) the Kaiser criterion\n",
    "Remove the factors, which eigenvalues are less than 1. \n",
    "\n",
    "**= = > 4 factors are optimal**"
   ]
  },
  {
   "cell_type": "code",
   "execution_count": 160,
   "id": "8120bc2b",
   "metadata": {},
   "outputs": [
    {
     "data": {
      "text/plain": [
       "array([2.52768749, 1.63220628, 1.57148161, 1.10259647, 0.88789525,\n",
       "       0.82183067, 0.7614755 , 0.67563691, 0.56751122, 0.22989915,\n",
       "       0.22177946])"
      ]
     },
     "execution_count": 160,
     "metadata": {},
     "output_type": "execute_result"
    }
   ],
   "source": [
    "fac = FactorAnalyzer(rotation=None, n_factors=fa.shape[1])\n",
    "fac.fit(fa)\n",
    "ev, v = fac.get_eigenvalues()\n",
    "ev"
   ]
  },
  {
   "cell_type": "markdown",
   "id": "0a01405b",
   "metadata": {},
   "source": [
    "(2) Scree plot\n",
    "\n",
    "As one moves to the right, toward later components, the eigenvalues drop. When the drop ceases and the curve makes an elbow toward less steep decline, Cattell's scree test says to drop all further components after the one starting at the elbow.\n",
    "\n",
    "**= = > 4 factors are optimal**"
   ]
  },
  {
   "cell_type": "code",
   "execution_count": 161,
   "id": "ede33af1",
   "metadata": {},
   "outputs": [
    {
     "data": {
      "image/png": "[encoded data removed]",
      "text/plain": [
       "<Figure size 432x288 with 1 Axes>"
      ]
     },
     "metadata": {
      "needs_background": "light"
     },
     "output_type": "display_data"
    }
   ],
   "source": [
    "plt.scatter(range(1,fa.shape[1]+1),ev)\n",
    "plt.plot(range(1,fa.shape[1]+1),ev)\n",
    "plt.title('Scree Plot')\n",
    "plt.xlabel('Factors')\n",
    "plt.ylabel('Eigenvalue')\n",
    "plt.grid()\n",
    "plt.show()"
   ]
  },
  {
   "cell_type": "markdown",
   "id": "97e8377b",
   "metadata": {},
   "source": [
    "(3) Parallel analysis\n",
    "\n",
    "Simulation method that compares the observed eigenvalues with those obtained from uncorrelated normal variables. A factor or component is retained if the associated eigenvalue is bigger than the 95th percentile of the distribution of eigenvalues derived from the random data.\n",
    "\n",
    "**= = > 4 factors are optimal**"
   ]
  },
  {
   "cell_type": "code",
   "execution_count": 162,
   "id": "f12676db",
   "metadata": {},
   "outputs": [],
   "source": [
    "def ParallelAnalysis(data, K=100, printEigenvalues=False):\n",
    "    ################\n",
    "    # Create a random matrix to match the dataset\n",
    "    ################\n",
    "    n, m = data.shape\n",
    "    # Set the factor analysis parameters\n",
    "    fa = FactorAnalyzer(n_factors=1, method='ml', rotation=None, use_smc=True)\n",
    "    # Create arrays to store the values\n",
    "    sumComponentEigens = np.empty(m)\n",
    "    sumFactorEigens = np.empty(m)\n",
    "    # Run the fit 'K' times over a random matrix\n",
    "    for runNum in range(0, K):\n",
    "        fa.fit(np.random.normal(size=(n, m)))\n",
    "        sumComponentEigens = sumComponentEigens + fa.get_eigenvalues()[0]\n",
    "        sumFactorEigens = sumFactorEigens + fa.get_eigenvalues()[1]\n",
    "    # Average over the number of runs\n",
    "    avgComponentEigens = sumComponentEigens / K\n",
    "    avgFactorEigens = sumFactorEigens / K\n",
    "    ################\n",
    "    # Get the eigenvalues for the fit on supplied data\n",
    "    ################\n",
    "    fa.fit(data)\n",
    "    dataEv = fa.get_eigenvalues()\n",
    "    # Set up a scree plot\n",
    "    plt.figure(figsize=(8, 6))\n",
    "    ################\n",
    "    ### Print results\n",
    "    ################\n",
    "    if printEigenvalues:\n",
    "        print('Principal component eigenvalues for random matrix:\\n', avgComponentEigens)\n",
    "        print('Factor eigenvalues for random matrix:\\n', avgFactorEigens)\n",
    "        print('Principal component eigenvalues for data:\\n', dataEv[0])\n",
    "        print('Factor eigenvalues for data:\\n', dataEv[1])\n",
    "    # Find the suggested stopping points\n",
    "    suggestedFactors = sum((dataEv[1] - avgFactorEigens) > 0)\n",
    "    suggestedComponents = sum((dataEv[0] - avgComponentEigens) > 0)\n",
    "    print('Parallel analysis suggests that the number of factors = ', suggestedFactors , ' and the number of components = ', suggestedComponents)\n",
    "    ################\n",
    "    ### Plot the eigenvalues against the number of variables\n",
    "    ################\n",
    "    # Line for eigenvalue 1\n",
    "    plt.plot([0, m+1], [1, 1], 'k--', alpha=0.3)\n",
    "    # For the random data - Components\n",
    "    plt.plot(range(1, m+1), avgComponentEigens, 'b', label='PC - random', alpha=0.4)\n",
    "    # For the Data - Components\n",
    "    plt.scatter(range(1, m+1), dataEv[0], c='b', marker='o')\n",
    "    plt.plot(range(1, m+1), dataEv[0], 'b', label='PC - data')\n",
    "    # For the random data - Factors\n",
    "    plt.plot(range(1, m+1), avgFactorEigens, 'g', label='FA - random', alpha=0.4)\n",
    "    # For the Data - Factors\n",
    "    plt.scatter(range(1, m+1), dataEv[1], c='g', marker='o')\n",
    "    plt.plot(range(1, m+1), dataEv[1], 'g', label='FA - data')\n",
    "    plt.title('Parallel Analysis Scree Plots', {'fontsize': 20})\n",
    "    plt.xlabel('Factors/Components', {'fontsize': 15})\n",
    "    plt.xticks(ticks=range(1, m+1), labels=range(1, m+1))\n",
    "    plt.ylabel('Eigenvalue', {'fontsize': 15})\n",
    "    plt.legend()\n",
    "    plt.show();"
   ]
  },
  {
   "cell_type": "code",
   "execution_count": 163,
   "id": "c5332ab6",
   "metadata": {},
   "outputs": [
    {
     "name": "stdout",
     "output_type": "stream",
     "text": [
      "Parallel analysis suggests that the number of factors =  4  and the number of components =  0\n"
     ]
    },
    {
     "data": {
      "image/png": "[encoded data removed]",
      "text/plain": [
       "<Figure size 576x432 with 1 Axes>"
      ]
     },
     "metadata": {
      "needs_background": "light"
     },
     "output_type": "display_data"
    }
   ],
   "source": [
    "ParallelAnalysis(fa)"
   ]
  },
  {
   "cell_type": "markdown",
   "id": "07c31ece",
   "metadata": {},
   "source": [
    "### Performing Factor Analysis"
   ]
  },
  {
   "cell_type": "code",
   "execution_count": 164,
   "id": "a606faba",
   "metadata": {},
   "outputs": [],
   "source": [
    "# some functions for better interpretation\n",
    "# loadings with feature and factor names\n",
    "def print_loadings(loadings, feature_names):\n",
    "    n_factors = loadings.shape[1]\n",
    "    factor_names = [f'F{i+1}' for i in range(n_factors)]\n",
    "    data = pd.DataFrame(loadings)\n",
    "    data.columns = factor_names\n",
    "    data.index = feature_names\n",
    "    return data\n",
    "# get factors with the variables they represent\n",
    "def print_variables_for_factors(loadings, feature_names, threshold=0.3):\n",
    "    loadings = np.copy(loadings)\n",
    "    loadings[np.abs(loadings) < threshold] = 0\n",
    "    no_factor = np.arange(loadings.shape[0])[np.sum(loadings, axis=1) == 0]\n",
    "    \n",
    "    var_factors = np.argmax(np.abs(loadings), axis=1)\n",
    "    var_factors[no_factor] = -1\n",
    "    n_factors = loadings.shape[1]\n",
    "    \n",
    "    for i in range(n_factors):\n",
    "        print(f'F{i+1}: {list(feature_names[var_factors == i])}')\n",
    "    if no_factor.shape[0] > 0:\n",
    "        print(f'no factor: {feature_names[no_factor].to_list()}')\n",
    "def print_variance_summary(fa):\n",
    "    n_factors = fa.n_factors\n",
    "    factor_names = [f'F{i+1}' for i in range(n_factors)]\n",
    "    variance, proportional_variance, cumulative_variances = fa.get_factor_variance()\n",
    "    var_matrix = np.vstack([variance, proportional_variance, cumulative_variances])\n",
    "    data = pd.DataFrame(var_matrix,columns=factor_names)\n",
    "    data.index = [\"variance\", \"proportional_variance\", \"cumulative_variances\"]\n",
    "    return data"
   ]
  },
  {
   "cell_type": "markdown",
   "id": "1837fc24",
   "metadata": {},
   "source": [
    "The number of factors is **4**. \n",
    "\n",
    "The type of rotation is **oblique**, because this rotation allows correlation between factors; I tend to think that my factors can correlate, so I allow that correlation. "
   ]
  },
  {
   "cell_type": "code",
   "execution_count": 165,
   "id": "a239bd99",
   "metadata": {},
   "outputs": [
    {
     "data": {
      "text/plain": [
       "FactorAnalyzer(method='ml', n_factors=4, rotation_kwargs={})"
      ]
     },
     "execution_count": 165,
     "metadata": {},
     "output_type": "execute_result"
    }
   ],
   "source": [
    "fa2 = FactorAnalyzer(rotation='promax', n_factors=4, method='ml')\n",
    "fa2.fit(fa)"
   ]
  },
  {
   "cell_type": "code",
   "execution_count": 166,
   "id": "0fdff9fd",
   "metadata": {},
   "outputs": [
    {
     "data": {
      "text/html": [
       "<div>\n",
       "<style scoped>\n",
       "    .dataframe tbody tr th:only-of-type {\n",
       "        vertical-align: middle;\n",
       "    }\n",
       "\n",
       "    .dataframe tbody tr th {\n",
       "        vertical-align: top;\n",
       "    }\n",
       "\n",
       "    .dataframe thead th {\n",
       "        text-align: right;\n",
       "    }\n",
       "</style>\n",
       "<table border=\"1\" class=\"dataframe\">\n",
       "  <thead>\n",
       "    <tr style=\"text-align: right;\">\n",
       "      <th></th>\n",
       "      <th>F1</th>\n",
       "      <th>F2</th>\n",
       "      <th>F3</th>\n",
       "      <th>F4</th>\n",
       "    </tr>\n",
       "  </thead>\n",
       "  <tbody>\n",
       "    <tr>\n",
       "      <th>Q1: Important in life: Family</th>\n",
       "      <td>-0.023027</td>\n",
       "      <td>0.020126</td>\n",
       "      <td>-0.043435</td>\n",
       "      <td>0.430229</td>\n",
       "    </tr>\n",
       "    <tr>\n",
       "      <th>Q4: Important in life: Politics</th>\n",
       "      <td>0.054951</td>\n",
       "      <td>-0.038298</td>\n",
       "      <td>0.015501</td>\n",
       "      <td>0.541724</td>\n",
       "    </tr>\n",
       "    <tr>\n",
       "      <th>Q6: Important in life: Religion</th>\n",
       "      <td>0.013490</td>\n",
       "      <td>0.043832</td>\n",
       "      <td>0.009461</td>\n",
       "      <td>0.444396</td>\n",
       "    </tr>\n",
       "    <tr>\n",
       "      <th>Q5: Important in life: Work</th>\n",
       "      <td>-0.035807</td>\n",
       "      <td>-0.038175</td>\n",
       "      <td>0.025106</td>\n",
       "      <td>0.482702</td>\n",
       "    </tr>\n",
       "    <tr>\n",
       "      <th>Q58: Trust: Your family</th>\n",
       "      <td>0.007012</td>\n",
       "      <td>0.031460</td>\n",
       "      <td>0.382382</td>\n",
       "      <td>-0.006936</td>\n",
       "    </tr>\n",
       "    <tr>\n",
       "      <th>Q62: Trust: People of another religion</th>\n",
       "      <td>-0.020067</td>\n",
       "      <td>0.895131</td>\n",
       "      <td>-0.021080</td>\n",
       "      <td>-0.006408</td>\n",
       "    </tr>\n",
       "    <tr>\n",
       "      <th>Q63: Trust: People of another nationality</th>\n",
       "      <td>-0.004283</td>\n",
       "      <td>0.879054</td>\n",
       "      <td>0.006710</td>\n",
       "      <td>-0.000866</td>\n",
       "    </tr>\n",
       "    <tr>\n",
       "      <th>Q60: Trust: People you know personally</th>\n",
       "      <td>-0.036744</td>\n",
       "      <td>-0.080768</td>\n",
       "      <td>1.034180</td>\n",
       "      <td>0.010551</td>\n",
       "    </tr>\n",
       "    <tr>\n",
       "      <th>Q71: Confidence: The Government</th>\n",
       "      <td>0.938124</td>\n",
       "      <td>-0.097638</td>\n",
       "      <td>-0.024848</td>\n",
       "      <td>-0.029601</td>\n",
       "    </tr>\n",
       "    <tr>\n",
       "      <th>Q73: Confidence: Parliament</th>\n",
       "      <td>0.873052</td>\n",
       "      <td>-0.028861</td>\n",
       "      <td>-0.060106</td>\n",
       "      <td>0.001816</td>\n",
       "    </tr>\n",
       "    <tr>\n",
       "      <th>Q66: Confidence: The Press</th>\n",
       "      <td>0.315559</td>\n",
       "      <td>0.059052</td>\n",
       "      <td>0.037651</td>\n",
       "      <td>0.011456</td>\n",
       "    </tr>\n",
       "  </tbody>\n",
       "</table>\n",
       "</div>"
      ],
      "text/plain": [
       "                                                 F1        F2        F3  \\\n",
       "Q1: Important in life: Family             -0.023027  0.020126 -0.043435   \n",
       "Q4: Important in life: Politics            0.054951 -0.038298  0.015501   \n",
       "Q6: Important in life: Religion            0.013490  0.043832  0.009461   \n",
       "Q5: Important in life: Work               -0.035807 -0.038175  0.025106   \n",
       "Q58: Trust: Your family                    0.007012  0.031460  0.382382   \n",
       "Q62: Trust: People of another religion    -0.020067  0.895131 -0.021080   \n",
       "Q63: Trust: People of another nationality -0.004283  0.879054  0.006710   \n",
       "Q60: Trust: People you know personally    -0.036744 -0.080768  1.034180   \n",
       "Q71: Confidence: The Government            0.938124 -0.097638 -0.024848   \n",
       "Q73: Confidence: Parliament                0.873052 -0.028861 -0.060106   \n",
       "Q66: Confidence: The Press                 0.315559  0.059052  0.037651   \n",
       "\n",
       "                                                 F4  \n",
       "Q1: Important in life: Family              0.430229  \n",
       "Q4: Important in life: Politics            0.541724  \n",
       "Q6: Important in life: Religion            0.444396  \n",
       "Q5: Important in life: Work                0.482702  \n",
       "Q58: Trust: Your family                   -0.006936  \n",
       "Q62: Trust: People of another religion    -0.006408  \n",
       "Q63: Trust: People of another nationality -0.000866  \n",
       "Q60: Trust: People you know personally     0.010551  \n",
       "Q71: Confidence: The Government           -0.029601  \n",
       "Q73: Confidence: Parliament                0.001816  \n",
       "Q66: Confidence: The Press                 0.011456  "
      ]
     },
     "execution_count": 166,
     "metadata": {},
     "output_type": "execute_result"
    }
   ],
   "source": [
    "print_loadings(fa2.loadings_, fa.columns)"
   ]
  },
  {
   "cell_type": "markdown",
   "id": "9ee58766",
   "metadata": {},
   "source": [
    "### Loadings\n",
    "\n",
    "The factor loading is a matrix which shows the relationship of each variable to the underlying factor. It shows the correlation coefficient for observed variable and factor. It shows the variance explained by the observed variables.\n",
    "\n",
    "Loadings close to -1 or 1 indicate that the factor strongly influences the variable. Loadings close to 0 indicate that the factor has a weak influence on the variable.\n",
    "\n",
    "As a rule of thumb, your variable should have a rotated factor loading of at least |0.4| (meaning ≥ +.4 or ≤ –.4) onto one of the factors in order to be considered important. **Almost all our variables follow that rule.**\n",
    "\n",
    "### Now let's group our variables by factors"
   ]
  },
  {
   "cell_type": "code",
   "execution_count": 167,
   "id": "29148807",
   "metadata": {},
   "outputs": [
    {
     "name": "stdout",
     "output_type": "stream",
     "text": [
      "F1: ['Q71: Confidence: The Government', 'Q73: Confidence: Parliament', 'Q66: Confidence: The Press']\n",
      "F2: ['Q62: Trust: People of another religion', 'Q63: Trust: People of another nationality']\n",
      "F3: ['Q58: Trust: Your family', 'Q60: Trust: People you know personally']\n",
      "F4: ['Q1: Important in life: Family', 'Q4: Important in life: Politics', 'Q6: Important in life: Religion', 'Q5: Important in life: Work']\n"
     ]
    }
   ],
   "source": [
    "print_variables_for_factors(fa2.loadings_, fa.columns)"
   ]
  },
  {
   "cell_type": "markdown",
   "id": "5683aa74",
   "metadata": {},
   "source": [
    "All Confidence quastions go to the Factor 1.\n",
    "\n",
    "All Important to life questions go to the Factor 4.\n",
    "\n",
    "Trust questions were splitted into two factors. More abstract questions about trust towards people of another religion and nationality go to the Factor 2. More direct questions about trust towards your family and people one knows personally go to the Factor 3.\n",
    "\n",
    "**Although we expected to see 3 factors - Confidence, Trust, Important in life - factor analysis showed that 4 factors are present here.**"
   ]
  },
  {
   "cell_type": "code",
   "execution_count": 168,
   "id": "66e18ab6",
   "metadata": {},
   "outputs": [
    {
     "data": {
      "text/html": [
       "<div>\n",
       "<style scoped>\n",
       "    .dataframe tbody tr th:only-of-type {\n",
       "        vertical-align: middle;\n",
       "    }\n",
       "\n",
       "    .dataframe tbody tr th {\n",
       "        vertical-align: top;\n",
       "    }\n",
       "\n",
       "    .dataframe thead th {\n",
       "        text-align: right;\n",
       "    }\n",
       "</style>\n",
       "<table border=\"1\" class=\"dataframe\">\n",
       "  <thead>\n",
       "    <tr style=\"text-align: right;\">\n",
       "      <th></th>\n",
       "      <th>F1</th>\n",
       "      <th>F2</th>\n",
       "      <th>F3</th>\n",
       "      <th>F4</th>\n",
       "    </tr>\n",
       "  </thead>\n",
       "  <tbody>\n",
       "    <tr>\n",
       "      <th>variance</th>\n",
       "      <td>1.748708</td>\n",
       "      <td>1.600612</td>\n",
       "      <td>1.224728</td>\n",
       "      <td>0.910263</td>\n",
       "    </tr>\n",
       "    <tr>\n",
       "      <th>proportional_variance</th>\n",
       "      <td>0.158973</td>\n",
       "      <td>0.145510</td>\n",
       "      <td>0.111339</td>\n",
       "      <td>0.082751</td>\n",
       "    </tr>\n",
       "    <tr>\n",
       "      <th>cumulative_variances</th>\n",
       "      <td>0.158973</td>\n",
       "      <td>0.304484</td>\n",
       "      <td>0.415823</td>\n",
       "      <td>0.498574</td>\n",
       "    </tr>\n",
       "  </tbody>\n",
       "</table>\n",
       "</div>"
      ],
      "text/plain": [
       "                             F1        F2        F3        F4\n",
       "variance               1.748708  1.600612  1.224728  0.910263\n",
       "proportional_variance  0.158973  0.145510  0.111339  0.082751\n",
       "cumulative_variances   0.158973  0.304484  0.415823  0.498574"
      ]
     },
     "execution_count": 168,
     "metadata": {},
     "output_type": "execute_result"
    }
   ],
   "source": [
    "print_variance_summary(fa2)"
   ]
  },
  {
   "cell_type": "markdown",
   "id": "8293ca3e",
   "metadata": {},
   "source": [
    "Here we can see proportional and cumulative variances of our factors, that is how much of our data the factor explain. The proportional variance is highest for Factor 1, then goes down. Overall, 4 factors explain almost 50% of the variance in the original variables."
   ]
  },
  {
   "cell_type": "markdown",
   "id": "fdea403d",
   "metadata": {},
   "source": [
    "### Export our factors and transform them into dataframe"
   ]
  },
  {
   "cell_type": "code",
   "execution_count": 169,
   "id": "4d7ca906",
   "metadata": {},
   "outputs": [
    {
     "data": {
      "text/plain": [
       "(1353, 4)"
      ]
     },
     "execution_count": 169,
     "metadata": {},
     "output_type": "execute_result"
    }
   ],
   "source": [
    "data_fa = fa2.transform(fa)\n",
    "data_fa.shape"
   ]
  },
  {
   "cell_type": "code",
   "execution_count": 170,
   "id": "a061ec20",
   "metadata": {},
   "outputs": [
    {
     "data": {
      "text/plain": [
       "array([[ 0.13422272,  0.1848809 ,  0.26214736, -0.23078689],\n",
       "       [ 0.15013158,  0.49571388,  0.30782688, -0.35686843],\n",
       "       [-0.00433591, -0.56424917, -1.21430493, -0.95165921],\n",
       "       ...,\n",
       "       [ 0.12909553, -1.76486938,  1.02725658, -0.37060129],\n",
       "       [ 0.21754065,  0.18981349,  1.29007043,  0.01114283],\n",
       "       [ 0.18754381,  0.58163993,  0.78705538,  0.43822523]])"
      ]
     },
     "execution_count": 170,
     "metadata": {},
     "output_type": "execute_result"
    }
   ],
   "source": [
    "data_fa"
   ]
  },
  {
   "cell_type": "code",
   "execution_count": 171,
   "id": "ac257fc9",
   "metadata": {},
   "outputs": [
    {
     "data": {
      "text/html": [
       "<div>\n",
       "<style scoped>\n",
       "    .dataframe tbody tr th:only-of-type {\n",
       "        vertical-align: middle;\n",
       "    }\n",
       "\n",
       "    .dataframe tbody tr th {\n",
       "        vertical-align: top;\n",
       "    }\n",
       "\n",
       "    .dataframe thead th {\n",
       "        text-align: right;\n",
       "    }\n",
       "</style>\n",
       "<table border=\"1\" class=\"dataframe\">\n",
       "  <thead>\n",
       "    <tr style=\"text-align: right;\">\n",
       "      <th></th>\n",
       "      <th>F1</th>\n",
       "      <th>F2</th>\n",
       "      <th>F3</th>\n",
       "      <th>F4</th>\n",
       "    </tr>\n",
       "  </thead>\n",
       "  <tbody>\n",
       "    <tr>\n",
       "      <th>0</th>\n",
       "      <td>0.134223</td>\n",
       "      <td>0.184881</td>\n",
       "      <td>0.262147</td>\n",
       "      <td>-0.230787</td>\n",
       "    </tr>\n",
       "    <tr>\n",
       "      <th>1</th>\n",
       "      <td>0.150132</td>\n",
       "      <td>0.495714</td>\n",
       "      <td>0.307827</td>\n",
       "      <td>-0.356868</td>\n",
       "    </tr>\n",
       "    <tr>\n",
       "      <th>2</th>\n",
       "      <td>-0.004336</td>\n",
       "      <td>-0.564249</td>\n",
       "      <td>-1.214305</td>\n",
       "      <td>-0.951659</td>\n",
       "    </tr>\n",
       "    <tr>\n",
       "      <th>3</th>\n",
       "      <td>0.238816</td>\n",
       "      <td>1.351033</td>\n",
       "      <td>1.079349</td>\n",
       "      <td>0.688954</td>\n",
       "    </tr>\n",
       "    <tr>\n",
       "      <th>4</th>\n",
       "      <td>0.136832</td>\n",
       "      <td>-0.122898</td>\n",
       "      <td>0.531938</td>\n",
       "      <td>0.639678</td>\n",
       "    </tr>\n",
       "    <tr>\n",
       "      <th>...</th>\n",
       "      <td>...</td>\n",
       "      <td>...</td>\n",
       "      <td>...</td>\n",
       "      <td>...</td>\n",
       "    </tr>\n",
       "    <tr>\n",
       "      <th>1348</th>\n",
       "      <td>-1.140473</td>\n",
       "      <td>-2.547077</td>\n",
       "      <td>0.142851</td>\n",
       "      <td>-0.544341</td>\n",
       "    </tr>\n",
       "    <tr>\n",
       "      <th>1349</th>\n",
       "      <td>1.406892</td>\n",
       "      <td>0.644312</td>\n",
       "      <td>1.314145</td>\n",
       "      <td>-0.429258</td>\n",
       "    </tr>\n",
       "    <tr>\n",
       "      <th>1350</th>\n",
       "      <td>0.129096</td>\n",
       "      <td>-1.764869</td>\n",
       "      <td>1.027257</td>\n",
       "      <td>-0.370601</td>\n",
       "    </tr>\n",
       "    <tr>\n",
       "      <th>1351</th>\n",
       "      <td>0.217541</td>\n",
       "      <td>0.189813</td>\n",
       "      <td>1.290070</td>\n",
       "      <td>0.011143</td>\n",
       "    </tr>\n",
       "    <tr>\n",
       "      <th>1352</th>\n",
       "      <td>0.187544</td>\n",
       "      <td>0.581640</td>\n",
       "      <td>0.787055</td>\n",
       "      <td>0.438225</td>\n",
       "    </tr>\n",
       "  </tbody>\n",
       "</table>\n",
       "<p>1353 rows × 4 columns</p>\n",
       "</div>"
      ],
      "text/plain": [
       "            F1        F2        F3        F4\n",
       "0     0.134223  0.184881  0.262147 -0.230787\n",
       "1     0.150132  0.495714  0.307827 -0.356868\n",
       "2    -0.004336 -0.564249 -1.214305 -0.951659\n",
       "3     0.238816  1.351033  1.079349  0.688954\n",
       "4     0.136832 -0.122898  0.531938  0.639678\n",
       "...        ...       ...       ...       ...\n",
       "1348 -1.140473 -2.547077  0.142851 -0.544341\n",
       "1349  1.406892  0.644312  1.314145 -0.429258\n",
       "1350  0.129096 -1.764869  1.027257 -0.370601\n",
       "1351  0.217541  0.189813  1.290070  0.011143\n",
       "1352  0.187544  0.581640  0.787055  0.438225\n",
       "\n",
       "[1353 rows x 4 columns]"
      ]
     },
     "execution_count": 171,
     "metadata": {},
     "output_type": "execute_result"
    }
   ],
   "source": [
    "data_fa = pd.DataFrame(data_fa, columns=['F1', 'F2', 'F3', 'F4']) \n",
    "data_fa"
   ]
  },
  {
   "cell_type": "markdown",
   "id": "fc70f3fb",
   "metadata": {},
   "source": [
    "### Merge two our datasets: the one for logistic regression and the one from factor analysis"
   ]
  },
  {
   "cell_type": "code",
   "execution_count": 172,
   "id": "f58f97d3",
   "metadata": {},
   "outputs": [
    {
     "data": {
      "text/html": [
       "<div>\n",
       "<style scoped>\n",
       "    .dataframe tbody tr th:only-of-type {\n",
       "        vertical-align: middle;\n",
       "    }\n",
       "\n",
       "    .dataframe tbody tr th {\n",
       "        vertical-align: top;\n",
       "    }\n",
       "\n",
       "    .dataframe thead th {\n",
       "        text-align: right;\n",
       "    }\n",
       "</style>\n",
       "<table border=\"1\" class=\"dataframe\">\n",
       "  <thead>\n",
       "    <tr style=\"text-align: right;\">\n",
       "      <th></th>\n",
       "      <th>satisfaction</th>\n",
       "      <th>security_neighborhood</th>\n",
       "      <th>health</th>\n",
       "      <th>church_member</th>\n",
       "      <th>internet_source</th>\n",
       "      <th>marital_status</th>\n",
       "      <th>children_num</th>\n",
       "      <th>sex</th>\n",
       "      <th>freedom_equality</th>\n",
       "      <th>F1</th>\n",
       "      <th>F2</th>\n",
       "      <th>F3</th>\n",
       "      <th>F4</th>\n",
       "    </tr>\n",
       "  </thead>\n",
       "  <tbody>\n",
       "    <tr>\n",
       "      <th>0</th>\n",
       "      <td>1.0</td>\n",
       "      <td>Not very secure</td>\n",
       "      <td>Good</td>\n",
       "      <td>Don't belong</td>\n",
       "      <td>Daily</td>\n",
       "      <td>Married</td>\n",
       "      <td>2</td>\n",
       "      <td>Male</td>\n",
       "      <td>Freedom</td>\n",
       "      <td>0.134223</td>\n",
       "      <td>0.184881</td>\n",
       "      <td>0.262147</td>\n",
       "      <td>-0.230787</td>\n",
       "    </tr>\n",
       "    <tr>\n",
       "      <th>1</th>\n",
       "      <td>1.0</td>\n",
       "      <td>Quite secure</td>\n",
       "      <td>Good</td>\n",
       "      <td>Don't belong</td>\n",
       "      <td>Never</td>\n",
       "      <td>Married</td>\n",
       "      <td>3</td>\n",
       "      <td>Male</td>\n",
       "      <td>Equality</td>\n",
       "      <td>0.150132</td>\n",
       "      <td>0.495714</td>\n",
       "      <td>0.307827</td>\n",
       "      <td>-0.356868</td>\n",
       "    </tr>\n",
       "    <tr>\n",
       "      <th>2</th>\n",
       "      <td>1.0</td>\n",
       "      <td>Not very secure</td>\n",
       "      <td>Good</td>\n",
       "      <td>Inactive member</td>\n",
       "      <td>Daily</td>\n",
       "      <td>Married</td>\n",
       "      <td>3</td>\n",
       "      <td>Male</td>\n",
       "      <td>Freedom</td>\n",
       "      <td>-0.004336</td>\n",
       "      <td>-0.564249</td>\n",
       "      <td>-1.214305</td>\n",
       "      <td>-0.951659</td>\n",
       "    </tr>\n",
       "    <tr>\n",
       "      <th>5</th>\n",
       "      <td>0.0</td>\n",
       "      <td>Not at all secure</td>\n",
       "      <td>Good</td>\n",
       "      <td>Don't belong</td>\n",
       "      <td>Never</td>\n",
       "      <td>Married</td>\n",
       "      <td>3</td>\n",
       "      <td>Female</td>\n",
       "      <td>Freedom</td>\n",
       "      <td>2.612448</td>\n",
       "      <td>1.567793</td>\n",
       "      <td>1.428614</td>\n",
       "      <td>0.419791</td>\n",
       "    </tr>\n",
       "    <tr>\n",
       "      <th>6</th>\n",
       "      <td>1.0</td>\n",
       "      <td>Quite secure</td>\n",
       "      <td>Fair</td>\n",
       "      <td>Don't belong</td>\n",
       "      <td>Never</td>\n",
       "      <td>Married</td>\n",
       "      <td>2</td>\n",
       "      <td>Female</td>\n",
       "      <td>Freedom</td>\n",
       "      <td>1.407060</td>\n",
       "      <td>0.588433</td>\n",
       "      <td>1.281775</td>\n",
       "      <td>-0.918395</td>\n",
       "    </tr>\n",
       "    <tr>\n",
       "      <th>...</th>\n",
       "      <td>...</td>\n",
       "      <td>...</td>\n",
       "      <td>...</td>\n",
       "      <td>...</td>\n",
       "      <td>...</td>\n",
       "      <td>...</td>\n",
       "      <td>...</td>\n",
       "      <td>...</td>\n",
       "      <td>...</td>\n",
       "      <td>...</td>\n",
       "      <td>...</td>\n",
       "      <td>...</td>\n",
       "      <td>...</td>\n",
       "    </tr>\n",
       "    <tr>\n",
       "      <th>1348</th>\n",
       "      <td>1.0</td>\n",
       "      <td>Not very secure</td>\n",
       "      <td>Good</td>\n",
       "      <td>Inactive member</td>\n",
       "      <td>Daily</td>\n",
       "      <td>Married</td>\n",
       "      <td>3</td>\n",
       "      <td>Female</td>\n",
       "      <td>Equality</td>\n",
       "      <td>-1.140473</td>\n",
       "      <td>-2.547077</td>\n",
       "      <td>0.142851</td>\n",
       "      <td>-0.544341</td>\n",
       "    </tr>\n",
       "    <tr>\n",
       "      <th>1349</th>\n",
       "      <td>1.0</td>\n",
       "      <td>Quite secure</td>\n",
       "      <td>Fair</td>\n",
       "      <td>Inactive member</td>\n",
       "      <td>Daily</td>\n",
       "      <td>Married</td>\n",
       "      <td>2</td>\n",
       "      <td>Male</td>\n",
       "      <td>Freedom</td>\n",
       "      <td>1.406892</td>\n",
       "      <td>0.644312</td>\n",
       "      <td>1.314145</td>\n",
       "      <td>-0.429258</td>\n",
       "    </tr>\n",
       "    <tr>\n",
       "      <th>1350</th>\n",
       "      <td>1.0</td>\n",
       "      <td>Quite secure</td>\n",
       "      <td>Poor</td>\n",
       "      <td>Don't belong</td>\n",
       "      <td>Daily</td>\n",
       "      <td>Married</td>\n",
       "      <td>2</td>\n",
       "      <td>Male</td>\n",
       "      <td>Freedom</td>\n",
       "      <td>0.129096</td>\n",
       "      <td>-1.764869</td>\n",
       "      <td>1.027257</td>\n",
       "      <td>-0.370601</td>\n",
       "    </tr>\n",
       "    <tr>\n",
       "      <th>1351</th>\n",
       "      <td>1.0</td>\n",
       "      <td>Quite secure</td>\n",
       "      <td>Good</td>\n",
       "      <td>Don't belong</td>\n",
       "      <td>Daily</td>\n",
       "      <td>Married</td>\n",
       "      <td>2</td>\n",
       "      <td>Male</td>\n",
       "      <td>Equality</td>\n",
       "      <td>0.217541</td>\n",
       "      <td>0.189813</td>\n",
       "      <td>1.290070</td>\n",
       "      <td>0.011143</td>\n",
       "    </tr>\n",
       "    <tr>\n",
       "      <th>1352</th>\n",
       "      <td>0.0</td>\n",
       "      <td>Not very secure</td>\n",
       "      <td>Fair</td>\n",
       "      <td>Don't belong</td>\n",
       "      <td>Daily</td>\n",
       "      <td>Single</td>\n",
       "      <td>0</td>\n",
       "      <td>Female</td>\n",
       "      <td>Freedom</td>\n",
       "      <td>0.187544</td>\n",
       "      <td>0.581640</td>\n",
       "      <td>0.787055</td>\n",
       "      <td>0.438225</td>\n",
       "    </tr>\n",
       "  </tbody>\n",
       "</table>\n",
       "<p>1142 rows × 13 columns</p>\n",
       "</div>"
      ],
      "text/plain": [
       "      satisfaction security_neighborhood health    church_member  \\\n",
       "0              1.0       Not very secure   Good     Don't belong   \n",
       "1              1.0          Quite secure   Good     Don't belong   \n",
       "2              1.0       Not very secure   Good  Inactive member   \n",
       "5              0.0     Not at all secure   Good     Don't belong   \n",
       "6              1.0          Quite secure   Fair     Don't belong   \n",
       "...            ...                   ...    ...              ...   \n",
       "1348           1.0       Not very secure   Good  Inactive member   \n",
       "1349           1.0          Quite secure   Fair  Inactive member   \n",
       "1350           1.0          Quite secure   Poor     Don't belong   \n",
       "1351           1.0          Quite secure   Good     Don't belong   \n",
       "1352           0.0       Not very secure   Fair     Don't belong   \n",
       "\n",
       "     internet_source marital_status  children_num     sex freedom_equality  \\\n",
       "0              Daily        Married             2    Male          Freedom   \n",
       "1              Never        Married             3    Male         Equality   \n",
       "2              Daily        Married             3    Male          Freedom   \n",
       "5              Never        Married             3  Female          Freedom   \n",
       "6              Never        Married             2  Female          Freedom   \n",
       "...              ...            ...           ...     ...              ...   \n",
       "1348           Daily        Married             3  Female         Equality   \n",
       "1349           Daily        Married             2    Male          Freedom   \n",
       "1350           Daily        Married             2    Male          Freedom   \n",
       "1351           Daily        Married             2    Male         Equality   \n",
       "1352           Daily         Single             0  Female          Freedom   \n",
       "\n",
       "            F1        F2        F3        F4  \n",
       "0     0.134223  0.184881  0.262147 -0.230787  \n",
       "1     0.150132  0.495714  0.307827 -0.356868  \n",
       "2    -0.004336 -0.564249 -1.214305 -0.951659  \n",
       "5     2.612448  1.567793  1.428614  0.419791  \n",
       "6     1.407060  0.588433  1.281775 -0.918395  \n",
       "...        ...       ...       ...       ...  \n",
       "1348 -1.140473 -2.547077  0.142851 -0.544341  \n",
       "1349  1.406892  0.644312  1.314145 -0.429258  \n",
       "1350  0.129096 -1.764869  1.027257 -0.370601  \n",
       "1351  0.217541  0.189813  1.290070  0.011143  \n",
       "1352  0.187544  0.581640  0.787055  0.438225  \n",
       "\n",
       "[1142 rows x 13 columns]"
      ]
     },
     "execution_count": 172,
     "metadata": {},
     "output_type": "execute_result"
    }
   ],
   "source": [
    "out = pd.concat([data_s, data_fa], axis=1, join='inner')\n",
    "out"
   ]
  },
  {
   "cell_type": "code",
   "execution_count": 173,
   "id": "086a1dd5",
   "metadata": {},
   "outputs": [
    {
     "data": {
      "text/plain": [
       "satisfaction             float64\n",
       "security_neighborhood     object\n",
       "health                    object\n",
       "church_member             object\n",
       "internet_source           object\n",
       "marital_status            object\n",
       "children_num               int32\n",
       "sex                       object\n",
       "freedom_equality          object\n",
       "F1                       float64\n",
       "F2                       float64\n",
       "F3                       float64\n",
       "F4                       float64\n",
       "dtype: object"
      ]
     },
     "execution_count": 173,
     "metadata": {},
     "output_type": "execute_result"
    }
   ],
   "source": [
    "out.dtypes"
   ]
  },
  {
   "cell_type": "markdown",
   "id": "ae38c214",
   "metadata": {},
   "source": [
    "### Include new factors into our final logistic regression model"
   ]
  },
  {
   "cell_type": "code",
   "execution_count": 174,
   "id": "27f0e0e1",
   "metadata": {},
   "outputs": [
    {
     "name": "stdout",
     "output_type": "stream",
     "text": [
      "Optimization terminated successfully.\n",
      "         Current function value: 0.467333\n",
      "         Iterations 7\n"
     ]
    },
    {
     "data": {
      "text/html": [
       "<table class=\"simpletable\">\n",
       "<caption>Logit Regression Results</caption>\n",
       "<tr>\n",
       "  <th>Dep. Variable:</th>     <td>satisfaction</td>   <th>  No. Observations:  </th>  <td>  1142</td>  \n",
       "</tr>\n",
       "<tr>\n",
       "  <th>Model:</th>                 <td>Logit</td>      <th>  Df Residuals:      </th>  <td>  1116</td>  \n",
       "</tr>\n",
       "<tr>\n",
       "  <th>Method:</th>                 <td>MLE</td>       <th>  Df Model:          </th>  <td>    25</td>  \n",
       "</tr>\n",
       "<tr>\n",
       "  <th>Date:</th>            <td>Wed, 30 Mar 2022</td> <th>  Pseudo R-squ.:     </th>  <td>0.1323</td>  \n",
       "</tr>\n",
       "<tr>\n",
       "  <th>Time:</th>                <td>13:55:53</td>     <th>  Log-Likelihood:    </th> <td> -533.69</td> \n",
       "</tr>\n",
       "<tr>\n",
       "  <th>converged:</th>             <td>True</td>       <th>  LL-Null:           </th> <td> -615.06</td> \n",
       "</tr>\n",
       "<tr>\n",
       "  <th>Covariance Type:</th>     <td>nonrobust</td>    <th>  LLR p-value:       </th> <td>3.665e-22</td>\n",
       "</tr>\n",
       "</table>\n",
       "<table class=\"simpletable\">\n",
       "<tr>\n",
       "                        <td></td>                          <th>coef</th>     <th>std err</th>      <th>z</th>      <th>P>|z|</th>  <th>[0.025</th>    <th>0.975]</th>  \n",
       "</tr>\n",
       "<tr>\n",
       "  <th>Intercept</th>                                    <td>    0.2124</td> <td>    0.697</td> <td>    0.305</td> <td> 0.761</td> <td>   -1.155</td> <td>    1.579</td>\n",
       "</tr>\n",
       "<tr>\n",
       "  <th>security_neighborhood[T.Not very secure]</th>     <td>    0.4557</td> <td>    0.364</td> <td>    1.252</td> <td> 0.211</td> <td>   -0.258</td> <td>    1.169</td>\n",
       "</tr>\n",
       "<tr>\n",
       "  <th>security_neighborhood[T.Quite secure]</th>        <td>    1.0341</td> <td>    0.363</td> <td>    2.849</td> <td> 0.004</td> <td>    0.323</td> <td>    1.746</td>\n",
       "</tr>\n",
       "<tr>\n",
       "  <th>security_neighborhood[T.Very Secure]</th>         <td>    2.1720</td> <td>    0.837</td> <td>    2.595</td> <td> 0.009</td> <td>    0.532</td> <td>    3.812</td>\n",
       "</tr>\n",
       "<tr>\n",
       "  <th>health[T.Good]</th>                               <td>    0.9057</td> <td>    0.183</td> <td>    4.945</td> <td> 0.000</td> <td>    0.547</td> <td>    1.265</td>\n",
       "</tr>\n",
       "<tr>\n",
       "  <th>health[T.Poor]</th>                               <td>   -0.6766</td> <td>    0.228</td> <td>   -2.964</td> <td> 0.003</td> <td>   -1.124</td> <td>   -0.229</td>\n",
       "</tr>\n",
       "<tr>\n",
       "  <th>health[T.Very good]</th>                          <td>    1.3617</td> <td>    0.295</td> <td>    4.613</td> <td> 0.000</td> <td>    0.783</td> <td>    1.940</td>\n",
       "</tr>\n",
       "<tr>\n",
       "  <th>health[T.Very poor]</th>                          <td>   -1.1083</td> <td>    0.635</td> <td>   -1.746</td> <td> 0.081</td> <td>   -2.352</td> <td>    0.135</td>\n",
       "</tr>\n",
       "<tr>\n",
       "  <th>church_member[T.Don't belong]</th>                <td>   -1.1343</td> <td>    0.544</td> <td>   -2.086</td> <td> 0.037</td> <td>   -2.200</td> <td>   -0.069</td>\n",
       "</tr>\n",
       "<tr>\n",
       "  <th>church_member[T.Inactive member]</th>             <td>   -0.5191</td> <td>    0.602</td> <td>   -0.862</td> <td> 0.389</td> <td>   -1.700</td> <td>    0.661</td>\n",
       "</tr>\n",
       "<tr>\n",
       "  <th>internet_source[T.Less than monthly]</th>         <td>    0.0742</td> <td>    0.521</td> <td>    0.143</td> <td> 0.887</td> <td>   -0.946</td> <td>    1.095</td>\n",
       "</tr>\n",
       "<tr>\n",
       "  <th>internet_source[T.Monthly]</th>                   <td>   -0.2908</td> <td>    0.483</td> <td>   -0.602</td> <td> 0.547</td> <td>   -1.238</td> <td>    0.656</td>\n",
       "</tr>\n",
       "<tr>\n",
       "  <th>internet_source[T.Never]</th>                     <td>   -0.2937</td> <td>    0.199</td> <td>   -1.477</td> <td> 0.140</td> <td>   -0.683</td> <td>    0.096</td>\n",
       "</tr>\n",
       "<tr>\n",
       "  <th>internet_source[T.Weekly]</th>                    <td>   -0.4604</td> <td>    0.233</td> <td>   -1.980</td> <td> 0.048</td> <td>   -0.916</td> <td>   -0.005</td>\n",
       "</tr>\n",
       "<tr>\n",
       "  <th>marital_status[T.Living together as married]</th> <td>    0.1025</td> <td>    0.769</td> <td>    0.133</td> <td> 0.894</td> <td>   -1.404</td> <td>    1.609</td>\n",
       "</tr>\n",
       "<tr>\n",
       "  <th>marital_status[T.Married]</th>                    <td>    0.8436</td> <td>    0.315</td> <td>    2.682</td> <td> 0.007</td> <td>    0.227</td> <td>    1.460</td>\n",
       "</tr>\n",
       "<tr>\n",
       "  <th>marital_status[T.Separated]</th>                  <td>   -0.7152</td> <td>    1.001</td> <td>   -0.715</td> <td> 0.475</td> <td>   -2.676</td> <td>    1.246</td>\n",
       "</tr>\n",
       "<tr>\n",
       "  <th>marital_status[T.Single]</th>                     <td>    0.5570</td> <td>    0.387</td> <td>    1.441</td> <td> 0.150</td> <td>   -0.201</td> <td>    1.315</td>\n",
       "</tr>\n",
       "<tr>\n",
       "  <th>marital_status[T.Widowed]</th>                    <td>    1.4374</td> <td>    0.450</td> <td>    3.194</td> <td> 0.001</td> <td>    0.555</td> <td>    2.319</td>\n",
       "</tr>\n",
       "<tr>\n",
       "  <th>sex[T.Male]</th>                                  <td>   -0.2644</td> <td>    0.158</td> <td>   -1.670</td> <td> 0.095</td> <td>   -0.575</td> <td>    0.046</td>\n",
       "</tr>\n",
       "<tr>\n",
       "  <th>freedom_equality[T.Freedom]</th>                  <td>    0.4198</td> <td>    0.158</td> <td>    2.664</td> <td> 0.008</td> <td>    0.111</td> <td>    0.729</td>\n",
       "</tr>\n",
       "<tr>\n",
       "  <th>children_num</th>                                 <td>    0.1098</td> <td>    0.088</td> <td>    1.248</td> <td> 0.212</td> <td>   -0.063</td> <td>    0.282</td>\n",
       "</tr>\n",
       "<tr>\n",
       "  <th>F1</th>                                           <td>    0.0827</td> <td>    0.097</td> <td>    0.851</td> <td> 0.395</td> <td>   -0.108</td> <td>    0.273</td>\n",
       "</tr>\n",
       "<tr>\n",
       "  <th>F2</th>                                           <td>   -0.1800</td> <td>    0.100</td> <td>   -1.797</td> <td> 0.072</td> <td>   -0.376</td> <td>    0.016</td>\n",
       "</tr>\n",
       "<tr>\n",
       "  <th>F3</th>                                           <td>   -0.1517</td> <td>    0.094</td> <td>   -1.620</td> <td> 0.105</td> <td>   -0.335</td> <td>    0.032</td>\n",
       "</tr>\n",
       "<tr>\n",
       "  <th>F4</th>                                           <td>    0.0678</td> <td>    0.121</td> <td>    0.560</td> <td> 0.576</td> <td>   -0.170</td> <td>    0.305</td>\n",
       "</tr>\n",
       "</table>"
      ],
      "text/plain": [
       "<class 'statsmodels.iolib.summary.Summary'>\n",
       "\"\"\"\n",
       "                           Logit Regression Results                           \n",
       "==============================================================================\n",
       "Dep. Variable:           satisfaction   No. Observations:                 1142\n",
       "Model:                          Logit   Df Residuals:                     1116\n",
       "Method:                           MLE   Df Model:                           25\n",
       "Date:                Wed, 30 Mar 2022   Pseudo R-squ.:                  0.1323\n",
       "Time:                        13:55:53   Log-Likelihood:                -533.69\n",
       "converged:                       True   LL-Null:                       -615.06\n",
       "Covariance Type:            nonrobust   LLR p-value:                 3.665e-22\n",
       "================================================================================================================\n",
       "                                                   coef    std err          z      P>|z|      [0.025      0.975]\n",
       "----------------------------------------------------------------------------------------------------------------\n",
       "Intercept                                        0.2124      0.697      0.305      0.761      -1.155       1.579\n",
       "security_neighborhood[T.Not very secure]         0.4557      0.364      1.252      0.211      -0.258       1.169\n",
       "security_neighborhood[T.Quite secure]            1.0341      0.363      2.849      0.004       0.323       1.746\n",
       "security_neighborhood[T.Very Secure]             2.1720      0.837      2.595      0.009       0.532       3.812\n",
       "health[T.Good]                                   0.9057      0.183      4.945      0.000       0.547       1.265\n",
       "health[T.Poor]                                  -0.6766      0.228     -2.964      0.003      -1.124      -0.229\n",
       "health[T.Very good]                              1.3617      0.295      4.613      0.000       0.783       1.940\n",
       "health[T.Very poor]                             -1.1083      0.635     -1.746      0.081      -2.352       0.135\n",
       "church_member[T.Don't belong]                   -1.1343      0.544     -2.086      0.037      -2.200      -0.069\n",
       "church_member[T.Inactive member]                -0.5191      0.602     -0.862      0.389      -1.700       0.661\n",
       "internet_source[T.Less than monthly]             0.0742      0.521      0.143      0.887      -0.946       1.095\n",
       "internet_source[T.Monthly]                      -0.2908      0.483     -0.602      0.547      -1.238       0.656\n",
       "internet_source[T.Never]                        -0.2937      0.199     -1.477      0.140      -0.683       0.096\n",
       "internet_source[T.Weekly]                       -0.4604      0.233     -1.980      0.048      -0.916      -0.005\n",
       "marital_status[T.Living together as married]     0.1025      0.769      0.133      0.894      -1.404       1.609\n",
       "marital_status[T.Married]                        0.8436      0.315      2.682      0.007       0.227       1.460\n",
       "marital_status[T.Separated]                     -0.7152      1.001     -0.715      0.475      -2.676       1.246\n",
       "marital_status[T.Single]                         0.5570      0.387      1.441      0.150      -0.201       1.315\n",
       "marital_status[T.Widowed]                        1.4374      0.450      3.194      0.001       0.555       2.319\n",
       "sex[T.Male]                                     -0.2644      0.158     -1.670      0.095      -0.575       0.046\n",
       "freedom_equality[T.Freedom]                      0.4198      0.158      2.664      0.008       0.111       0.729\n",
       "children_num                                     0.1098      0.088      1.248      0.212      -0.063       0.282\n",
       "F1                                               0.0827      0.097      0.851      0.395      -0.108       0.273\n",
       "F2                                              -0.1800      0.100     -1.797      0.072      -0.376       0.016\n",
       "F3                                              -0.1517      0.094     -1.620      0.105      -0.335       0.032\n",
       "F4                                               0.0678      0.121      0.560      0.576      -0.170       0.305\n",
       "================================================================================================================\n",
       "\"\"\""
      ]
     },
     "execution_count": 174,
     "metadata": {},
     "output_type": "execute_result"
    }
   ],
   "source": [
    "log3 = logit(\"satisfaction ~ security_neighborhood + health + church_member + internet_source + marital_status + children_num + sex + freedom_equality + F1 + F2 + F3 + F4\", data=out).fit()\n",
    "log3.summary()"
   ]
  },
  {
   "cell_type": "code",
   "execution_count": 175,
   "id": "27497065",
   "metadata": {},
   "outputs": [
    {
     "data": {
      "text/html": [
       "<div>\n",
       "<style scoped>\n",
       "    .dataframe tbody tr th:only-of-type {\n",
       "        vertical-align: middle;\n",
       "    }\n",
       "\n",
       "    .dataframe tbody tr th {\n",
       "        vertical-align: top;\n",
       "    }\n",
       "\n",
       "    .dataframe thead th {\n",
       "        text-align: right;\n",
       "    }\n",
       "</style>\n",
       "<table border=\"1\" class=\"dataframe\">\n",
       "  <thead>\n",
       "    <tr style=\"text-align: right;\">\n",
       "      <th></th>\n",
       "      <th>odds ratio</th>\n",
       "      <th>0.025</th>\n",
       "      <th>0.095</th>\n",
       "    </tr>\n",
       "  </thead>\n",
       "  <tbody>\n",
       "    <tr>\n",
       "      <th>Intercept</th>\n",
       "      <td>1.236657</td>\n",
       "      <td>0.315202</td>\n",
       "      <td>4.851882</td>\n",
       "    </tr>\n",
       "    <tr>\n",
       "      <th>security_neighborhood[T.Not very secure]</th>\n",
       "      <td>1.577282</td>\n",
       "      <td>0.772748</td>\n",
       "      <td>3.219446</td>\n",
       "    </tr>\n",
       "    <tr>\n",
       "      <th>security_neighborhood[T.Quite secure]</th>\n",
       "      <td>2.812504</td>\n",
       "      <td>1.380748</td>\n",
       "      <td>5.728909</td>\n",
       "    </tr>\n",
       "    <tr>\n",
       "      <th>security_neighborhood[T.Very Secure]</th>\n",
       "      <td>8.775432</td>\n",
       "      <td>1.701940</td>\n",
       "      <td>45.247319</td>\n",
       "    </tr>\n",
       "    <tr>\n",
       "      <th>health[T.Good]</th>\n",
       "      <td>2.473557</td>\n",
       "      <td>1.727480</td>\n",
       "      <td>3.541854</td>\n",
       "    </tr>\n",
       "    <tr>\n",
       "      <th>health[T.Poor]</th>\n",
       "      <td>0.508348</td>\n",
       "      <td>0.324982</td>\n",
       "      <td>0.795176</td>\n",
       "    </tr>\n",
       "    <tr>\n",
       "      <th>health[T.Very good]</th>\n",
       "      <td>3.902943</td>\n",
       "      <td>2.188283</td>\n",
       "      <td>6.961148</td>\n",
       "    </tr>\n",
       "    <tr>\n",
       "      <th>health[T.Very poor]</th>\n",
       "      <td>0.330114</td>\n",
       "      <td>0.095168</td>\n",
       "      <td>1.145089</td>\n",
       "    </tr>\n",
       "    <tr>\n",
       "      <th>church_member[T.Don't belong]</th>\n",
       "      <td>0.321649</td>\n",
       "      <td>0.110809</td>\n",
       "      <td>0.933660</td>\n",
       "    </tr>\n",
       "    <tr>\n",
       "      <th>church_member[T.Inactive member]</th>\n",
       "      <td>0.595068</td>\n",
       "      <td>0.182767</td>\n",
       "      <td>1.937476</td>\n",
       "    </tr>\n",
       "    <tr>\n",
       "      <th>internet_source[T.Less than monthly]</th>\n",
       "      <td>1.077069</td>\n",
       "      <td>0.388170</td>\n",
       "      <td>2.988578</td>\n",
       "    </tr>\n",
       "    <tr>\n",
       "      <th>internet_source[T.Monthly]</th>\n",
       "      <td>0.747630</td>\n",
       "      <td>0.289945</td>\n",
       "      <td>1.927782</td>\n",
       "    </tr>\n",
       "    <tr>\n",
       "      <th>internet_source[T.Never]</th>\n",
       "      <td>0.745490</td>\n",
       "      <td>0.504884</td>\n",
       "      <td>1.100760</td>\n",
       "    </tr>\n",
       "    <tr>\n",
       "      <th>internet_source[T.Weekly]</th>\n",
       "      <td>0.631015</td>\n",
       "      <td>0.399996</td>\n",
       "      <td>0.995458</td>\n",
       "    </tr>\n",
       "    <tr>\n",
       "      <th>marital_status[T.Living together as married]</th>\n",
       "      <td>1.107950</td>\n",
       "      <td>0.245511</td>\n",
       "      <td>4.999995</td>\n",
       "    </tr>\n",
       "    <tr>\n",
       "      <th>marital_status[T.Married]</th>\n",
       "      <td>2.324666</td>\n",
       "      <td>1.254819</td>\n",
       "      <td>4.306655</td>\n",
       "    </tr>\n",
       "    <tr>\n",
       "      <th>marital_status[T.Separated]</th>\n",
       "      <td>0.489091</td>\n",
       "      <td>0.068816</td>\n",
       "      <td>3.476094</td>\n",
       "    </tr>\n",
       "    <tr>\n",
       "      <th>marital_status[T.Single]</th>\n",
       "      <td>1.745386</td>\n",
       "      <td>0.818171</td>\n",
       "      <td>3.723391</td>\n",
       "    </tr>\n",
       "    <tr>\n",
       "      <th>marital_status[T.Widowed]</th>\n",
       "      <td>4.209724</td>\n",
       "      <td>1.742460</td>\n",
       "      <td>10.170549</td>\n",
       "    </tr>\n",
       "    <tr>\n",
       "      <th>sex[T.Male]</th>\n",
       "      <td>0.767641</td>\n",
       "      <td>0.562796</td>\n",
       "      <td>1.047045</td>\n",
       "    </tr>\n",
       "    <tr>\n",
       "      <th>freedom_equality[T.Freedom]</th>\n",
       "      <td>1.521621</td>\n",
       "      <td>1.117326</td>\n",
       "      <td>2.072208</td>\n",
       "    </tr>\n",
       "    <tr>\n",
       "      <th>children_num</th>\n",
       "      <td>1.116048</td>\n",
       "      <td>0.939321</td>\n",
       "      <td>1.326025</td>\n",
       "    </tr>\n",
       "    <tr>\n",
       "      <th>F1</th>\n",
       "      <td>1.086196</td>\n",
       "      <td>0.897760</td>\n",
       "      <td>1.314185</td>\n",
       "    </tr>\n",
       "    <tr>\n",
       "      <th>F2</th>\n",
       "      <td>0.835271</td>\n",
       "      <td>0.686355</td>\n",
       "      <td>1.016496</td>\n",
       "    </tr>\n",
       "    <tr>\n",
       "      <th>F3</th>\n",
       "      <td>0.859283</td>\n",
       "      <td>0.715254</td>\n",
       "      <td>1.032316</td>\n",
       "    </tr>\n",
       "    <tr>\n",
       "      <th>F4</th>\n",
       "      <td>1.070205</td>\n",
       "      <td>0.843891</td>\n",
       "      <td>1.357211</td>\n",
       "    </tr>\n",
       "  </tbody>\n",
       "</table>\n",
       "</div>"
      ],
      "text/plain": [
       "                                              odds ratio     0.025      0.095\n",
       "Intercept                                       1.236657  0.315202   4.851882\n",
       "security_neighborhood[T.Not very secure]        1.577282  0.772748   3.219446\n",
       "security_neighborhood[T.Quite secure]           2.812504  1.380748   5.728909\n",
       "security_neighborhood[T.Very Secure]            8.775432  1.701940  45.247319\n",
       "health[T.Good]                                  2.473557  1.727480   3.541854\n",
       "health[T.Poor]                                  0.508348  0.324982   0.795176\n",
       "health[T.Very good]                             3.902943  2.188283   6.961148\n",
       "health[T.Very poor]                             0.330114  0.095168   1.145089\n",
       "church_member[T.Don't belong]                   0.321649  0.110809   0.933660\n",
       "church_member[T.Inactive member]                0.595068  0.182767   1.937476\n",
       "internet_source[T.Less than monthly]            1.077069  0.388170   2.988578\n",
       "internet_source[T.Monthly]                      0.747630  0.289945   1.927782\n",
       "internet_source[T.Never]                        0.745490  0.504884   1.100760\n",
       "internet_source[T.Weekly]                       0.631015  0.399996   0.995458\n",
       "marital_status[T.Living together as married]    1.107950  0.245511   4.999995\n",
       "marital_status[T.Married]                       2.324666  1.254819   4.306655\n",
       "marital_status[T.Separated]                     0.489091  0.068816   3.476094\n",
       "marital_status[T.Single]                        1.745386  0.818171   3.723391\n",
       "marital_status[T.Widowed]                       4.209724  1.742460  10.170549\n",
       "sex[T.Male]                                     0.767641  0.562796   1.047045\n",
       "freedom_equality[T.Freedom]                     1.521621  1.117326   2.072208\n",
       "children_num                                    1.116048  0.939321   1.326025\n",
       "F1                                              1.086196  0.897760   1.314185\n",
       "F2                                              0.835271  0.686355   1.016496\n",
       "F3                                              0.859283  0.715254   1.032316\n",
       "F4                                              1.070205  0.843891   1.357211"
      ]
     },
     "execution_count": 175,
     "metadata": {},
     "output_type": "execute_result"
    }
   ],
   "source": [
    "odds3 = pd.DataFrame()\n",
    "odds3['odds ratio'] = np.exp(log3.params)\n",
    "odds3 = pd.concat([odds3, np.exp(log3.conf_int())], axis=1)\n",
    "odds3.columns = ['odds ratio', '0.025', '0.095']\n",
    "odds3"
   ]
  },
  {
   "cell_type": "markdown",
   "id": "ec58832a",
   "metadata": {},
   "source": [
    "We see that all 4 factors are insignificant, their p-values are less than 0.05.\n",
    "\n",
    "The end."
   ]
  }
 ],
 "metadata": {
  "kernelspec": {
   "display_name": "Python 3 (ipykernel)",
   "language": "python",
   "name": "python3"
  },
  "language_info": {
   "codemirror_mode": {
    "name": "ipython",
    "version": 3
   },
   "file_extension": ".py",
   "mimetype": "text/x-python",
   "name": "python",
   "nbconvert_exporter": "python",
   "pygments_lexer": "ipython3",
   "version": "3.9.7"
  }
 },
 "nbformat": 4,
 "nbformat_minor": 5
}
